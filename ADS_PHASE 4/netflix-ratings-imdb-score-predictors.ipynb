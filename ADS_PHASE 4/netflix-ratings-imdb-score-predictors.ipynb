{
 "cells": [
  {
   "cell_type": "markdown",
   "id": "latin-economy",
   "metadata": {
    "papermill": {
     "duration": 0.098,
     "end_time": "2021-06-24T03:15:33.187950",
     "exception": false,
     "start_time": "2021-06-24T03:15:33.089950",
     "status": "completed"
    },
    "tags": []
   },
   "source": [
    "# Netflix Ratings: IMDB Score Predictors!"
   ]
  },
  {
   "cell_type": "markdown",
   "id": "documented-fever",
   "metadata": {
    "papermill": {
     "duration": 0.106554,
     "end_time": "2021-06-24T03:15:33.408938",
     "exception": false,
     "start_time": "2021-06-24T03:15:33.302384",
     "status": "completed"
    },
    "tags": []
   },
   "source": [
    "![Image of Netflix](https://help.nflxext.com/0af6ce3e-b27a-4722-a5f0-e32af4df3045_what_is_netflix_5_en.png)"
   ]
  },
  {
   "cell_type": "markdown",
   "id": "wicked-robertson",
   "metadata": {
    "papermill": {
     "duration": 0.093615,
     "end_time": "2021-06-24T03:15:33.597424",
     "exception": false,
     "start_time": "2021-06-24T03:15:33.503809",
     "status": "completed"
    },
    "tags": []
   },
   "source": [
    "# Looking at the 'Big Picture'..."
   ]
  },
  {
   "cell_type": "markdown",
   "id": "manufactured-jersey",
   "metadata": {
    "papermill": {
     "duration": 0.094169,
     "end_time": "2021-06-24T03:15:33.786099",
     "exception": false,
     "start_time": "2021-06-24T03:15:33.691930",
     "status": "completed"
    },
    "tags": []
   },
   "source": [
    "### Frame the Problem"
   ]
  },
  {
   "cell_type": "markdown",
   "id": "optical-accordance",
   "metadata": {
    "papermill": {
     "duration": 0.095175,
     "end_time": "2021-06-24T03:15:33.976028",
     "exception": false,
     "start_time": "2021-06-24T03:15:33.880853",
     "status": "completed"
    },
    "tags": []
   },
   "source": [
    "**What is the objective of this project?**\n",
    "The objective for this project is to look at trends in the Netflix library of original content.\n",
    "\n",
    "**How will the solution be used?**\n",
    "The output of this project should be able to predict the IMDB Score of a particular Netflix title based on a variety of qualitative (Genre, Director, Language) and quantitative (Runtime, Days Since Premiere) features.\n",
    "\n",
    "**How should the problem be framed?**\n",
    "We should use a regression algorithm as we are looking to predict a continuous quantitative measure."
   ]
  },
  {
   "cell_type": "markdown",
   "id": "selective-quarterly",
   "metadata": {
    "papermill": {
     "duration": 0.093879,
     "end_time": "2021-06-24T03:15:34.166449",
     "exception": false,
     "start_time": "2021-06-24T03:15:34.072570",
     "status": "completed"
    },
    "tags": []
   },
   "source": [
    "### Selecting a Performance Measure"
   ]
  },
  {
   "cell_type": "markdown",
   "id": "reflected-multiple",
   "metadata": {
    "papermill": {
     "duration": 0.094672,
     "end_time": "2021-06-24T03:15:34.355078",
     "exception": false,
     "start_time": "2021-06-24T03:15:34.260406",
     "status": "completed"
    },
    "tags": []
   },
   "source": [
    "**How should performance be measured?**\n",
    "Performance will be measured using Root Mean Squared Error and Mean Absolute Error. "
   ]
  },
  {
   "cell_type": "markdown",
   "id": "voluntary-accreditation",
   "metadata": {
    "papermill": {
     "duration": 0.09342,
     "end_time": "2021-06-24T03:15:34.542479",
     "exception": false,
     "start_time": "2021-06-24T03:15:34.449059",
     "status": "completed"
    },
    "tags": []
   },
   "source": [
    "$ RMSE(\\textbf{X}, \\textit{h}) = \\sqrt{\\frac{1}{m} \\sum_{i=1}^{m} ( h(\\textbf{X}^{(i)}) - y^{(i)} )^{2} } $\n",
    "\n",
    "$ MAE(\\textbf{X}, \\textit{h}) = \\frac{1}{m} \\sum_{i=1}^{m} | h(\\textbf{X}^{(i)}) - y^{(i)} |  $"
   ]
  },
  {
   "cell_type": "markdown",
   "id": "municipal-boxing",
   "metadata": {
    "papermill": {
     "duration": 0.093723,
     "end_time": "2021-06-24T03:15:34.730718",
     "exception": false,
     "start_time": "2021-06-24T03:15:34.636995",
     "status": "completed"
    },
    "tags": []
   },
   "source": [
    "**Is the performance measure aligned with business objectives?**\n",
    "The method of performance measurement should give *reasonable confidence* that the predictor is yielding results that give the best possible estimation based on the most impactful features."
   ]
  },
  {
   "cell_type": "markdown",
   "id": "headed-habitat",
   "metadata": {
    "papermill": {
     "duration": 0.094034,
     "end_time": "2021-06-24T03:15:34.919597",
     "exception": false,
     "start_time": "2021-06-24T03:15:34.825563",
     "status": "completed"
    },
    "tags": []
   },
   "source": [
    "### Other Discovery Questions\n",
    "\n",
    "* What would be the minimum performance needed to reach the business objective?\n",
    "* What are comparable problems? Can you resuse experience or tools?\n",
    "* Is human expertise available?\n",
    "* How would you solve the problem manually?\n",
    "* List the assumptions made so far\n",
    "* Verify assumptions if possible"
   ]
  },
  {
   "cell_type": "markdown",
   "id": "fatal-surname",
   "metadata": {
    "papermill": {
     "duration": 0.095409,
     "end_time": "2021-06-24T03:15:35.111833",
     "exception": false,
     "start_time": "2021-06-24T03:15:35.016424",
     "status": "completed"
    },
    "tags": []
   },
   "source": [
    "Load initial packages and set parameters for matplotlib"
   ]
  },
  {
   "cell_type": "code",
   "execution_count": 1,
   "id": "forced-deployment",
   "metadata": {
    "execution": {
     "iopub.execute_input": "2021-06-24T03:15:35.304350Z",
     "iopub.status.busy": "2021-06-24T03:15:35.303203Z",
     "iopub.status.idle": "2021-06-24T03:15:36.586677Z",
     "shell.execute_reply": "2021-06-24T03:15:36.587281Z",
     "shell.execute_reply.started": "2021-06-23T06:45:15.326185Z"
    },
    "papermill": {
     "duration": 1.381421,
     "end_time": "2021-06-24T03:15:36.587567",
     "exception": false,
     "start_time": "2021-06-24T03:15:35.206146",
     "status": "completed"
    },
    "tags": []
   },
   "outputs": [],
   "source": [
    "# To support both python 2 and python 3\n",
    "from __future__ import division, print_function, unicode_literals\n",
    "\n",
    "# Common imports\n",
    "import numpy as np #will need this to manipulate arrays\n",
    "import pandas as pd #will need this to handle DataFrames and Series\n",
    "import os #will help access file paths when retreiving data\n",
    "import datetime #will help handle dates\n",
    "from dateutil.relativedelta import relativedelta\n",
    "from datetime import date\n",
    "\n",
    "# To plot pretty figures\n",
    "%matplotlib inline\n",
    "import matplotlib\n",
    "import matplotlib.pyplot as plt\n",
    "plt.rcParams['axes.labelsize'] = 14\n",
    "plt.rcParams['xtick.labelsize'] = 12\n",
    "plt.rcParams['ytick.labelsize'] = 12\n",
    "\n",
    "import seaborn as sns\n",
    "from scipy import stats\n",
    "\n",
    "from sklearn.preprocessing import StandardScaler\n",
    "from sklearn.linear_model import LogisticRegression\n",
    "from sklearn.pipeline import make_pipeline\n",
    "from sklearn.datasets import load_iris\n",
    "from sklearn.model_selection import train_test_split\n",
    "from sklearn.metrics import accuracy_score\n",
    "\n",
    "# Where to save the figures\n",
    "PROJECT_ROOT_DIR = \".\"\n",
    "CHAPTER_ID = \"end_to_end_project\"\n",
    "IMAGES_PATH = os.path.join(PROJECT_ROOT_DIR, \"images\", CHAPTER_ID)\n",
    "\n",
    "def save_fig(fig_id, tight_layout=True, fig_extension=\"png\", resolution=300):\n",
    "    path = os.path.join(IMAGES_PATH, fig_id + \".\" + fig_extension)\n",
    "    print(\"Saving figure\", fig_id)\n",
    "    if tight_layout:\n",
    "        plt.tight_layout()\n",
    "    plt.savefig(path, format=fig_extension, dpi=resolution)\n",
    "\n",
    "# Ignore useless warnings (see SciPy issue #5998)\n",
    "import warnings\n",
    "warnings.filterwarnings(action=\"ignore\", module=\"scipy\", message=\"^internal gelsd\")"
   ]
  },
  {
   "cell_type": "markdown",
   "id": "invalid-information",
   "metadata": {
    "papermill": {
     "duration": 0.109174,
     "end_time": "2021-06-24T03:15:36.792085",
     "exception": false,
     "start_time": "2021-06-24T03:15:36.682911",
     "status": "completed"
    },
    "tags": []
   },
   "source": [
    "# Get the Data"
   ]
  },
  {
   "cell_type": "markdown",
   "id": "accompanied-draft",
   "metadata": {
    "papermill": {
     "duration": 0.111614,
     "end_time": "2021-06-24T03:15:37.005784",
     "exception": false,
     "start_time": "2021-06-24T03:15:36.894170",
     "status": "completed"
    },
    "tags": []
   },
   "source": [
    "**List the data you need and how much you need**\n",
    "\n",
    "Will need data from Netflix at the grain of single movies/shows/programs."
   ]
  },
  {
   "cell_type": "markdown",
   "id": "analyzed-young",
   "metadata": {
    "papermill": {
     "duration": 0.094414,
     "end_time": "2021-06-24T03:15:37.195992",
     "exception": false,
     "start_time": "2021-06-24T03:15:37.101578",
     "status": "completed"
    },
    "tags": []
   },
   "source": [
    "**Find and document where you can get that data**\n",
    "\n",
    "We can get the data from Kaggle. Here are some good candidates:\n",
    "\n",
    "https://www.kaggle.com/luiscorter/netflix-original-films-imdb-scores *[Using this so far]*\n",
    "\n",
    "https://www.kaggle.com/shivamb/netflix-shows *[TBD! Will use this in V2]*"
   ]
  },
  {
   "cell_type": "markdown",
   "id": "tough-wrapping",
   "metadata": {
    "papermill": {
     "duration": 0.09441,
     "end_time": "2021-06-24T03:15:37.384405",
     "exception": false,
     "start_time": "2021-06-24T03:15:37.289995",
     "status": "completed"
    },
    "tags": []
   },
   "source": [
    "**Other data questions to check**\n",
    "\n",
    "Check how much space it will take.\n",
    "\n",
    "Check legal obligations, and get authorization if necessary.\n",
    "\n",
    "Get access authorizations.\n",
    "\n",
    "Create workspace (with enough storage space)."
   ]
  },
  {
   "cell_type": "markdown",
   "id": "capable-rabbit",
   "metadata": {
    "papermill": {
     "duration": 0.094639,
     "end_time": "2021-06-24T03:15:37.576478",
     "exception": false,
     "start_time": "2021-06-24T03:15:37.481839",
     "status": "completed"
    },
    "tags": []
   },
   "source": [
    "**Get the data (forreal!)**\n",
    "\n",
    "Ok - now let's get the data. In this case I've saved this file to my local computer. Depending on the volume of data, it might be smarter to only extract some of this data."
   ]
  },
  {
   "cell_type": "code",
   "execution_count": 2,
   "id": "certified-access",
   "metadata": {
    "execution": {
     "iopub.execute_input": "2021-06-24T03:15:37.771457Z",
     "iopub.status.busy": "2021-06-24T03:15:37.770755Z",
     "iopub.status.idle": "2021-06-24T03:15:37.792708Z",
     "shell.execute_reply": "2021-06-24T03:15:37.792042Z",
     "shell.execute_reply.started": "2021-06-23T06:45:15.34522Z"
    },
    "papermill": {
     "duration": 0.122295,
     "end_time": "2021-06-24T03:15:37.792854",
     "exception": false,
     "start_time": "2021-06-24T03:15:37.670559",
     "status": "completed"
    },
    "tags": []
   },
   "outputs": [],
   "source": [
    "# init_path = '../input/netflix-original-films-imdb-scores/NetflixOriginals.csv'\n",
    "\n",
    "# read_csv('../input/netflix-original-films-imdb-scores/NetflixOriginals.csv')\n",
    "\n",
    "# for dirname, _, filenames in os.walk('/kaggle/input'):\n",
    "#     for filename in filenames:\n",
    "#         print(os.path.join(dirname, filename))\n",
    "        \n",
    "# /Users/blakenicholson/Documents/Personal/Coding/handson-ml/datasets/NetflixOriginals.csv\n",
    "\n",
    "HOUSING_PATH = '../input/netflix-original-films-imdb-scores/NetflixOriginals.csv'\n",
    "\n",
    "\n",
    "def load_netflixorigs_data(housing_path=HOUSING_PATH):\n",
    "    csv_path = housing_path\n",
    "    return pd.read_csv(csv_path)\n",
    "\n",
    "netflix_data = load_netflixorigs_data()\n"
   ]
  },
  {
   "cell_type": "markdown",
   "id": "abroad-constitution",
   "metadata": {
    "papermill": {
     "duration": 0.095204,
     "end_time": "2021-06-24T03:15:37.982603",
     "exception": false,
     "start_time": "2021-06-24T03:15:37.887399",
     "status": "completed"
    },
    "tags": []
   },
   "source": [
    "** Check how much space it will take **"
   ]
  },
  {
   "cell_type": "code",
   "execution_count": 3,
   "id": "superb-secretary",
   "metadata": {
    "execution": {
     "iopub.execute_input": "2021-06-24T03:15:38.175444Z",
     "iopub.status.busy": "2021-06-24T03:15:38.174802Z",
     "iopub.status.idle": "2021-06-24T03:15:38.183223Z",
     "shell.execute_reply": "2021-06-24T03:15:38.182652Z",
     "shell.execute_reply.started": "2021-06-23T06:45:15.380548Z"
    },
    "papermill": {
     "duration": 0.105158,
     "end_time": "2021-06-24T03:15:38.183364",
     "exception": false,
     "start_time": "2021-06-24T03:15:38.078206",
     "status": "completed"
    },
    "tags": []
   },
   "outputs": [
    {
     "data": {
      "text/plain": [
       "(584, 6)"
      ]
     },
     "execution_count": 3,
     "metadata": {},
     "output_type": "execute_result"
    }
   ],
   "source": [
    "netflix_data.shape"
   ]
  },
  {
   "cell_type": "markdown",
   "id": "jewish-chancellor",
   "metadata": {
    "papermill": {
     "duration": 0.097012,
     "end_time": "2021-06-24T03:15:38.376159",
     "exception": false,
     "start_time": "2021-06-24T03:15:38.279147",
     "status": "completed"
    },
    "tags": []
   },
   "source": [
    "## Checking out the data structure"
   ]
  },
  {
   "cell_type": "markdown",
   "id": "specified-surge",
   "metadata": {
    "papermill": {
     "duration": 0.095736,
     "end_time": "2021-06-24T03:15:38.570320",
     "exception": false,
     "start_time": "2021-06-24T03:15:38.474584",
     "status": "completed"
    },
    "tags": []
   },
   "source": [
    "Ideally before jumping into this step, we'd have asked the experts about the data.\n",
    "\n",
    "- Create a copy of the data for exploration.\n",
    "\n",
    "- Create a Jupyter Notebook to keep a record of your data exploration.\n",
    "\n",
    "- Study each attribute and its characterisitics:\n",
    "    - Name\n",
    "    - Type (categorical, int/float, bounded/unbounded, text, structured, etc.)\n",
    "    - % of missing values\n",
    "    - Noisiness and type of noise (stochastic, outliers, rounding errors, etc.)\n",
    "    - Possibly useful for the task\n",
    "    - Types of distribution (Gaussian, uniform, logarithmic, etc.)\n",
    "\n",
    "- For supervised learning tasks, identify the target attribute(s).\n",
    "    - Visualize the data\n",
    "    - Study the correlation between attributes.\n",
    "    - Study how you would solve the problem manually.\n",
    "    - Identfiy the promising transformations you may want to apply.\n",
    "    - Identify extra data that would be useful.\n",
    "    - Document what you learn."
   ]
  },
  {
   "cell_type": "markdown",
   "id": "employed-times",
   "metadata": {
    "papermill": {
     "duration": 0.09399,
     "end_time": "2021-06-24T03:15:38.758511",
     "exception": false,
     "start_time": "2021-06-24T03:15:38.664521",
     "status": "completed"
    },
    "tags": []
   },
   "source": [
    "**Prepare the Data**\n",
    "\n",
    "Notes:\n",
    "\n",
    "- Work on copies of the data (keep the original dataset intact)\n",
    "\n",
    "- Write functions for all data transformations you apply, for five reasons:\n",
    "    - So you can easily prepare the data the next time you get a fresh dataset\n",
    "    - So you can apply these transformations in future projects.\n",
    "    - To clean and prepare the test set.\n",
    "    - To clean and prepare new data instances once your solution is live.\n",
    "    - To make it easy to treat your preparation choices as hyperparameters."
   ]
  },
  {
   "cell_type": "markdown",
   "id": "incorrect-diamond",
   "metadata": {
    "papermill": {
     "duration": 0.14265,
     "end_time": "2021-06-24T03:15:38.996176",
     "exception": false,
     "start_time": "2021-06-24T03:15:38.853526",
     "status": "completed"
    },
    "tags": []
   },
   "source": [
    "1. Data cleaning:\n",
    "    - Fix or remove outliers (optional).\n",
    "    - Fill in missing values (e.g., with zero, mean, median,...) or drop their rows (or columns)\n",
    "\n",
    "2. Feature selection (optional):\n",
    "    - Drop the attributes that provide no useful information for the task.\n",
    "\n",
    "3. Feature Engineering, where appropriate:\n",
    "    - Discretize continuous features.\n",
    "    - Decompose features (e.g., categorical, date/time, etc.).\n",
    "    - Add promising transformations of features (e.g., log(x), sqrt(x), x^2, etc.)\n",
    "    - Aggregate features into promising new features.\n",
    "\n",
    "4. Feature scaling: standardize or normalize features."
   ]
  },
  {
   "cell_type": "markdown",
   "id": "smaller-compound",
   "metadata": {
    "papermill": {
     "duration": 0.095252,
     "end_time": "2021-06-24T03:15:39.188203",
     "exception": false,
     "start_time": "2021-06-24T03:15:39.092951",
     "status": "completed"
    },
    "tags": []
   },
   "source": [
    "Check out the first few rows in the dataframe"
   ]
  },
  {
   "cell_type": "code",
   "execution_count": 4,
   "id": "liked-benefit",
   "metadata": {
    "execution": {
     "iopub.execute_input": "2021-06-24T03:15:39.389255Z",
     "iopub.status.busy": "2021-06-24T03:15:39.388388Z",
     "iopub.status.idle": "2021-06-24T03:15:39.413485Z",
     "shell.execute_reply": "2021-06-24T03:15:39.413935Z",
     "shell.execute_reply.started": "2021-06-23T06:45:15.390699Z"
    },
    "papermill": {
     "duration": 0.131192,
     "end_time": "2021-06-24T03:15:39.414110",
     "exception": false,
     "start_time": "2021-06-24T03:15:39.282918",
     "status": "completed"
    },
    "tags": []
   },
   "outputs": [
    {
     "data": {
      "text/html": [
       "<div>\n",
       "<style scoped>\n",
       "    .dataframe tbody tr th:only-of-type {\n",
       "        vertical-align: middle;\n",
       "    }\n",
       "\n",
       "    .dataframe tbody tr th {\n",
       "        vertical-align: top;\n",
       "    }\n",
       "\n",
       "    .dataframe thead th {\n",
       "        text-align: right;\n",
       "    }\n",
       "</style>\n",
       "<table border=\"1\" class=\"dataframe\">\n",
       "  <thead>\n",
       "    <tr style=\"text-align: right;\">\n",
       "      <th></th>\n",
       "      <th>Title</th>\n",
       "      <th>Genre</th>\n",
       "      <th>Premiere</th>\n",
       "      <th>Runtime</th>\n",
       "      <th>IMDB Score</th>\n",
       "      <th>Language</th>\n",
       "    </tr>\n",
       "  </thead>\n",
       "  <tbody>\n",
       "    <tr>\n",
       "      <th>0</th>\n",
       "      <td>Enter the Anime</td>\n",
       "      <td>Documentary</td>\n",
       "      <td>August 5, 2019</td>\n",
       "      <td>58</td>\n",
       "      <td>2.5</td>\n",
       "      <td>English/Japanese</td>\n",
       "    </tr>\n",
       "    <tr>\n",
       "      <th>1</th>\n",
       "      <td>Dark Forces</td>\n",
       "      <td>Thriller</td>\n",
       "      <td>August 21, 2020</td>\n",
       "      <td>81</td>\n",
       "      <td>2.6</td>\n",
       "      <td>Spanish</td>\n",
       "    </tr>\n",
       "    <tr>\n",
       "      <th>2</th>\n",
       "      <td>The App</td>\n",
       "      <td>Science fiction/Drama</td>\n",
       "      <td>December 26, 2019</td>\n",
       "      <td>79</td>\n",
       "      <td>2.6</td>\n",
       "      <td>Italian</td>\n",
       "    </tr>\n",
       "    <tr>\n",
       "      <th>3</th>\n",
       "      <td>The Open House</td>\n",
       "      <td>Horror thriller</td>\n",
       "      <td>January 19, 2018</td>\n",
       "      <td>94</td>\n",
       "      <td>3.2</td>\n",
       "      <td>English</td>\n",
       "    </tr>\n",
       "    <tr>\n",
       "      <th>4</th>\n",
       "      <td>Kaali Khuhi</td>\n",
       "      <td>Mystery</td>\n",
       "      <td>October 30, 2020</td>\n",
       "      <td>90</td>\n",
       "      <td>3.4</td>\n",
       "      <td>Hindi</td>\n",
       "    </tr>\n",
       "  </tbody>\n",
       "</table>\n",
       "</div>"
      ],
      "text/plain": [
       "             Title                  Genre           Premiere  Runtime  \\\n",
       "0  Enter the Anime            Documentary     August 5, 2019       58   \n",
       "1      Dark Forces               Thriller    August 21, 2020       81   \n",
       "2          The App  Science fiction/Drama  December 26, 2019       79   \n",
       "3   The Open House        Horror thriller   January 19, 2018       94   \n",
       "4      Kaali Khuhi                Mystery   October 30, 2020       90   \n",
       "\n",
       "   IMDB Score          Language  \n",
       "0         2.5  English/Japanese  \n",
       "1         2.6           Spanish  \n",
       "2         2.6           Italian  \n",
       "3         3.2           English  \n",
       "4         3.4             Hindi  "
      ]
     },
     "execution_count": 4,
     "metadata": {},
     "output_type": "execute_result"
    }
   ],
   "source": [
    "netflix_data.head()"
   ]
  },
  {
   "cell_type": "markdown",
   "id": "formal-champion",
   "metadata": {
    "papermill": {
     "duration": 0.096431,
     "end_time": "2021-06-24T03:15:39.605949",
     "exception": false,
     "start_time": "2021-06-24T03:15:39.509518",
     "status": "completed"
    },
    "tags": []
   },
   "source": [
    "Look at the descriptive statistics of the dataframe"
   ]
  },
  {
   "cell_type": "code",
   "execution_count": 5,
   "id": "incoming-yugoslavia",
   "metadata": {
    "execution": {
     "iopub.execute_input": "2021-06-24T03:15:39.802016Z",
     "iopub.status.busy": "2021-06-24T03:15:39.801051Z",
     "iopub.status.idle": "2021-06-24T03:15:39.823248Z",
     "shell.execute_reply": "2021-06-24T03:15:39.823701Z",
     "shell.execute_reply.started": "2021-06-23T06:45:15.413455Z"
    },
    "papermill": {
     "duration": 0.1212,
     "end_time": "2021-06-24T03:15:39.823911",
     "exception": false,
     "start_time": "2021-06-24T03:15:39.702711",
     "status": "completed"
    },
    "tags": []
   },
   "outputs": [
    {
     "data": {
      "text/html": [
       "<div>\n",
       "<style scoped>\n",
       "    .dataframe tbody tr th:only-of-type {\n",
       "        vertical-align: middle;\n",
       "    }\n",
       "\n",
       "    .dataframe tbody tr th {\n",
       "        vertical-align: top;\n",
       "    }\n",
       "\n",
       "    .dataframe thead th {\n",
       "        text-align: right;\n",
       "    }\n",
       "</style>\n",
       "<table border=\"1\" class=\"dataframe\">\n",
       "  <thead>\n",
       "    <tr style=\"text-align: right;\">\n",
       "      <th></th>\n",
       "      <th>Runtime</th>\n",
       "      <th>IMDB Score</th>\n",
       "    </tr>\n",
       "  </thead>\n",
       "  <tbody>\n",
       "    <tr>\n",
       "      <th>count</th>\n",
       "      <td>584.000000</td>\n",
       "      <td>584.000000</td>\n",
       "    </tr>\n",
       "    <tr>\n",
       "      <th>mean</th>\n",
       "      <td>93.577055</td>\n",
       "      <td>6.271747</td>\n",
       "    </tr>\n",
       "    <tr>\n",
       "      <th>std</th>\n",
       "      <td>27.761683</td>\n",
       "      <td>0.979256</td>\n",
       "    </tr>\n",
       "    <tr>\n",
       "      <th>min</th>\n",
       "      <td>4.000000</td>\n",
       "      <td>2.500000</td>\n",
       "    </tr>\n",
       "    <tr>\n",
       "      <th>25%</th>\n",
       "      <td>86.000000</td>\n",
       "      <td>5.700000</td>\n",
       "    </tr>\n",
       "    <tr>\n",
       "      <th>50%</th>\n",
       "      <td>97.000000</td>\n",
       "      <td>6.350000</td>\n",
       "    </tr>\n",
       "    <tr>\n",
       "      <th>75%</th>\n",
       "      <td>108.000000</td>\n",
       "      <td>7.000000</td>\n",
       "    </tr>\n",
       "    <tr>\n",
       "      <th>max</th>\n",
       "      <td>209.000000</td>\n",
       "      <td>9.000000</td>\n",
       "    </tr>\n",
       "  </tbody>\n",
       "</table>\n",
       "</div>"
      ],
      "text/plain": [
       "          Runtime  IMDB Score\n",
       "count  584.000000  584.000000\n",
       "mean    93.577055    6.271747\n",
       "std     27.761683    0.979256\n",
       "min      4.000000    2.500000\n",
       "25%     86.000000    5.700000\n",
       "50%     97.000000    6.350000\n",
       "75%    108.000000    7.000000\n",
       "max    209.000000    9.000000"
      ]
     },
     "execution_count": 5,
     "metadata": {},
     "output_type": "execute_result"
    }
   ],
   "source": [
    "netflix_data.describe()"
   ]
  },
  {
   "cell_type": "code",
   "execution_count": 6,
   "id": "gross-netherlands",
   "metadata": {
    "execution": {
     "iopub.execute_input": "2021-06-24T03:15:40.023074Z",
     "iopub.status.busy": "2021-06-24T03:15:40.022114Z",
     "iopub.status.idle": "2021-06-24T03:15:40.029730Z",
     "shell.execute_reply": "2021-06-24T03:15:40.029008Z",
     "shell.execute_reply.started": "2021-06-23T06:45:15.433818Z"
    },
    "papermill": {
     "duration": 0.109729,
     "end_time": "2021-06-24T03:15:40.029938",
     "exception": false,
     "start_time": "2021-06-24T03:15:39.920209",
     "status": "completed"
    },
    "tags": []
   },
   "outputs": [
    {
     "name": "stdout",
     "output_type": "stream",
     "text": [
      "Mean of Runtime: 93.57705479452055\n"
     ]
    }
   ],
   "source": [
    "print('Mean of Runtime: {0}'.format(np.mean(netflix_data['Runtime'])))"
   ]
  },
  {
   "cell_type": "markdown",
   "id": "architectural-teacher",
   "metadata": {
    "papermill": {
     "duration": 0.096323,
     "end_time": "2021-06-24T03:15:40.224064",
     "exception": false,
     "start_time": "2021-06-24T03:15:40.127741",
     "status": "completed"
    },
    "tags": []
   },
   "source": [
    "The first thing we notice is that we only have two continuous measures (*Runtime* and *IMDB Score*), so we may need to create more features to work with."
   ]
  },
  {
   "cell_type": "code",
   "execution_count": 7,
   "id": "requested-robinson",
   "metadata": {
    "execution": {
     "iopub.execute_input": "2021-06-24T03:15:40.420008Z",
     "iopub.status.busy": "2021-06-24T03:15:40.419311Z",
     "iopub.status.idle": "2021-06-24T03:15:40.437002Z",
     "shell.execute_reply": "2021-06-24T03:15:40.438036Z",
     "shell.execute_reply.started": "2021-06-23T06:45:15.440934Z"
    },
    "papermill": {
     "duration": 0.117824,
     "end_time": "2021-06-24T03:15:40.438349",
     "exception": false,
     "start_time": "2021-06-24T03:15:40.320525",
     "status": "completed"
    },
    "tags": []
   },
   "outputs": [
    {
     "name": "stdout",
     "output_type": "stream",
     "text": [
      "<class 'pandas.core.frame.DataFrame'>\n",
      "RangeIndex: 584 entries, 0 to 583\n",
      "Data columns (total 6 columns):\n",
      " #   Column      Non-Null Count  Dtype  \n",
      "---  ------      --------------  -----  \n",
      " 0   Title       584 non-null    object \n",
      " 1   Genre       584 non-null    object \n",
      " 2   Premiere    584 non-null    object \n",
      " 3   Runtime     584 non-null    int64  \n",
      " 4   IMDB Score  584 non-null    float64\n",
      " 5   Language    584 non-null    object \n",
      "dtypes: float64(1), int64(1), object(4)\n",
      "memory usage: 27.5+ KB\n"
     ]
    }
   ],
   "source": [
    "netflix_data.info()"
   ]
  },
  {
   "cell_type": "markdown",
   "id": "valid-blast",
   "metadata": {
    "papermill": {
     "duration": 0.097111,
     "end_time": "2021-06-24T03:15:40.633227",
     "exception": false,
     "start_time": "2021-06-24T03:15:40.536116",
     "status": "completed"
    },
    "tags": []
   },
   "source": [
    "We are going to create another continuous feature that looks at the number of days between the Premiere date and today's date. We will create the 'days_since_premiere' column and add it back into our dataframe."
   ]
  },
  {
   "cell_type": "code",
   "execution_count": 8,
   "id": "specialized-priest",
   "metadata": {
    "execution": {
     "iopub.execute_input": "2021-06-24T03:15:40.861403Z",
     "iopub.status.busy": "2021-06-24T03:15:40.856433Z",
     "iopub.status.idle": "2021-06-24T03:15:40.924265Z",
     "shell.execute_reply": "2021-06-24T03:15:40.923704Z",
     "shell.execute_reply.started": "2021-06-23T06:45:15.465893Z"
    },
    "papermill": {
     "duration": 0.193466,
     "end_time": "2021-06-24T03:15:40.924429",
     "exception": false,
     "start_time": "2021-06-24T03:15:40.730963",
     "status": "completed"
    },
    "scrolled": true,
    "tags": []
   },
   "outputs": [
    {
     "data": {
      "text/html": [
       "<div>\n",
       "<style scoped>\n",
       "    .dataframe tbody tr th:only-of-type {\n",
       "        vertical-align: middle;\n",
       "    }\n",
       "\n",
       "    .dataframe tbody tr th {\n",
       "        vertical-align: top;\n",
       "    }\n",
       "\n",
       "    .dataframe thead th {\n",
       "        text-align: right;\n",
       "    }\n",
       "</style>\n",
       "<table border=\"1\" class=\"dataframe\">\n",
       "  <thead>\n",
       "    <tr style=\"text-align: right;\">\n",
       "      <th></th>\n",
       "      <th>Title</th>\n",
       "      <th>Genre</th>\n",
       "      <th>Premiere</th>\n",
       "      <th>Runtime</th>\n",
       "      <th>IMDB Score</th>\n",
       "      <th>Language</th>\n",
       "      <th>days_since_premiere</th>\n",
       "    </tr>\n",
       "  </thead>\n",
       "  <tbody>\n",
       "    <tr>\n",
       "      <th>0</th>\n",
       "      <td>Enter the Anime</td>\n",
       "      <td>Documentary</td>\n",
       "      <td>August 5, 2019</td>\n",
       "      <td>58</td>\n",
       "      <td>2.5</td>\n",
       "      <td>English/Japanese</td>\n",
       "      <td>689.0</td>\n",
       "    </tr>\n",
       "    <tr>\n",
       "      <th>1</th>\n",
       "      <td>Dark Forces</td>\n",
       "      <td>Thriller</td>\n",
       "      <td>August 21, 2020</td>\n",
       "      <td>81</td>\n",
       "      <td>2.6</td>\n",
       "      <td>Spanish</td>\n",
       "      <td>307.0</td>\n",
       "    </tr>\n",
       "    <tr>\n",
       "      <th>2</th>\n",
       "      <td>The App</td>\n",
       "      <td>Science fiction/Drama</td>\n",
       "      <td>December 26, 2019</td>\n",
       "      <td>79</td>\n",
       "      <td>2.6</td>\n",
       "      <td>Italian</td>\n",
       "      <td>546.0</td>\n",
       "    </tr>\n",
       "    <tr>\n",
       "      <th>3</th>\n",
       "      <td>The Open House</td>\n",
       "      <td>Horror thriller</td>\n",
       "      <td>January 19, 2018</td>\n",
       "      <td>94</td>\n",
       "      <td>3.2</td>\n",
       "      <td>English</td>\n",
       "      <td>1252.0</td>\n",
       "    </tr>\n",
       "    <tr>\n",
       "      <th>4</th>\n",
       "      <td>Kaali Khuhi</td>\n",
       "      <td>Mystery</td>\n",
       "      <td>October 30, 2020</td>\n",
       "      <td>90</td>\n",
       "      <td>3.4</td>\n",
       "      <td>Hindi</td>\n",
       "      <td>237.0</td>\n",
       "    </tr>\n",
       "  </tbody>\n",
       "</table>\n",
       "</div>"
      ],
      "text/plain": [
       "             Title                  Genre           Premiere  Runtime  \\\n",
       "0  Enter the Anime            Documentary     August 5, 2019       58   \n",
       "1      Dark Forces               Thriller    August 21, 2020       81   \n",
       "2          The App  Science fiction/Drama  December 26, 2019       79   \n",
       "3   The Open House        Horror thriller   January 19, 2018       94   \n",
       "4      Kaali Khuhi                Mystery   October 30, 2020       90   \n",
       "\n",
       "   IMDB Score          Language  days_since_premiere  \n",
       "0         2.5  English/Japanese                689.0  \n",
       "1         2.6           Spanish                307.0  \n",
       "2         2.6           Italian                546.0  \n",
       "3         3.2           English               1252.0  \n",
       "4         3.4             Hindi                237.0  "
      ]
     },
     "execution_count": 8,
     "metadata": {},
     "output_type": "execute_result"
    }
   ],
   "source": [
    "date1 = netflix_data[\"Premiere\"]\n",
    "date2 = pd.Series(data=date.today(), index=np.arange(len(date1)), name=\"Today\").values.astype('datetime64[D]')\n",
    "date1 = pd.to_datetime(date1).values.astype('datetime64[D]')\n",
    "date_df = pd.DataFrame(dict(Start_date = date1, End_date = date2))\n",
    "date_df['diff_days'] = date_df['End_date'] - date_df['Start_date']\n",
    "date_df['diff_days'] = date_df['diff_days'] / np.timedelta64(1,'D')\n",
    "netflix_data['days_since_premiere'] = date_df['diff_days']\n",
    "netflix_data.head()"
   ]
  },
  {
   "cell_type": "markdown",
   "id": "vital-mexico",
   "metadata": {
    "papermill": {
     "duration": 0.097015,
     "end_time": "2021-06-24T03:15:41.120103",
     "exception": false,
     "start_time": "2021-06-24T03:15:41.023088",
     "status": "completed"
    },
    "tags": []
   },
   "source": [
    "Let's now look at some histograms of each measure to see what our distributions look like. IMDB Score and Runtime both seem to follow a normal distribution but days_since_premiere seems to follow a negative linear trend (which makes sense as more time goes by and the oldest movies continue to get older)."
   ]
  },
  {
   "cell_type": "code",
   "execution_count": 9,
   "id": "radical-switch",
   "metadata": {
    "execution": {
     "iopub.execute_input": "2021-06-24T03:15:41.325841Z",
     "iopub.status.busy": "2021-06-24T03:15:41.325179Z",
     "iopub.status.idle": "2021-06-24T03:15:42.237167Z",
     "shell.execute_reply": "2021-06-24T03:15:42.237640Z",
     "shell.execute_reply.started": "2021-06-23T06:45:15.561138Z"
    },
    "papermill": {
     "duration": 1.020268,
     "end_time": "2021-06-24T03:15:42.237818",
     "exception": false,
     "start_time": "2021-06-24T03:15:41.217550",
     "status": "completed"
    },
    "scrolled": true,
    "tags": []
   },
   "outputs": [
    {
     "name": "stderr",
     "output_type": "stream",
     "text": [
      "/opt/conda/lib/python3.7/site-packages/pandas/plotting/_matplotlib/tools.py:400: MatplotlibDeprecationWarning: \n",
      "The is_first_col function was deprecated in Matplotlib 3.4 and will be removed two minor releases later. Use ax.get_subplotspec().is_first_col() instead.\n",
      "  if ax.is_first_col():\n"
     ]
    },
    {
     "data": {
      "image/png": "[encoded data removed]",
      "text/plain": [
       "<Figure size 1440x1080 with 4 Axes>"
      ]
     },
     "metadata": {
      "needs_background": "light"
     },
     "output_type": "display_data"
    }
   ],
   "source": [
    "%matplotlib inline\n",
    "import matplotlib.pyplot as plt\n",
    "netflix_data.hist(bins=50, figsize=(20,15))\n",
    "# save_fig(\"melb_attribute_histogram_plots\")\n",
    "plt.show()"
   ]
  },
  {
   "cell_type": "code",
   "execution_count": 10,
   "id": "figured-compiler",
   "metadata": {
    "execution": {
     "iopub.execute_input": "2021-06-24T03:15:42.456300Z",
     "iopub.status.busy": "2021-06-24T03:15:42.455623Z",
     "iopub.status.idle": "2021-06-24T03:15:42.702086Z",
     "shell.execute_reply": "2021-06-24T03:15:42.702674Z",
     "shell.execute_reply.started": "2021-06-23T06:45:16.319541Z"
    },
    "papermill": {
     "duration": 0.365572,
     "end_time": "2021-06-24T03:15:42.702900",
     "exception": false,
     "start_time": "2021-06-24T03:15:42.337328",
     "status": "completed"
    },
    "scrolled": true,
    "tags": []
   },
   "outputs": [
    {
     "name": "stderr",
     "output_type": "stream",
     "text": [
      "/opt/conda/lib/python3.7/site-packages/seaborn/distributions.py:2557: FutureWarning: `distplot` is a deprecated function and will be removed in a future version. Please adapt your code to use either `displot` (a figure-level function with similar flexibility) or `histplot` (an axes-level function for histograms).\n",
      "  warnings.warn(msg, FutureWarning)\n"
     ]
    },
    {
     "data": {
      "text/plain": [
       "<AxesSubplot:xlabel='Runtime', ylabel='Density'>"
      ]
     },
     "execution_count": 10,
     "metadata": {},
     "output_type": "execute_result"
    },
    {
     "data": {
      "image/png": "[encoded data removed]",
      "text/plain": [
       "<Figure size 720x288 with 1 Axes>"
      ]
     },
     "metadata": {
      "needs_background": "light"
     },
     "output_type": "display_data"
    }
   ],
   "source": [
    "# netflix_data[\"Runtime\"].hist(bins=100)\n",
    "\n",
    "fig, ax = plt.subplots(1,1,figsize=(10, 4))\n",
    "\n",
    "sns.distplot(netflix_data['Runtime'])"
   ]
  },
  {
   "cell_type": "code",
   "execution_count": 11,
   "id": "chinese-certification",
   "metadata": {
    "execution": {
     "iopub.execute_input": "2021-06-24T03:15:42.906708Z",
     "iopub.status.busy": "2021-06-24T03:15:42.906067Z",
     "iopub.status.idle": "2021-06-24T03:15:42.918542Z",
     "shell.execute_reply": "2021-06-24T03:15:42.919024Z",
     "shell.execute_reply.started": "2021-06-23T06:45:16.558175Z"
    },
    "papermill": {
     "duration": 0.115777,
     "end_time": "2021-06-24T03:15:42.919210",
     "exception": false,
     "start_time": "2021-06-24T03:15:42.803433",
     "status": "completed"
    },
    "scrolled": true,
    "tags": []
   },
   "outputs": [
    {
     "data": {
      "text/html": [
       "<div>\n",
       "<style scoped>\n",
       "    .dataframe tbody tr th:only-of-type {\n",
       "        vertical-align: middle;\n",
       "    }\n",
       "\n",
       "    .dataframe tbody tr th {\n",
       "        vertical-align: top;\n",
       "    }\n",
       "\n",
       "    .dataframe thead th {\n",
       "        text-align: right;\n",
       "    }\n",
       "</style>\n",
       "<table border=\"1\" class=\"dataframe\">\n",
       "  <thead>\n",
       "    <tr style=\"text-align: right;\">\n",
       "      <th></th>\n",
       "      <th>Runtime</th>\n",
       "      <th>IMDB Score</th>\n",
       "      <th>days_since_premiere</th>\n",
       "    </tr>\n",
       "  </thead>\n",
       "  <tbody>\n",
       "    <tr>\n",
       "      <th>Runtime</th>\n",
       "      <td>1.000000</td>\n",
       "      <td>-0.040896</td>\n",
       "      <td>-0.063521</td>\n",
       "    </tr>\n",
       "    <tr>\n",
       "      <th>IMDB Score</th>\n",
       "      <td>-0.040896</td>\n",
       "      <td>1.000000</td>\n",
       "      <td>0.122174</td>\n",
       "    </tr>\n",
       "    <tr>\n",
       "      <th>days_since_premiere</th>\n",
       "      <td>-0.063521</td>\n",
       "      <td>0.122174</td>\n",
       "      <td>1.000000</td>\n",
       "    </tr>\n",
       "  </tbody>\n",
       "</table>\n",
       "</div>"
      ],
      "text/plain": [
       "                      Runtime  IMDB Score  days_since_premiere\n",
       "Runtime              1.000000   -0.040896            -0.063521\n",
       "IMDB Score          -0.040896    1.000000             0.122174\n",
       "days_since_premiere -0.063521    0.122174             1.000000"
      ]
     },
     "execution_count": 11,
     "metadata": {},
     "output_type": "execute_result"
    }
   ],
   "source": [
    "netflix_data.corr()"
   ]
  },
  {
   "cell_type": "code",
   "execution_count": 12,
   "id": "ethical-penalty",
   "metadata": {
    "execution": {
     "iopub.execute_input": "2021-06-24T03:15:43.129815Z",
     "iopub.status.busy": "2021-06-24T03:15:43.128833Z",
     "iopub.status.idle": "2021-06-24T03:15:43.281368Z",
     "shell.execute_reply": "2021-06-24T03:15:43.280812Z",
     "shell.execute_reply.started": "2021-06-23T06:45:16.571849Z"
    },
    "papermill": {
     "duration": 0.26108,
     "end_time": "2021-06-24T03:15:43.281526",
     "exception": false,
     "start_time": "2021-06-24T03:15:43.020446",
     "status": "completed"
    },
    "tags": []
   },
   "outputs": [
    {
     "data": {
      "text/plain": [
       "<AxesSubplot:xlabel='IMDB Score', ylabel='Runtime'>"
      ]
     },
     "execution_count": 12,
     "metadata": {},
     "output_type": "execute_result"
    },
    {
     "data": {
      "image/png": "[encoded data removed]",
      "text/plain": [
       "<Figure size 432x288 with 1 Axes>"
      ]
     },
     "metadata": {
      "needs_background": "light"
     },
     "output_type": "display_data"
    }
   ],
   "source": [
    "netflix_data.plot(kind=\"scatter\", x=\"IMDB Score\", y=\"Runtime\", alpha=0.4, s=netflix_data[\"Runtime\"]/10)"
   ]
  },
  {
   "cell_type": "code",
   "execution_count": 13,
   "id": "pacific-terror",
   "metadata": {
    "execution": {
     "iopub.execute_input": "2021-06-24T03:15:43.526115Z",
     "iopub.status.busy": "2021-06-24T03:15:43.523404Z",
     "iopub.status.idle": "2021-06-24T03:15:43.654744Z",
     "shell.execute_reply": "2021-06-24T03:15:43.654097Z",
     "shell.execute_reply.started": "2021-06-23T06:45:16.744807Z"
    },
    "papermill": {
     "duration": 0.270777,
     "end_time": "2021-06-24T03:15:43.654883",
     "exception": false,
     "start_time": "2021-06-24T03:15:43.384106",
     "status": "completed"
    },
    "tags": []
   },
   "outputs": [
    {
     "data": {
      "text/plain": [
       "<AxesSubplot:xlabel='IMDB Score', ylabel='days_since_premiere'>"
      ]
     },
     "execution_count": 13,
     "metadata": {},
     "output_type": "execute_result"
    },
    {
     "data": {
      "image/png": "[encoded data removed]",
      "text/plain": [
       "<Figure size 432x288 with 1 Axes>"
      ]
     },
     "metadata": {
      "needs_background": "light"
     },
     "output_type": "display_data"
    }
   ],
   "source": [
    "netflix_data.plot(kind=\"scatter\", x=\"IMDB Score\", y=\"days_since_premiere\", alpha=0.4, s=netflix_data[\"Runtime\"]/10)"
   ]
  },
  {
   "cell_type": "markdown",
   "id": "editorial-washer",
   "metadata": {
    "papermill": {
     "duration": 0.103895,
     "end_time": "2021-06-24T03:15:43.863519",
     "exception": false,
     "start_time": "2021-06-24T03:15:43.759624",
     "status": "completed"
    },
    "tags": []
   },
   "source": [
    "# Create a Test Set"
   ]
  },
  {
   "cell_type": "code",
   "execution_count": 14,
   "id": "overhead-diana",
   "metadata": {
    "execution": {
     "iopub.execute_input": "2021-06-24T03:15:44.082186Z",
     "iopub.status.busy": "2021-06-24T03:15:44.081527Z",
     "iopub.status.idle": "2021-06-24T03:15:44.084010Z",
     "shell.execute_reply": "2021-06-24T03:15:44.083403Z",
     "shell.execute_reply.started": "2021-06-23T06:45:16.919058Z"
    },
    "papermill": {
     "duration": 0.115304,
     "end_time": "2021-06-24T03:15:44.084149",
     "exception": false,
     "start_time": "2021-06-24T03:15:43.968845",
     "status": "completed"
    },
    "tags": []
   },
   "outputs": [],
   "source": [
    "from sklearn.model_selection import train_test_split\n",
    "\n",
    "train_set, test_set = train_test_split(netflix_data, test_size=0.2, random_state=42)"
   ]
  },
  {
   "cell_type": "code",
   "execution_count": 15,
   "id": "published-guatemala",
   "metadata": {
    "execution": {
     "iopub.execute_input": "2021-06-24T03:15:44.319111Z",
     "iopub.status.busy": "2021-06-24T03:15:44.318258Z",
     "iopub.status.idle": "2021-06-24T03:15:44.323517Z",
     "shell.execute_reply": "2021-06-24T03:15:44.322867Z",
     "shell.execute_reply.started": "2021-06-23T06:45:16.927841Z"
    },
    "papermill": {
     "duration": 0.134234,
     "end_time": "2021-06-24T03:15:44.323659",
     "exception": false,
     "start_time": "2021-06-24T03:15:44.189425",
     "status": "completed"
    },
    "tags": []
   },
   "outputs": [
    {
     "name": "stdout",
     "output_type": "stream",
     "text": [
      "467 train + 117 test\n"
     ]
    }
   ],
   "source": [
    "print(len(train_set), \"train +\", len(test_set), \"test\")"
   ]
  },
  {
   "cell_type": "code",
   "execution_count": 16,
   "id": "treated-above",
   "metadata": {
    "execution": {
     "iopub.execute_input": "2021-06-24T03:15:44.549543Z",
     "iopub.status.busy": "2021-06-24T03:15:44.548693Z",
     "iopub.status.idle": "2021-06-24T03:15:44.552224Z",
     "shell.execute_reply": "2021-06-24T03:15:44.552722Z",
     "shell.execute_reply.started": "2021-06-23T06:45:16.94387Z"
    },
    "papermill": {
     "duration": 0.116194,
     "end_time": "2021-06-24T03:15:44.552913",
     "exception": false,
     "start_time": "2021-06-24T03:15:44.436719",
     "status": "completed"
    },
    "tags": []
   },
   "outputs": [
    {
     "data": {
      "text/plain": [
       "(117, 7)"
      ]
     },
     "execution_count": 16,
     "metadata": {},
     "output_type": "execute_result"
    }
   ],
   "source": [
    "test_set.head()\n",
    "test_set.shape"
   ]
  },
  {
   "cell_type": "code",
   "execution_count": 17,
   "id": "designing-catch",
   "metadata": {
    "execution": {
     "iopub.execute_input": "2021-06-24T03:15:44.768327Z",
     "iopub.status.busy": "2021-06-24T03:15:44.767256Z",
     "iopub.status.idle": "2021-06-24T03:15:44.772761Z",
     "shell.execute_reply": "2021-06-24T03:15:44.773242Z",
     "shell.execute_reply.started": "2021-06-23T06:45:16.964531Z"
    },
    "papermill": {
     "duration": 0.115188,
     "end_time": "2021-06-24T03:15:44.773421",
     "exception": false,
     "start_time": "2021-06-24T03:15:44.658233",
     "status": "completed"
    },
    "tags": []
   },
   "outputs": [
    {
     "data": {
      "text/plain": [
       "(467, 7)"
      ]
     },
     "execution_count": 17,
     "metadata": {},
     "output_type": "execute_result"
    }
   ],
   "source": [
    "train_set.head()\n",
    "train_set.shape"
   ]
  },
  {
   "cell_type": "code",
   "execution_count": 18,
   "id": "several-bahamas",
   "metadata": {
    "execution": {
     "iopub.execute_input": "2021-06-24T03:15:44.988664Z",
     "iopub.status.busy": "2021-06-24T03:15:44.987714Z",
     "iopub.status.idle": "2021-06-24T03:15:45.134257Z",
     "shell.execute_reply": "2021-06-24T03:15:45.134702Z",
     "shell.execute_reply.started": "2021-06-23T06:45:16.978864Z"
    },
    "papermill": {
     "duration": 0.254409,
     "end_time": "2021-06-24T03:15:45.134880",
     "exception": false,
     "start_time": "2021-06-24T03:15:44.880471",
     "status": "completed"
    },
    "tags": []
   },
   "outputs": [
    {
     "data": {
      "text/plain": [
       "<AxesSubplot:>"
      ]
     },
     "execution_count": 18,
     "metadata": {},
     "output_type": "execute_result"
    },
    {
     "data": {
      "image/png": "[encoded data removed]",
      "text/plain": [
       "<Figure size 432x288 with 1 Axes>"
      ]
     },
     "metadata": {
      "needs_background": "light"
     },
     "output_type": "display_data"
    }
   ],
   "source": [
    "netflix_data[\"Runtime\"].hist()"
   ]
  },
  {
   "cell_type": "code",
   "execution_count": 19,
   "id": "prerequisite-mayor",
   "metadata": {
    "execution": {
     "iopub.execute_input": "2021-06-24T03:15:45.350629Z",
     "iopub.status.busy": "2021-06-24T03:15:45.349644Z",
     "iopub.status.idle": "2021-06-24T03:15:45.357765Z",
     "shell.execute_reply": "2021-06-24T03:15:45.357261Z",
     "shell.execute_reply.started": "2021-06-23T06:45:17.144985Z"
    },
    "papermill": {
     "duration": 0.117002,
     "end_time": "2021-06-24T03:15:45.357923",
     "exception": false,
     "start_time": "2021-06-24T03:15:45.240921",
     "status": "completed"
    },
    "tags": []
   },
   "outputs": [],
   "source": [
    "netflix_data[\"runtime_cat\"] = np.ceil(netflix_data[\"Runtime\"] / 20)\n",
    "netflix_data[\"runtime_cat\"].where(netflix_data[\"runtime_cat\"] < 7, 7, inplace=True)\n",
    "# netflix_data[\"runtime_cat\"].where(netflix_data[\"runtime_cat\"] < 7, 7, inplace=True)"
   ]
  },
  {
   "cell_type": "code",
   "execution_count": 20,
   "id": "familiar-carnival",
   "metadata": {
    "execution": {
     "iopub.execute_input": "2021-06-24T03:15:45.595955Z",
     "iopub.status.busy": "2021-06-24T03:15:45.594876Z",
     "iopub.status.idle": "2021-06-24T03:15:46.489098Z",
     "shell.execute_reply": "2021-06-24T03:15:46.489556Z",
     "shell.execute_reply.started": "2021-06-23T06:45:17.156733Z"
    },
    "papermill": {
     "duration": 1.025867,
     "end_time": "2021-06-24T03:15:46.489732",
     "exception": false,
     "start_time": "2021-06-24T03:15:45.463865",
     "status": "completed"
    },
    "tags": []
   },
   "outputs": [
    {
     "name": "stderr",
     "output_type": "stream",
     "text": [
      "/opt/conda/lib/python3.7/site-packages/pandas/plotting/_matplotlib/tools.py:400: MatplotlibDeprecationWarning: \n",
      "The is_first_col function was deprecated in Matplotlib 3.4 and will be removed two minor releases later. Use ax.get_subplotspec().is_first_col() instead.\n",
      "  if ax.is_first_col():\n"
     ]
    },
    {
     "data": {
      "image/png": "[encoded data removed]",
      "text/plain": [
       "<Figure size 1440x1080 with 4 Axes>"
      ]
     },
     "metadata": {
      "needs_background": "light"
     },
     "output_type": "display_data"
    }
   ],
   "source": [
    "netflix_data.hist(bins=50, figsize=(20,15))\n",
    "# save_fig(\"melb_attribute_histogram_plots\")\n",
    "plt.show()"
   ]
  },
  {
   "cell_type": "code",
   "execution_count": 21,
   "id": "fourth-appliance",
   "metadata": {
    "execution": {
     "iopub.execute_input": "2021-06-24T03:15:46.712264Z",
     "iopub.status.busy": "2021-06-24T03:15:46.711612Z",
     "iopub.status.idle": "2021-06-24T03:15:46.715700Z",
     "shell.execute_reply": "2021-06-24T03:15:46.715188Z",
     "shell.execute_reply.started": "2021-06-23T06:45:18.093823Z"
    },
    "papermill": {
     "duration": 0.117961,
     "end_time": "2021-06-24T03:15:46.715837",
     "exception": false,
     "start_time": "2021-06-24T03:15:46.597876",
     "status": "completed"
    },
    "tags": []
   },
   "outputs": [
    {
     "data": {
      "text/plain": [
       "0    58\n",
       "1    81\n",
       "2    79\n",
       "3    94\n",
       "4    90\n",
       "Name: Runtime, dtype: int64"
      ]
     },
     "execution_count": 21,
     "metadata": {},
     "output_type": "execute_result"
    }
   ],
   "source": [
    "y = netflix_data[\"Runtime\"]\n",
    "y.head()"
   ]
  },
  {
   "cell_type": "code",
   "execution_count": 22,
   "id": "indonesian-instruction",
   "metadata": {
    "execution": {
     "iopub.execute_input": "2021-06-24T03:15:46.934922Z",
     "iopub.status.busy": "2021-06-24T03:15:46.934304Z",
     "iopub.status.idle": "2021-06-24T03:15:46.945813Z",
     "shell.execute_reply": "2021-06-24T03:15:46.945174Z",
     "shell.execute_reply.started": "2021-06-23T06:45:18.103222Z"
    },
    "papermill": {
     "duration": 0.122161,
     "end_time": "2021-06-24T03:15:46.945974",
     "exception": false,
     "start_time": "2021-06-24T03:15:46.823813",
     "status": "completed"
    },
    "tags": []
   },
   "outputs": [
    {
     "data": {
      "text/html": [
       "<div>\n",
       "<style scoped>\n",
       "    .dataframe tbody tr th:only-of-type {\n",
       "        vertical-align: middle;\n",
       "    }\n",
       "\n",
       "    .dataframe tbody tr th {\n",
       "        vertical-align: top;\n",
       "    }\n",
       "\n",
       "    .dataframe thead th {\n",
       "        text-align: right;\n",
       "    }\n",
       "</style>\n",
       "<table border=\"1\" class=\"dataframe\">\n",
       "  <thead>\n",
       "    <tr style=\"text-align: right;\">\n",
       "      <th></th>\n",
       "      <th>IMDB Score</th>\n",
       "      <th>Runtime</th>\n",
       "    </tr>\n",
       "  </thead>\n",
       "  <tbody>\n",
       "    <tr>\n",
       "      <th>0</th>\n",
       "      <td>2.5</td>\n",
       "      <td>58</td>\n",
       "    </tr>\n",
       "    <tr>\n",
       "      <th>1</th>\n",
       "      <td>2.6</td>\n",
       "      <td>81</td>\n",
       "    </tr>\n",
       "    <tr>\n",
       "      <th>2</th>\n",
       "      <td>2.6</td>\n",
       "      <td>79</td>\n",
       "    </tr>\n",
       "    <tr>\n",
       "      <th>3</th>\n",
       "      <td>3.2</td>\n",
       "      <td>94</td>\n",
       "    </tr>\n",
       "    <tr>\n",
       "      <th>4</th>\n",
       "      <td>3.4</td>\n",
       "      <td>90</td>\n",
       "    </tr>\n",
       "  </tbody>\n",
       "</table>\n",
       "</div>"
      ],
      "text/plain": [
       "   IMDB Score  Runtime\n",
       "0         2.5       58\n",
       "1         2.6       81\n",
       "2         2.6       79\n",
       "3         3.2       94\n",
       "4         3.4       90"
      ]
     },
     "execution_count": 22,
     "metadata": {},
     "output_type": "execute_result"
    }
   ],
   "source": [
    "X = netflix_data.loc[:,['IMDB Score','Runtime']]\n",
    "X.head()"
   ]
  },
  {
   "cell_type": "code",
   "execution_count": 23,
   "id": "pending-reduction",
   "metadata": {
    "execution": {
     "iopub.execute_input": "2021-06-24T03:15:47.171248Z",
     "iopub.status.busy": "2021-06-24T03:15:47.170542Z",
     "iopub.status.idle": "2021-06-24T03:15:47.178774Z",
     "shell.execute_reply": "2021-06-24T03:15:47.179394Z",
     "shell.execute_reply.started": "2021-06-23T06:45:18.127267Z"
    },
    "papermill": {
     "duration": 0.122333,
     "end_time": "2021-06-24T03:15:47.179619",
     "exception": false,
     "start_time": "2021-06-24T03:15:47.057286",
     "status": "completed"
    },
    "tags": []
   },
   "outputs": [],
   "source": [
    "from sklearn.model_selection import StratifiedShuffleSplit\n",
    "\n",
    "split = StratifiedShuffleSplit(n_splits=1,test_size=0.10,random_state=42)\n",
    "\n",
    "# netflix_data.iloc[0:,1]\n",
    "for train_index, test_index in split.split(netflix_data, netflix_data[\"runtime_cat\"]):\n",
    "    strat_train_set = netflix_data.loc[train_index]\n",
    "    strat_test_set = netflix_data.loc[test_index]"
   ]
  },
  {
   "cell_type": "code",
   "execution_count": 24,
   "id": "chicken-efficiency",
   "metadata": {
    "execution": {
     "iopub.execute_input": "2021-06-24T03:15:47.402566Z",
     "iopub.status.busy": "2021-06-24T03:15:47.401914Z",
     "iopub.status.idle": "2021-06-24T03:15:47.407356Z",
     "shell.execute_reply": "2021-06-24T03:15:47.407826Z",
     "shell.execute_reply.started": "2021-06-23T06:45:18.142815Z"
    },
    "papermill": {
     "duration": 0.118777,
     "end_time": "2021-06-24T03:15:47.408036",
     "exception": false,
     "start_time": "2021-06-24T03:15:47.289259",
     "status": "completed"
    },
    "tags": []
   },
   "outputs": [
    {
     "name": "stdout",
     "output_type": "stream",
     "text": [
      "StratifiedShuffleSplit(n_splits=1, random_state=42, test_size=0.1,\n",
      "            train_size=None)\n"
     ]
    }
   ],
   "source": [
    "print(split)"
   ]
  },
  {
   "cell_type": "code",
   "execution_count": 25,
   "id": "unsigned-chambers",
   "metadata": {
    "execution": {
     "iopub.execute_input": "2021-06-24T03:15:47.632280Z",
     "iopub.status.busy": "2021-06-24T03:15:47.631619Z",
     "iopub.status.idle": "2021-06-24T03:15:47.635709Z",
     "shell.execute_reply": "2021-06-24T03:15:47.635202Z",
     "shell.execute_reply.started": "2021-06-23T06:45:18.150163Z"
    },
    "papermill": {
     "duration": 0.117853,
     "end_time": "2021-06-24T03:15:47.635861",
     "exception": false,
     "start_time": "2021-06-24T03:15:47.518008",
     "status": "completed"
    },
    "scrolled": true,
    "tags": []
   },
   "outputs": [
    {
     "data": {
      "text/plain": [
       "sklearn.model_selection._split.StratifiedShuffleSplit"
      ]
     },
     "execution_count": 25,
     "metadata": {},
     "output_type": "execute_result"
    }
   ],
   "source": [
    "type(split)"
   ]
  },
  {
   "cell_type": "code",
   "execution_count": 26,
   "id": "matched-great",
   "metadata": {
    "execution": {
     "iopub.execute_input": "2021-06-24T03:15:47.866247Z",
     "iopub.status.busy": "2021-06-24T03:15:47.865572Z",
     "iopub.status.idle": "2021-06-24T03:15:47.868241Z",
     "shell.execute_reply": "2021-06-24T03:15:47.868805Z",
     "shell.execute_reply.started": "2021-06-23T06:45:18.164672Z"
    },
    "papermill": {
     "duration": 0.121353,
     "end_time": "2021-06-24T03:15:47.868998",
     "exception": false,
     "start_time": "2021-06-24T03:15:47.747645",
     "status": "completed"
    },
    "tags": []
   },
   "outputs": [
    {
     "data": {
      "text/plain": [
       "5.0    0.423729\n",
       "6.0    0.288136\n",
       "7.0    0.118644\n",
       "4.0    0.067797\n",
       "2.0    0.050847\n",
       "3.0    0.033898\n",
       "1.0    0.016949\n",
       "Name: runtime_cat, dtype: float64"
      ]
     },
     "execution_count": 26,
     "metadata": {},
     "output_type": "execute_result"
    }
   ],
   "source": [
    "strat_test_set[\"runtime_cat\"].value_counts() / len(strat_test_set)"
   ]
  },
  {
   "cell_type": "code",
   "execution_count": 27,
   "id": "acoustic-desktop",
   "metadata": {
    "execution": {
     "iopub.execute_input": "2021-06-24T03:15:48.095366Z",
     "iopub.status.busy": "2021-06-24T03:15:48.094540Z",
     "iopub.status.idle": "2021-06-24T03:15:48.242884Z",
     "shell.execute_reply": "2021-06-24T03:15:48.243437Z",
     "shell.execute_reply.started": "2021-06-23T06:45:18.182201Z"
    },
    "papermill": {
     "duration": 0.263342,
     "end_time": "2021-06-24T03:15:48.243606",
     "exception": false,
     "start_time": "2021-06-24T03:15:47.980264",
     "status": "completed"
    },
    "tags": []
   },
   "outputs": [
    {
     "data": {
      "text/plain": [
       "<AxesSubplot:xlabel='IMDB Score', ylabel='Runtime'>"
      ]
     },
     "execution_count": 27,
     "metadata": {},
     "output_type": "execute_result"
    },
    {
     "data": {
      "image/png": "[encoded data removed]",
      "text/plain": [
       "<Figure size 432x288 with 1 Axes>"
      ]
     },
     "metadata": {
      "needs_background": "light"
     },
     "output_type": "display_data"
    }
   ],
   "source": [
    "train_set.plot(kind=\"scatter\", x=\"IMDB Score\", y=\"Runtime\", alpha=0.4, s=train_set[\"Runtime\"]/10)"
   ]
  },
  {
   "cell_type": "code",
   "execution_count": 28,
   "id": "continent-revolution",
   "metadata": {
    "execution": {
     "iopub.execute_input": "2021-06-24T03:15:48.496233Z",
     "iopub.status.busy": "2021-06-24T03:15:48.494926Z",
     "iopub.status.idle": "2021-06-24T03:15:48.622416Z",
     "shell.execute_reply": "2021-06-24T03:15:48.621817Z",
     "shell.execute_reply.started": "2021-06-23T06:45:18.343955Z"
    },
    "papermill": {
     "duration": 0.267315,
     "end_time": "2021-06-24T03:15:48.622569",
     "exception": false,
     "start_time": "2021-06-24T03:15:48.355254",
     "status": "completed"
    },
    "tags": []
   },
   "outputs": [
    {
     "data": {
      "text/plain": [
       "<AxesSubplot:xlabel='IMDB Score', ylabel='Runtime'>"
      ]
     },
     "execution_count": 28,
     "metadata": {},
     "output_type": "execute_result"
    },
    {
     "data": {
      "image/png": "[encoded data removed]",
      "text/plain": [
       "<Figure size 432x288 with 1 Axes>"
      ]
     },
     "metadata": {
      "needs_background": "light"
     },
     "output_type": "display_data"
    }
   ],
   "source": [
    "test_set.plot(kind=\"scatter\", x=\"IMDB Score\", y=\"Runtime\", alpha=0.4, s=test_set[\"Runtime\"]/10)"
   ]
  },
  {
   "cell_type": "code",
   "execution_count": 29,
   "id": "specialized-gathering",
   "metadata": {
    "execution": {
     "iopub.execute_input": "2021-06-24T03:15:48.870165Z",
     "iopub.status.busy": "2021-06-24T03:15:48.857726Z",
     "iopub.status.idle": "2021-06-24T03:15:48.873173Z",
     "shell.execute_reply": "2021-06-24T03:15:48.872504Z",
     "shell.execute_reply.started": "2021-06-23T06:45:18.499638Z"
    },
    "papermill": {
     "duration": 0.138256,
     "end_time": "2021-06-24T03:15:48.873329",
     "exception": false,
     "start_time": "2021-06-24T03:15:48.735073",
     "status": "completed"
    },
    "tags": []
   },
   "outputs": [],
   "source": [
    "def genre_proportions(data):\n",
    "    return data[\"Genre\"].value_counts() / len(data)\n",
    "\n",
    "def language_proportions(data):\n",
    "    return data[\"Language\"].value_counts() / len(data)\n",
    "\n",
    "train_set, test_set = train_test_split(netflix_data, test_size=0.2, random_state=42)\n",
    "\n",
    "# compare_props = pd.DataFrame({\n",
    "#     \"Overall\": genre_proportions(netflix_data),\n",
    "#     \"Stratified\": genre_proportions(strat_test_set),\n",
    "#     \"Random\": genre_proportions(test_set),\n",
    "# }).sort_index()\n",
    "\n",
    "compare_props = pd.DataFrame({\n",
    "    \"Overall\": language_proportions(netflix_data),\n",
    "    \"Stratified\": language_proportions(strat_test_set),\n",
    "    \"Random\": language_proportions(test_set),\n",
    "}).sort_index()\n",
    "\n",
    "compare_props[\"Rand. %error\"] = 100 * compare_props[\"Random\"] / compare_props[\"Overall\"] - 100\n",
    "compare_props[\"Strat. %error\"] = 100 * compare_props[\"Stratified\"] / compare_props[\"Overall\"] - 100"
   ]
  },
  {
   "cell_type": "code",
   "execution_count": 30,
   "id": "short-builder",
   "metadata": {
    "execution": {
     "iopub.execute_input": "2021-06-24T03:15:49.124520Z",
     "iopub.status.busy": "2021-06-24T03:15:49.123792Z",
     "iopub.status.idle": "2021-06-24T03:15:49.127241Z",
     "shell.execute_reply": "2021-06-24T03:15:49.127708Z",
     "shell.execute_reply.started": "2021-06-23T06:45:18.520853Z"
    },
    "papermill": {
     "duration": 0.138938,
     "end_time": "2021-06-24T03:15:49.127879",
     "exception": false,
     "start_time": "2021-06-24T03:15:48.988941",
     "status": "completed"
    },
    "tags": []
   },
   "outputs": [
    {
     "data": {
      "text/html": [
       "<div>\n",
       "<style scoped>\n",
       "    .dataframe tbody tr th:only-of-type {\n",
       "        vertical-align: middle;\n",
       "    }\n",
       "\n",
       "    .dataframe tbody tr th {\n",
       "        vertical-align: top;\n",
       "    }\n",
       "\n",
       "    .dataframe thead th {\n",
       "        text-align: right;\n",
       "    }\n",
       "</style>\n",
       "<table border=\"1\" class=\"dataframe\">\n",
       "  <thead>\n",
       "    <tr style=\"text-align: right;\">\n",
       "      <th></th>\n",
       "      <th>Overall</th>\n",
       "      <th>Stratified</th>\n",
       "      <th>Random</th>\n",
       "      <th>Rand. %error</th>\n",
       "      <th>Strat. %error</th>\n",
       "    </tr>\n",
       "  </thead>\n",
       "  <tbody>\n",
       "    <tr>\n",
       "      <th>English</th>\n",
       "      <td>0.686644</td>\n",
       "      <td>0.728814</td>\n",
       "      <td>0.675214</td>\n",
       "      <td>-1.664642</td>\n",
       "      <td>6.141426</td>\n",
       "    </tr>\n",
       "    <tr>\n",
       "      <th>Hindi</th>\n",
       "      <td>0.056507</td>\n",
       "      <td>0.050847</td>\n",
       "      <td>0.059829</td>\n",
       "      <td>5.879306</td>\n",
       "      <td>-10.015408</td>\n",
       "    </tr>\n",
       "    <tr>\n",
       "      <th>Spanish</th>\n",
       "      <td>0.053082</td>\n",
       "      <td>0.101695</td>\n",
       "      <td>0.051282</td>\n",
       "      <td>-3.391232</td>\n",
       "      <td>91.580098</td>\n",
       "    </tr>\n",
       "    <tr>\n",
       "      <th>French</th>\n",
       "      <td>0.034247</td>\n",
       "      <td>0.016949</td>\n",
       "      <td>0.017094</td>\n",
       "      <td>-50.085470</td>\n",
       "      <td>-50.508475</td>\n",
       "    </tr>\n",
       "    <tr>\n",
       "      <th>Italian</th>\n",
       "      <td>0.023973</td>\n",
       "      <td>0.016949</td>\n",
       "      <td>0.051282</td>\n",
       "      <td>113.919414</td>\n",
       "      <td>-29.297821</td>\n",
       "    </tr>\n",
       "    <tr>\n",
       "      <th>Portuguese</th>\n",
       "      <td>0.020548</td>\n",
       "      <td>NaN</td>\n",
       "      <td>0.025641</td>\n",
       "      <td>24.786325</td>\n",
       "      <td>NaN</td>\n",
       "    </tr>\n",
       "    <tr>\n",
       "      <th>Indonesian</th>\n",
       "      <td>0.015411</td>\n",
       "      <td>0.016949</td>\n",
       "      <td>0.025641</td>\n",
       "      <td>66.381766</td>\n",
       "      <td>9.981168</td>\n",
       "    </tr>\n",
       "    <tr>\n",
       "      <th>Korean</th>\n",
       "      <td>0.010274</td>\n",
       "      <td>NaN</td>\n",
       "      <td>0.008547</td>\n",
       "      <td>-16.809117</td>\n",
       "      <td>NaN</td>\n",
       "    </tr>\n",
       "    <tr>\n",
       "      <th>Japanese</th>\n",
       "      <td>0.010274</td>\n",
       "      <td>NaN</td>\n",
       "      <td>NaN</td>\n",
       "      <td>NaN</td>\n",
       "      <td>NaN</td>\n",
       "    </tr>\n",
       "    <tr>\n",
       "      <th>German</th>\n",
       "      <td>0.008562</td>\n",
       "      <td>0.016949</td>\n",
       "      <td>NaN</td>\n",
       "      <td>NaN</td>\n",
       "      <td>97.966102</td>\n",
       "    </tr>\n",
       "    <tr>\n",
       "      <th>Turkish</th>\n",
       "      <td>0.008562</td>\n",
       "      <td>NaN</td>\n",
       "      <td>0.034188</td>\n",
       "      <td>299.316239</td>\n",
       "      <td>NaN</td>\n",
       "    </tr>\n",
       "    <tr>\n",
       "      <th>English/Spanish</th>\n",
       "      <td>0.008562</td>\n",
       "      <td>0.016949</td>\n",
       "      <td>0.008547</td>\n",
       "      <td>-0.170940</td>\n",
       "      <td>97.966102</td>\n",
       "    </tr>\n",
       "    <tr>\n",
       "      <th>Dutch</th>\n",
       "      <td>0.005137</td>\n",
       "      <td>NaN</td>\n",
       "      <td>NaN</td>\n",
       "      <td>NaN</td>\n",
       "      <td>NaN</td>\n",
       "    </tr>\n",
       "    <tr>\n",
       "      <th>Marathi</th>\n",
       "      <td>0.005137</td>\n",
       "      <td>NaN</td>\n",
       "      <td>0.008547</td>\n",
       "      <td>66.381766</td>\n",
       "      <td>NaN</td>\n",
       "    </tr>\n",
       "    <tr>\n",
       "      <th>Polish</th>\n",
       "      <td>0.005137</td>\n",
       "      <td>NaN</td>\n",
       "      <td>NaN</td>\n",
       "      <td>NaN</td>\n",
       "      <td>NaN</td>\n",
       "    </tr>\n",
       "    <tr>\n",
       "      <th>Filipino</th>\n",
       "      <td>0.003425</td>\n",
       "      <td>NaN</td>\n",
       "      <td>0.008547</td>\n",
       "      <td>149.572650</td>\n",
       "      <td>NaN</td>\n",
       "    </tr>\n",
       "    <tr>\n",
       "      <th>Thai</th>\n",
       "      <td>0.003425</td>\n",
       "      <td>NaN</td>\n",
       "      <td>NaN</td>\n",
       "      <td>NaN</td>\n",
       "      <td>NaN</td>\n",
       "    </tr>\n",
       "    <tr>\n",
       "      <th>English/Mandarin</th>\n",
       "      <td>0.003425</td>\n",
       "      <td>NaN</td>\n",
       "      <td>NaN</td>\n",
       "      <td>NaN</td>\n",
       "      <td>NaN</td>\n",
       "    </tr>\n",
       "    <tr>\n",
       "      <th>English/Japanese</th>\n",
       "      <td>0.003425</td>\n",
       "      <td>NaN</td>\n",
       "      <td>NaN</td>\n",
       "      <td>NaN</td>\n",
       "      <td>NaN</td>\n",
       "    </tr>\n",
       "    <tr>\n",
       "      <th>English/Hindi</th>\n",
       "      <td>0.003425</td>\n",
       "      <td>NaN</td>\n",
       "      <td>0.008547</td>\n",
       "      <td>149.572650</td>\n",
       "      <td>NaN</td>\n",
       "    </tr>\n",
       "    <tr>\n",
       "      <th>Tamil</th>\n",
       "      <td>0.001712</td>\n",
       "      <td>NaN</td>\n",
       "      <td>NaN</td>\n",
       "      <td>NaN</td>\n",
       "      <td>NaN</td>\n",
       "    </tr>\n",
       "    <tr>\n",
       "      <th>English/Akan</th>\n",
       "      <td>0.001712</td>\n",
       "      <td>NaN</td>\n",
       "      <td>NaN</td>\n",
       "      <td>NaN</td>\n",
       "      <td>NaN</td>\n",
       "    </tr>\n",
       "    <tr>\n",
       "      <th>Swedish</th>\n",
       "      <td>0.001712</td>\n",
       "      <td>NaN</td>\n",
       "      <td>NaN</td>\n",
       "      <td>NaN</td>\n",
       "      <td>NaN</td>\n",
       "    </tr>\n",
       "    <tr>\n",
       "      <th>Spanish/English</th>\n",
       "      <td>0.001712</td>\n",
       "      <td>NaN</td>\n",
       "      <td>NaN</td>\n",
       "      <td>NaN</td>\n",
       "      <td>NaN</td>\n",
       "    </tr>\n",
       "    <tr>\n",
       "      <th>Spanish/Catalan</th>\n",
       "      <td>0.001712</td>\n",
       "      <td>NaN</td>\n",
       "      <td>NaN</td>\n",
       "      <td>NaN</td>\n",
       "      <td>NaN</td>\n",
       "    </tr>\n",
       "    <tr>\n",
       "      <th>Thia/English</th>\n",
       "      <td>0.001712</td>\n",
       "      <td>NaN</td>\n",
       "      <td>NaN</td>\n",
       "      <td>NaN</td>\n",
       "      <td>NaN</td>\n",
       "    </tr>\n",
       "    <tr>\n",
       "      <th>Spanish/Basque</th>\n",
       "      <td>0.001712</td>\n",
       "      <td>NaN</td>\n",
       "      <td>NaN</td>\n",
       "      <td>NaN</td>\n",
       "      <td>NaN</td>\n",
       "    </tr>\n",
       "    <tr>\n",
       "      <th>English/Swedish</th>\n",
       "      <td>0.001712</td>\n",
       "      <td>NaN</td>\n",
       "      <td>0.008547</td>\n",
       "      <td>399.145299</td>\n",
       "      <td>NaN</td>\n",
       "    </tr>\n",
       "    <tr>\n",
       "      <th>Malay</th>\n",
       "      <td>0.001712</td>\n",
       "      <td>NaN</td>\n",
       "      <td>NaN</td>\n",
       "      <td>NaN</td>\n",
       "      <td>NaN</td>\n",
       "    </tr>\n",
       "    <tr>\n",
       "      <th>English/Arabic</th>\n",
       "      <td>0.001712</td>\n",
       "      <td>NaN</td>\n",
       "      <td>NaN</td>\n",
       "      <td>NaN</td>\n",
       "      <td>NaN</td>\n",
       "    </tr>\n",
       "    <tr>\n",
       "      <th>Norwegian</th>\n",
       "      <td>0.001712</td>\n",
       "      <td>0.016949</td>\n",
       "      <td>NaN</td>\n",
       "      <td>NaN</td>\n",
       "      <td>889.830508</td>\n",
       "    </tr>\n",
       "    <tr>\n",
       "      <th>English/Taiwanese/Mandarin</th>\n",
       "      <td>0.001712</td>\n",
       "      <td>NaN</td>\n",
       "      <td>NaN</td>\n",
       "      <td>NaN</td>\n",
       "      <td>NaN</td>\n",
       "    </tr>\n",
       "    <tr>\n",
       "      <th>Khmer/English/French</th>\n",
       "      <td>0.001712</td>\n",
       "      <td>NaN</td>\n",
       "      <td>NaN</td>\n",
       "      <td>NaN</td>\n",
       "      <td>NaN</td>\n",
       "    </tr>\n",
       "    <tr>\n",
       "      <th>English/Korean</th>\n",
       "      <td>0.001712</td>\n",
       "      <td>NaN</td>\n",
       "      <td>NaN</td>\n",
       "      <td>NaN</td>\n",
       "      <td>NaN</td>\n",
       "    </tr>\n",
       "    <tr>\n",
       "      <th>English/Russian</th>\n",
       "      <td>0.001712</td>\n",
       "      <td>0.016949</td>\n",
       "      <td>NaN</td>\n",
       "      <td>NaN</td>\n",
       "      <td>889.830508</td>\n",
       "    </tr>\n",
       "    <tr>\n",
       "      <th>Georgian</th>\n",
       "      <td>0.001712</td>\n",
       "      <td>NaN</td>\n",
       "      <td>NaN</td>\n",
       "      <td>NaN</td>\n",
       "      <td>NaN</td>\n",
       "    </tr>\n",
       "    <tr>\n",
       "      <th>English/Ukranian/Russian</th>\n",
       "      <td>0.001712</td>\n",
       "      <td>NaN</td>\n",
       "      <td>0.008547</td>\n",
       "      <td>399.145299</td>\n",
       "      <td>NaN</td>\n",
       "    </tr>\n",
       "    <tr>\n",
       "      <th>Bengali</th>\n",
       "      <td>0.001712</td>\n",
       "      <td>NaN</td>\n",
       "      <td>NaN</td>\n",
       "      <td>NaN</td>\n",
       "      <td>NaN</td>\n",
       "    </tr>\n",
       "  </tbody>\n",
       "</table>\n",
       "</div>"
      ],
      "text/plain": [
       "                             Overall  Stratified    Random  Rand. %error  \\\n",
       "English                     0.686644    0.728814  0.675214     -1.664642   \n",
       "Hindi                       0.056507    0.050847  0.059829      5.879306   \n",
       "Spanish                     0.053082    0.101695  0.051282     -3.391232   \n",
       "French                      0.034247    0.016949  0.017094    -50.085470   \n",
       "Italian                     0.023973    0.016949  0.051282    113.919414   \n",
       "Portuguese                  0.020548         NaN  0.025641     24.786325   \n",
       "Indonesian                  0.015411    0.016949  0.025641     66.381766   \n",
       "Korean                      0.010274         NaN  0.008547    -16.809117   \n",
       "Japanese                    0.010274         NaN       NaN           NaN   \n",
       "German                      0.008562    0.016949       NaN           NaN   \n",
       "Turkish                     0.008562         NaN  0.034188    299.316239   \n",
       "English/Spanish             0.008562    0.016949  0.008547     -0.170940   \n",
       "Dutch                       0.005137         NaN       NaN           NaN   \n",
       "Marathi                     0.005137         NaN  0.008547     66.381766   \n",
       "Polish                      0.005137         NaN       NaN           NaN   \n",
       "Filipino                    0.003425         NaN  0.008547    149.572650   \n",
       "Thai                        0.003425         NaN       NaN           NaN   \n",
       "English/Mandarin            0.003425         NaN       NaN           NaN   \n",
       "English/Japanese            0.003425         NaN       NaN           NaN   \n",
       "English/Hindi               0.003425         NaN  0.008547    149.572650   \n",
       "Tamil                       0.001712         NaN       NaN           NaN   \n",
       "English/Akan                0.001712         NaN       NaN           NaN   \n",
       "Swedish                     0.001712         NaN       NaN           NaN   \n",
       "Spanish/English             0.001712         NaN       NaN           NaN   \n",
       "Spanish/Catalan             0.001712         NaN       NaN           NaN   \n",
       "Thia/English                0.001712         NaN       NaN           NaN   \n",
       "Spanish/Basque              0.001712         NaN       NaN           NaN   \n",
       "English/Swedish             0.001712         NaN  0.008547    399.145299   \n",
       "Malay                       0.001712         NaN       NaN           NaN   \n",
       "English/Arabic              0.001712         NaN       NaN           NaN   \n",
       "Norwegian                   0.001712    0.016949       NaN           NaN   \n",
       "English/Taiwanese/Mandarin  0.001712         NaN       NaN           NaN   \n",
       "Khmer/English/French        0.001712         NaN       NaN           NaN   \n",
       "English/Korean              0.001712         NaN       NaN           NaN   \n",
       "English/Russian             0.001712    0.016949       NaN           NaN   \n",
       "Georgian                    0.001712         NaN       NaN           NaN   \n",
       "English/Ukranian/Russian    0.001712         NaN  0.008547    399.145299   \n",
       "Bengali                     0.001712         NaN       NaN           NaN   \n",
       "\n",
       "                            Strat. %error  \n",
       "English                          6.141426  \n",
       "Hindi                          -10.015408  \n",
       "Spanish                         91.580098  \n",
       "French                         -50.508475  \n",
       "Italian                        -29.297821  \n",
       "Portuguese                            NaN  \n",
       "Indonesian                       9.981168  \n",
       "Korean                                NaN  \n",
       "Japanese                              NaN  \n",
       "German                          97.966102  \n",
       "Turkish                               NaN  \n",
       "English/Spanish                 97.966102  \n",
       "Dutch                                 NaN  \n",
       "Marathi                               NaN  \n",
       "Polish                                NaN  \n",
       "Filipino                              NaN  \n",
       "Thai                                  NaN  \n",
       "English/Mandarin                      NaN  \n",
       "English/Japanese                      NaN  \n",
       "English/Hindi                         NaN  \n",
       "Tamil                                 NaN  \n",
       "English/Akan                          NaN  \n",
       "Swedish                               NaN  \n",
       "Spanish/English                       NaN  \n",
       "Spanish/Catalan                       NaN  \n",
       "Thia/English                          NaN  \n",
       "Spanish/Basque                        NaN  \n",
       "English/Swedish                       NaN  \n",
       "Malay                                 NaN  \n",
       "English/Arabic                        NaN  \n",
       "Norwegian                      889.830508  \n",
       "English/Taiwanese/Mandarin            NaN  \n",
       "Khmer/English/French                  NaN  \n",
       "English/Korean                        NaN  \n",
       "English/Russian                889.830508  \n",
       "Georgian                              NaN  \n",
       "English/Ukranian/Russian              NaN  \n",
       "Bengali                               NaN  "
      ]
     },
     "execution_count": 30,
     "metadata": {},
     "output_type": "execute_result"
    }
   ],
   "source": [
    "compare_props.sort_values(by=\"Overall\", ascending=False)"
   ]
  },
  {
   "cell_type": "markdown",
   "id": "sharing-talent",
   "metadata": {
    "papermill": {
     "duration": 0.112607,
     "end_time": "2021-06-24T03:15:49.354171",
     "exception": false,
     "start_time": "2021-06-24T03:15:49.241564",
     "status": "completed"
    },
    "tags": []
   },
   "source": [
    "# Discover and visualize the data to gain insights"
   ]
  },
  {
   "cell_type": "code",
   "execution_count": 31,
   "id": "married-destiny",
   "metadata": {
    "execution": {
     "iopub.execute_input": "2021-06-24T03:15:49.595700Z",
     "iopub.status.busy": "2021-06-24T03:15:49.594811Z",
     "iopub.status.idle": "2021-06-24T03:15:49.599305Z",
     "shell.execute_reply": "2021-06-24T03:15:49.598734Z",
     "shell.execute_reply.started": "2021-06-23T06:45:18.54903Z"
    },
    "papermill": {
     "duration": 0.132459,
     "end_time": "2021-06-24T03:15:49.599456",
     "exception": false,
     "start_time": "2021-06-24T03:15:49.466997",
     "status": "completed"
    },
    "tags": []
   },
   "outputs": [
    {
     "data": {
      "text/html": [
       "<div>\n",
       "<style scoped>\n",
       "    .dataframe tbody tr th:only-of-type {\n",
       "        vertical-align: middle;\n",
       "    }\n",
       "\n",
       "    .dataframe tbody tr th {\n",
       "        vertical-align: top;\n",
       "    }\n",
       "\n",
       "    .dataframe thead th {\n",
       "        text-align: right;\n",
       "    }\n",
       "</style>\n",
       "<table border=\"1\" class=\"dataframe\">\n",
       "  <thead>\n",
       "    <tr style=\"text-align: right;\">\n",
       "      <th></th>\n",
       "      <th>Title</th>\n",
       "      <th>Genre</th>\n",
       "      <th>Premiere</th>\n",
       "      <th>Runtime</th>\n",
       "      <th>IMDB Score</th>\n",
       "      <th>Language</th>\n",
       "      <th>days_since_premiere</th>\n",
       "      <th>runtime_cat</th>\n",
       "    </tr>\n",
       "  </thead>\n",
       "  <tbody>\n",
       "    <tr>\n",
       "      <th>383</th>\n",
       "      <td>Paper Lives</td>\n",
       "      <td>Drama</td>\n",
       "      <td>March 12, 2021</td>\n",
       "      <td>97</td>\n",
       "      <td>6.7</td>\n",
       "      <td>Turkish</td>\n",
       "      <td>104.0</td>\n",
       "      <td>5.0</td>\n",
       "    </tr>\n",
       "    <tr>\n",
       "      <th>422</th>\n",
       "      <td>Outlaw King</td>\n",
       "      <td>Historical-epic</td>\n",
       "      <td>November 9, 2018</td>\n",
       "      <td>121</td>\n",
       "      <td>6.9</td>\n",
       "      <td>English</td>\n",
       "      <td>958.0</td>\n",
       "      <td>7.0</td>\n",
       "    </tr>\n",
       "    <tr>\n",
       "      <th>90</th>\n",
       "      <td>Things Heard &amp; Seen</td>\n",
       "      <td>Horror</td>\n",
       "      <td>April 29, 2021</td>\n",
       "      <td>121</td>\n",
       "      <td>5.3</td>\n",
       "      <td>English</td>\n",
       "      <td>56.0</td>\n",
       "      <td>7.0</td>\n",
       "    </tr>\n",
       "    <tr>\n",
       "      <th>472</th>\n",
       "      <td>ReMastered: Tricky Dick &amp; the Man in Black</td>\n",
       "      <td>Documentary</td>\n",
       "      <td>November 2, 2018</td>\n",
       "      <td>58</td>\n",
       "      <td>7.1</td>\n",
       "      <td>English</td>\n",
       "      <td>965.0</td>\n",
       "      <td>3.0</td>\n",
       "    </tr>\n",
       "    <tr>\n",
       "      <th>522</th>\n",
       "      <td>Long Shot</td>\n",
       "      <td>Documentary</td>\n",
       "      <td>September 29, 2017</td>\n",
       "      <td>40</td>\n",
       "      <td>7.4</td>\n",
       "      <td>English</td>\n",
       "      <td>1364.0</td>\n",
       "      <td>2.0</td>\n",
       "    </tr>\n",
       "  </tbody>\n",
       "</table>\n",
       "</div>"
      ],
      "text/plain": [
       "                                          Title            Genre  \\\n",
       "383                                 Paper Lives            Drama   \n",
       "422                                 Outlaw King  Historical-epic   \n",
       "90                          Things Heard & Seen           Horror   \n",
       "472  ReMastered: Tricky Dick & the Man in Black      Documentary   \n",
       "522                                   Long Shot      Documentary   \n",
       "\n",
       "               Premiere  Runtime  IMDB Score Language  days_since_premiere  \\\n",
       "383      March 12, 2021       97         6.7  Turkish                104.0   \n",
       "422    November 9, 2018      121         6.9  English                958.0   \n",
       "90       April 29, 2021      121         5.3  English                 56.0   \n",
       "472    November 2, 2018       58         7.1  English                965.0   \n",
       "522  September 29, 2017       40         7.4  English               1364.0   \n",
       "\n",
       "     runtime_cat  \n",
       "383          5.0  \n",
       "422          7.0  \n",
       "90           7.0  \n",
       "472          3.0  \n",
       "522          2.0  "
      ]
     },
     "execution_count": 31,
     "metadata": {},
     "output_type": "execute_result"
    }
   ],
   "source": [
    "netflix = test_set.copy()\n",
    "netflix.head()"
   ]
  },
  {
   "cell_type": "code",
   "execution_count": 32,
   "id": "cubic-marina",
   "metadata": {
    "execution": {
     "iopub.execute_input": "2021-06-24T03:15:49.875927Z",
     "iopub.status.busy": "2021-06-24T03:15:49.859188Z",
     "iopub.status.idle": "2021-06-24T03:15:50.008784Z",
     "shell.execute_reply": "2021-06-24T03:15:50.008280Z",
     "shell.execute_reply.started": "2021-06-23T06:45:18.577732Z"
    },
    "papermill": {
     "duration": 0.295195,
     "end_time": "2021-06-24T03:15:50.008958",
     "exception": false,
     "start_time": "2021-06-24T03:15:49.713763",
     "status": "completed"
    },
    "tags": []
   },
   "outputs": [
    {
     "data": {
      "text/plain": [
       "<AxesSubplot:xlabel='Runtime', ylabel='IMDB Score'>"
      ]
     },
     "execution_count": 32,
     "metadata": {},
     "output_type": "execute_result"
    },
    {
     "data": {
      "image/png": "[encoded data removed]",
      "text/plain": [
       "<Figure size 432x288 with 1 Axes>"
      ]
     },
     "metadata": {
      "needs_background": "light"
     },
     "output_type": "display_data"
    }
   ],
   "source": [
    "netflix.plot(kind=\"scatter\", x=\"Runtime\", y=\"IMDB Score\")"
   ]
  },
  {
   "cell_type": "code",
   "execution_count": 33,
   "id": "valuable-lexington",
   "metadata": {
    "execution": {
     "iopub.execute_input": "2021-06-24T03:15:50.275317Z",
     "iopub.status.busy": "2021-06-24T03:15:50.253824Z",
     "iopub.status.idle": "2021-06-24T03:15:50.406714Z",
     "shell.execute_reply": "2021-06-24T03:15:50.406182Z",
     "shell.execute_reply.started": "2021-06-23T06:45:18.741305Z"
    },
    "papermill": {
     "duration": 0.280372,
     "end_time": "2021-06-24T03:15:50.406857",
     "exception": false,
     "start_time": "2021-06-24T03:15:50.126485",
     "status": "completed"
    },
    "tags": []
   },
   "outputs": [
    {
     "data": {
      "text/plain": [
       "<AxesSubplot:xlabel='Runtime', ylabel='IMDB Score'>"
      ]
     },
     "execution_count": 33,
     "metadata": {},
     "output_type": "execute_result"
    },
    {
     "data": {
      "image/png": "[encoded data removed]",
      "text/plain": [
       "<Figure size 432x288 with 1 Axes>"
      ]
     },
     "metadata": {
      "needs_background": "light"
     },
     "output_type": "display_data"
    }
   ],
   "source": [
    "netflix.plot(kind=\"scatter\", x=\"Runtime\", y=\"IMDB Score\", alpha=0.5)"
   ]
  },
  {
   "cell_type": "code",
   "execution_count": 34,
   "id": "armed-terrorism",
   "metadata": {
    "execution": {
     "iopub.execute_input": "2021-06-24T03:15:50.673295Z",
     "iopub.status.busy": "2021-06-24T03:15:50.672256Z",
     "iopub.status.idle": "2021-06-24T03:15:50.913656Z",
     "shell.execute_reply": "2021-06-24T03:15:50.913006Z",
     "shell.execute_reply.started": "2021-06-23T06:45:18.901447Z"
    },
    "papermill": {
     "duration": 0.390925,
     "end_time": "2021-06-24T03:15:50.913794",
     "exception": false,
     "start_time": "2021-06-24T03:15:50.522869",
     "status": "completed"
    },
    "tags": []
   },
   "outputs": [
    {
     "name": "stderr",
     "output_type": "stream",
     "text": [
      "/opt/conda/lib/python3.7/site-packages/pandas/plotting/_matplotlib/tools.py:400: MatplotlibDeprecationWarning: \n",
      "The is_first_col function was deprecated in Matplotlib 3.4 and will be removed two minor releases later. Use ax.get_subplotspec().is_first_col() instead.\n",
      "  if ax.is_first_col():\n"
     ]
    },
    {
     "data": {
      "text/plain": [
       "<matplotlib.legend.Legend at 0x7f0951976b10>"
      ]
     },
     "execution_count": 34,
     "metadata": {},
     "output_type": "execute_result"
    },
    {
     "data": {
      "image/png": "[encoded data removed]",
      "text/plain": [
       "<Figure size 720x504 with 2 Axes>"
      ]
     },
     "metadata": {
      "needs_background": "light"
     },
     "output_type": "display_data"
    }
   ],
   "source": [
    "netflix.plot(kind=\"scatter\", x=\"Runtime\", y=\"IMDB Score\", alpha=0.5,\n",
    "    s=netflix[\"IMDB Score\"], label=\"IMDB Score\", figsize=(10,7),\n",
    "    c=\"IMDB Score\", cmap=plt.get_cmap(\"jet\"), colorbar=True,\n",
    "    sharex=False)\n",
    "plt.legend()"
   ]
  },
  {
   "cell_type": "code",
   "execution_count": 35,
   "id": "solid-dating",
   "metadata": {
    "execution": {
     "iopub.execute_input": "2021-06-24T03:15:51.158864Z",
     "iopub.status.busy": "2021-06-24T03:15:51.158238Z",
     "iopub.status.idle": "2021-06-24T03:15:51.160720Z",
     "shell.execute_reply": "2021-06-24T03:15:51.160129Z",
     "shell.execute_reply.started": "2021-06-23T06:45:19.171396Z"
    },
    "papermill": {
     "duration": 0.128241,
     "end_time": "2021-06-24T03:15:51.160859",
     "exception": false,
     "start_time": "2021-06-24T03:15:51.032618",
     "status": "completed"
    },
    "tags": []
   },
   "outputs": [],
   "source": [
    "corr_matrix = netflix.corr()"
   ]
  },
  {
   "cell_type": "code",
   "execution_count": 36,
   "id": "champion-magnet",
   "metadata": {
    "execution": {
     "iopub.execute_input": "2021-06-24T03:15:51.404749Z",
     "iopub.status.busy": "2021-06-24T03:15:51.404125Z",
     "iopub.status.idle": "2021-06-24T03:15:51.408058Z",
     "shell.execute_reply": "2021-06-24T03:15:51.407525Z",
     "shell.execute_reply.started": "2021-06-23T06:45:19.178671Z"
    },
    "papermill": {
     "duration": 0.127465,
     "end_time": "2021-06-24T03:15:51.408211",
     "exception": false,
     "start_time": "2021-06-24T03:15:51.280746",
     "status": "completed"
    },
    "tags": []
   },
   "outputs": [
    {
     "data": {
      "text/plain": [
       "IMDB Score             1.000000\n",
       "days_since_premiere    0.079922\n",
       "runtime_cat           -0.051355\n",
       "Runtime               -0.056810\n",
       "Name: IMDB Score, dtype: float64"
      ]
     },
     "execution_count": 36,
     "metadata": {},
     "output_type": "execute_result"
    }
   ],
   "source": [
    "corr_matrix[\"IMDB Score\"].sort_values(ascending=False)"
   ]
  },
  {
   "cell_type": "code",
   "execution_count": 37,
   "id": "southeast-recipient",
   "metadata": {
    "execution": {
     "iopub.execute_input": "2021-06-24T03:15:51.646665Z",
     "iopub.status.busy": "2021-06-24T03:15:51.646028Z",
     "iopub.status.idle": "2021-06-24T03:15:52.851867Z",
     "shell.execute_reply": "2021-06-24T03:15:52.852421Z",
     "shell.execute_reply.started": "2021-06-23T06:45:19.19678Z"
    },
    "papermill": {
     "duration": 1.326472,
     "end_time": "2021-06-24T03:15:52.852620",
     "exception": false,
     "start_time": "2021-06-24T03:15:51.526148",
     "status": "completed"
    },
    "tags": []
   },
   "outputs": [
    {
     "data": {
      "text/plain": [
       "array([[<AxesSubplot:xlabel='IMDB Score', ylabel='IMDB Score'>,\n",
       "        <AxesSubplot:xlabel='runtime_cat', ylabel='IMDB Score'>,\n",
       "        <AxesSubplot:xlabel='Runtime', ylabel='IMDB Score'>,\n",
       "        <AxesSubplot:xlabel='days_since_premiere', ylabel='IMDB Score'>],\n",
       "       [<AxesSubplot:xlabel='IMDB Score', ylabel='runtime_cat'>,\n",
       "        <AxesSubplot:xlabel='runtime_cat', ylabel='runtime_cat'>,\n",
       "        <AxesSubplot:xlabel='Runtime', ylabel='runtime_cat'>,\n",
       "        <AxesSubplot:xlabel='days_since_premiere', ylabel='runtime_cat'>],\n",
       "       [<AxesSubplot:xlabel='IMDB Score', ylabel='Runtime'>,\n",
       "        <AxesSubplot:xlabel='runtime_cat', ylabel='Runtime'>,\n",
       "        <AxesSubplot:xlabel='Runtime', ylabel='Runtime'>,\n",
       "        <AxesSubplot:xlabel='days_since_premiere', ylabel='Runtime'>],\n",
       "       [<AxesSubplot:xlabel='IMDB Score', ylabel='days_since_premiere'>,\n",
       "        <AxesSubplot:xlabel='runtime_cat', ylabel='days_since_premiere'>,\n",
       "        <AxesSubplot:xlabel='Runtime', ylabel='days_since_premiere'>,\n",
       "        <AxesSubplot:xlabel='days_since_premiere', ylabel='days_since_premiere'>]],\n",
       "      dtype=object)"
      ]
     },
     "execution_count": 37,
     "metadata": {},
     "output_type": "execute_result"
    },
    {
     "data": {
      "image/png": "[encoded data removed]",
      "text/plain": [
       "<Figure size 864x576 with 16 Axes>"
      ]
     },
     "metadata": {
      "needs_background": "light"
     },
     "output_type": "display_data"
    }
   ],
   "source": [
    "# from pandas.tools.plotting import scatter_matrix # For older versions of Pandas\n",
    "from pandas.plotting import scatter_matrix\n",
    "\n",
    "attributes = [\"IMDB Score\", \"runtime_cat\", \"Runtime\",\"days_since_premiere\"]\n",
    "scatter_matrix(netflix[attributes], figsize=(12, 8))\n",
    "# save_fig(\"scatter_matrix_plot\")"
   ]
  },
  {
   "cell_type": "code",
   "execution_count": 38,
   "id": "organizational-fraud",
   "metadata": {
    "execution": {
     "iopub.execute_input": "2021-06-24T03:15:53.100657Z",
     "iopub.status.busy": "2021-06-24T03:15:53.100055Z",
     "iopub.status.idle": "2021-06-24T03:15:53.260322Z",
     "shell.execute_reply": "2021-06-24T03:15:53.260870Z",
     "shell.execute_reply.started": "2021-06-23T06:45:20.667148Z"
    },
    "papermill": {
     "duration": 0.286078,
     "end_time": "2021-06-24T03:15:53.261072",
     "exception": false,
     "start_time": "2021-06-24T03:15:52.974994",
     "status": "completed"
    },
    "tags": []
   },
   "outputs": [
    {
     "data": {
      "text/plain": [
       "(0.0, 3000.0, 0.0, 200.0)"
      ]
     },
     "execution_count": 38,
     "metadata": {},
     "output_type": "execute_result"
    },
    {
     "data": {
      "image/png": "[encoded data removed]",
      "text/plain": [
       "<Figure size 432x288 with 1 Axes>"
      ]
     },
     "metadata": {
      "needs_background": "light"
     },
     "output_type": "display_data"
    }
   ],
   "source": [
    "netflix.plot(kind=\"scatter\", x=\"days_since_premiere\", y=\"Runtime\",\n",
    "             alpha=0.1)\n",
    "plt.axis([0, 3000, 0, 200])"
   ]
  },
  {
   "cell_type": "markdown",
   "id": "fresh-infection",
   "metadata": {
    "papermill": {
     "duration": 0.122148,
     "end_time": "2021-06-24T03:15:53.505518",
     "exception": false,
     "start_time": "2021-06-24T03:15:53.383370",
     "status": "completed"
    },
    "tags": []
   },
   "source": [
    "# Prepare the data for Machine Learning Algorithms"
   ]
  },
  {
   "cell_type": "code",
   "execution_count": 39,
   "id": "binding-january",
   "metadata": {
    "execution": {
     "iopub.execute_input": "2021-06-24T03:15:53.752879Z",
     "iopub.status.busy": "2021-06-24T03:15:53.752281Z",
     "iopub.status.idle": "2021-06-24T03:15:53.758401Z",
     "shell.execute_reply": "2021-06-24T03:15:53.757845Z",
     "shell.execute_reply.started": "2021-06-23T06:45:20.843933Z"
    },
    "papermill": {
     "duration": 0.130199,
     "end_time": "2021-06-24T03:15:53.758559",
     "exception": false,
     "start_time": "2021-06-24T03:15:53.628360",
     "status": "completed"
    },
    "tags": []
   },
   "outputs": [],
   "source": [
    "netflix = strat_train_set.drop(\"Runtime\", axis=1) # drop labels for training set\n",
    "netflix_labels = strat_train_set[\"Runtime\"].copy()"
   ]
  },
  {
   "cell_type": "code",
   "execution_count": 40,
   "id": "moral-river",
   "metadata": {
    "execution": {
     "iopub.execute_input": "2021-06-24T03:15:54.016499Z",
     "iopub.status.busy": "2021-06-24T03:15:54.015366Z",
     "iopub.status.idle": "2021-06-24T03:15:54.020033Z",
     "shell.execute_reply": "2021-06-24T03:15:54.019527Z",
     "shell.execute_reply.started": "2021-06-23T06:45:20.852051Z"
    },
    "papermill": {
     "duration": 0.138709,
     "end_time": "2021-06-24T03:15:54.020177",
     "exception": false,
     "start_time": "2021-06-24T03:15:53.881468",
     "status": "completed"
    },
    "tags": []
   },
   "outputs": [
    {
     "data": {
      "text/html": [
       "<div>\n",
       "<style scoped>\n",
       "    .dataframe tbody tr th:only-of-type {\n",
       "        vertical-align: middle;\n",
       "    }\n",
       "\n",
       "    .dataframe tbody tr th {\n",
       "        vertical-align: top;\n",
       "    }\n",
       "\n",
       "    .dataframe thead th {\n",
       "        text-align: right;\n",
       "    }\n",
       "</style>\n",
       "<table border=\"1\" class=\"dataframe\">\n",
       "  <thead>\n",
       "    <tr style=\"text-align: right;\">\n",
       "      <th></th>\n",
       "      <th>Title</th>\n",
       "      <th>Genre</th>\n",
       "      <th>Premiere</th>\n",
       "      <th>IMDB Score</th>\n",
       "      <th>Language</th>\n",
       "      <th>days_since_premiere</th>\n",
       "      <th>runtime_cat</th>\n",
       "    </tr>\n",
       "  </thead>\n",
       "  <tbody>\n",
       "  </tbody>\n",
       "</table>\n",
       "</div>"
      ],
      "text/plain": [
       "Empty DataFrame\n",
       "Columns: [Title, Genre, Premiere, IMDB Score, Language, days_since_premiere, runtime_cat]\n",
       "Index: []"
      ]
     },
     "execution_count": 40,
     "metadata": {},
     "output_type": "execute_result"
    }
   ],
   "source": [
    "sample_incomplete_rows = netflix[netflix.isnull().any(axis=1)].head()\n",
    "sample_incomplete_rows"
   ]
  },
  {
   "cell_type": "code",
   "execution_count": 41,
   "id": "designing-reunion",
   "metadata": {
    "execution": {
     "iopub.execute_input": "2021-06-24T03:15:54.279461Z",
     "iopub.status.busy": "2021-06-24T03:15:54.278540Z",
     "iopub.status.idle": "2021-06-24T03:15:54.283297Z",
     "shell.execute_reply": "2021-06-24T03:15:54.282750Z",
     "shell.execute_reply.started": "2021-06-23T06:45:20.872922Z"
    },
    "papermill": {
     "duration": 0.13965,
     "end_time": "2021-06-24T03:15:54.283440",
     "exception": false,
     "start_time": "2021-06-24T03:15:54.143790",
     "status": "completed"
    },
    "tags": []
   },
   "outputs": [
    {
     "data": {
      "text/html": [
       "<div>\n",
       "<style scoped>\n",
       "    .dataframe tbody tr th:only-of-type {\n",
       "        vertical-align: middle;\n",
       "    }\n",
       "\n",
       "    .dataframe tbody tr th {\n",
       "        vertical-align: top;\n",
       "    }\n",
       "\n",
       "    .dataframe thead th {\n",
       "        text-align: right;\n",
       "    }\n",
       "</style>\n",
       "<table border=\"1\" class=\"dataframe\">\n",
       "  <thead>\n",
       "    <tr style=\"text-align: right;\">\n",
       "      <th></th>\n",
       "      <th>Title</th>\n",
       "      <th>Genre</th>\n",
       "      <th>Premiere</th>\n",
       "      <th>IMDB Score</th>\n",
       "      <th>Language</th>\n",
       "      <th>days_since_premiere</th>\n",
       "      <th>runtime_cat</th>\n",
       "    </tr>\n",
       "  </thead>\n",
       "  <tbody>\n",
       "  </tbody>\n",
       "</table>\n",
       "</div>"
      ],
      "text/plain": [
       "Empty DataFrame\n",
       "Columns: [Title, Genre, Premiere, IMDB Score, Language, days_since_premiere, runtime_cat]\n",
       "Index: []"
      ]
     },
     "execution_count": 41,
     "metadata": {},
     "output_type": "execute_result"
    }
   ],
   "source": [
    "median = netflix[\"IMDB Score\"].median()\n",
    "sample_incomplete_rows[\"IMDB Score\"].fillna(median, inplace=True) # option 3\n",
    "sample_incomplete_rows"
   ]
  },
  {
   "cell_type": "code",
   "execution_count": 42,
   "id": "neutral-advertising",
   "metadata": {
    "execution": {
     "iopub.execute_input": "2021-06-24T03:15:54.533400Z",
     "iopub.status.busy": "2021-06-24T03:15:54.532731Z",
     "iopub.status.idle": "2021-06-24T03:15:54.618800Z",
     "shell.execute_reply": "2021-06-24T03:15:54.618120Z",
     "shell.execute_reply.started": "2021-06-23T06:45:20.891956Z"
    },
    "papermill": {
     "duration": 0.212745,
     "end_time": "2021-06-24T03:15:54.618975",
     "exception": false,
     "start_time": "2021-06-24T03:15:54.406230",
     "status": "completed"
    },
    "tags": []
   },
   "outputs": [],
   "source": [
    "from sklearn.impute import SimpleImputer\n",
    "\n",
    "imputer = SimpleImputer(strategy=\"median\")"
   ]
  },
  {
   "cell_type": "markdown",
   "id": "fitted-ceiling",
   "metadata": {
    "papermill": {
     "duration": 0.122813,
     "end_time": "2021-06-24T03:15:54.865356",
     "exception": false,
     "start_time": "2021-06-24T03:15:54.742543",
     "status": "completed"
    },
    "tags": []
   },
   "source": [
    "Remove the text attribute because median can only be calculated on numerical attributes:"
   ]
  },
  {
   "cell_type": "code",
   "execution_count": 43,
   "id": "material-current",
   "metadata": {
    "execution": {
     "iopub.execute_input": "2021-06-24T03:15:55.127851Z",
     "iopub.status.busy": "2021-06-24T03:15:55.126883Z",
     "iopub.status.idle": "2021-06-24T03:15:55.131402Z",
     "shell.execute_reply": "2021-06-24T03:15:55.130768Z",
     "shell.execute_reply.started": "2021-06-23T06:45:20.906239Z"
    },
    "papermill": {
     "duration": 0.141142,
     "end_time": "2021-06-24T03:15:55.131550",
     "exception": false,
     "start_time": "2021-06-24T03:15:54.990408",
     "status": "completed"
    },
    "tags": []
   },
   "outputs": [
    {
     "data": {
      "text/html": [
       "<div>\n",
       "<style scoped>\n",
       "    .dataframe tbody tr th:only-of-type {\n",
       "        vertical-align: middle;\n",
       "    }\n",
       "\n",
       "    .dataframe tbody tr th {\n",
       "        vertical-align: top;\n",
       "    }\n",
       "\n",
       "    .dataframe thead th {\n",
       "        text-align: right;\n",
       "    }\n",
       "</style>\n",
       "<table border=\"1\" class=\"dataframe\">\n",
       "  <thead>\n",
       "    <tr style=\"text-align: right;\">\n",
       "      <th></th>\n",
       "      <th>IMDB Score</th>\n",
       "      <th>days_since_premiere</th>\n",
       "      <th>runtime_cat</th>\n",
       "    </tr>\n",
       "  </thead>\n",
       "  <tbody>\n",
       "    <tr>\n",
       "      <th>322</th>\n",
       "      <td>6.5</td>\n",
       "      <td>300.0</td>\n",
       "      <td>5.0</td>\n",
       "    </tr>\n",
       "    <tr>\n",
       "      <th>245</th>\n",
       "      <td>6.2</td>\n",
       "      <td>29.0</td>\n",
       "      <td>5.0</td>\n",
       "    </tr>\n",
       "    <tr>\n",
       "      <th>404</th>\n",
       "      <td>6.8</td>\n",
       "      <td>1311.0</td>\n",
       "      <td>4.0</td>\n",
       "    </tr>\n",
       "    <tr>\n",
       "      <th>91</th>\n",
       "      <td>5.3</td>\n",
       "      <td>1096.0</td>\n",
       "      <td>5.0</td>\n",
       "    </tr>\n",
       "    <tr>\n",
       "      <th>286</th>\n",
       "      <td>6.3</td>\n",
       "      <td>818.0</td>\n",
       "      <td>5.0</td>\n",
       "    </tr>\n",
       "  </tbody>\n",
       "</table>\n",
       "</div>"
      ],
      "text/plain": [
       "     IMDB Score  days_since_premiere  runtime_cat\n",
       "322         6.5                300.0          5.0\n",
       "245         6.2                 29.0          5.0\n",
       "404         6.8               1311.0          4.0\n",
       "91          5.3               1096.0          5.0\n",
       "286         6.3                818.0          5.0"
      ]
     },
     "execution_count": 43,
     "metadata": {},
     "output_type": "execute_result"
    }
   ],
   "source": [
    "# housing_num = housing.drop('ocean_proximity', axis=1)\n",
    "netflix_num = netflix.select_dtypes(include=[np.number])\n",
    "netflix_num.head()"
   ]
  },
  {
   "cell_type": "code",
   "execution_count": 44,
   "id": "terminal-police",
   "metadata": {
    "execution": {
     "iopub.execute_input": "2021-06-24T03:15:55.409653Z",
     "iopub.status.busy": "2021-06-24T03:15:55.408823Z",
     "iopub.status.idle": "2021-06-24T03:15:55.416092Z",
     "shell.execute_reply": "2021-06-24T03:15:55.415570Z",
     "shell.execute_reply.started": "2021-06-23T06:45:20.928519Z"
    },
    "papermill": {
     "duration": 0.153969,
     "end_time": "2021-06-24T03:15:55.416234",
     "exception": false,
     "start_time": "2021-06-24T03:15:55.262265",
     "status": "completed"
    },
    "tags": []
   },
   "outputs": [
    {
     "data": {
      "text/plain": [
       "SimpleImputer(strategy='median')"
      ]
     },
     "execution_count": 44,
     "metadata": {},
     "output_type": "execute_result"
    }
   ],
   "source": [
    "imputer.fit(netflix_num)"
   ]
  },
  {
   "cell_type": "code",
   "execution_count": 45,
   "id": "activated-montana",
   "metadata": {
    "execution": {
     "iopub.execute_input": "2021-06-24T03:15:55.670526Z",
     "iopub.status.busy": "2021-06-24T03:15:55.669796Z",
     "iopub.status.idle": "2021-06-24T03:15:55.673791Z",
     "shell.execute_reply": "2021-06-24T03:15:55.673209Z",
     "shell.execute_reply.started": "2021-06-23T06:45:20.94457Z"
    },
    "papermill": {
     "duration": 0.134303,
     "end_time": "2021-06-24T03:15:55.673956",
     "exception": false,
     "start_time": "2021-06-24T03:15:55.539653",
     "status": "completed"
    },
    "tags": []
   },
   "outputs": [
    {
     "data": {
      "text/plain": [
       "array([  6.3, 610. ,   5. ])"
      ]
     },
     "execution_count": 45,
     "metadata": {},
     "output_type": "execute_result"
    }
   ],
   "source": [
    "imputer.statistics_"
   ]
  },
  {
   "cell_type": "code",
   "execution_count": 46,
   "id": "median-ireland",
   "metadata": {
    "execution": {
     "iopub.execute_input": "2021-06-24T03:15:55.930944Z",
     "iopub.status.busy": "2021-06-24T03:15:55.930082Z",
     "iopub.status.idle": "2021-06-24T03:15:55.933954Z",
     "shell.execute_reply": "2021-06-24T03:15:55.933439Z",
     "shell.execute_reply.started": "2021-06-23T06:45:20.960884Z"
    },
    "papermill": {
     "duration": 0.13482,
     "end_time": "2021-06-24T03:15:55.934096",
     "exception": false,
     "start_time": "2021-06-24T03:15:55.799276",
     "status": "completed"
    },
    "tags": []
   },
   "outputs": [
    {
     "data": {
      "text/plain": [
       "array([  6.3, 610. ,   5. ])"
      ]
     },
     "execution_count": 46,
     "metadata": {},
     "output_type": "execute_result"
    }
   ],
   "source": [
    "netflix_num.median().values"
   ]
  },
  {
   "cell_type": "code",
   "execution_count": 47,
   "id": "logical-demonstration",
   "metadata": {
    "execution": {
     "iopub.execute_input": "2021-06-24T03:15:56.193526Z",
     "iopub.status.busy": "2021-06-24T03:15:56.192735Z",
     "iopub.status.idle": "2021-06-24T03:15:56.196163Z",
     "shell.execute_reply": "2021-06-24T03:15:56.195634Z",
     "shell.execute_reply.started": "2021-06-23T06:45:20.974486Z"
    },
    "papermill": {
     "duration": 0.135682,
     "end_time": "2021-06-24T03:15:56.196303",
     "exception": false,
     "start_time": "2021-06-24T03:15:56.060621",
     "status": "completed"
    },
    "tags": []
   },
   "outputs": [],
   "source": [
    "X = imputer.transform(netflix_num)"
   ]
  },
  {
   "cell_type": "code",
   "execution_count": 48,
   "id": "specialized-protein",
   "metadata": {
    "execution": {
     "iopub.execute_input": "2021-06-24T03:15:56.452556Z",
     "iopub.status.busy": "2021-06-24T03:15:56.451532Z",
     "iopub.status.idle": "2021-06-24T03:15:56.454023Z",
     "shell.execute_reply": "2021-06-24T03:15:56.453398Z",
     "shell.execute_reply.started": "2021-06-23T06:45:20.98615Z"
    },
    "papermill": {
     "duration": 0.132569,
     "end_time": "2021-06-24T03:15:56.454164",
     "exception": false,
     "start_time": "2021-06-24T03:15:56.321595",
     "status": "completed"
    },
    "tags": []
   },
   "outputs": [],
   "source": [
    "netflix_tr = pd.DataFrame(X, columns=netflix_num.columns,\n",
    "                          index = list(netflix.index.values))"
   ]
  },
  {
   "cell_type": "code",
   "execution_count": 49,
   "id": "exposed-adobe",
   "metadata": {
    "execution": {
     "iopub.execute_input": "2021-06-24T03:15:56.712081Z",
     "iopub.status.busy": "2021-06-24T03:15:56.711139Z",
     "iopub.status.idle": "2021-06-24T03:15:56.715561Z",
     "shell.execute_reply": "2021-06-24T03:15:56.715070Z",
     "shell.execute_reply.started": "2021-06-23T06:45:20.999599Z"
    },
    "papermill": {
     "duration": 0.137253,
     "end_time": "2021-06-24T03:15:56.715705",
     "exception": false,
     "start_time": "2021-06-24T03:15:56.578452",
     "status": "completed"
    },
    "scrolled": true,
    "tags": []
   },
   "outputs": [
    {
     "data": {
      "text/html": [
       "<div>\n",
       "<style scoped>\n",
       "    .dataframe tbody tr th:only-of-type {\n",
       "        vertical-align: middle;\n",
       "    }\n",
       "\n",
       "    .dataframe tbody tr th {\n",
       "        vertical-align: top;\n",
       "    }\n",
       "\n",
       "    .dataframe thead th {\n",
       "        text-align: right;\n",
       "    }\n",
       "</style>\n",
       "<table border=\"1\" class=\"dataframe\">\n",
       "  <thead>\n",
       "    <tr style=\"text-align: right;\">\n",
       "      <th></th>\n",
       "      <th>IMDB Score</th>\n",
       "      <th>days_since_premiere</th>\n",
       "      <th>runtime_cat</th>\n",
       "    </tr>\n",
       "  </thead>\n",
       "  <tbody>\n",
       "  </tbody>\n",
       "</table>\n",
       "</div>"
      ],
      "text/plain": [
       "Empty DataFrame\n",
       "Columns: [IMDB Score, days_since_premiere, runtime_cat]\n",
       "Index: []"
      ]
     },
     "execution_count": 49,
     "metadata": {},
     "output_type": "execute_result"
    }
   ],
   "source": [
    "netflix_tr.loc[sample_incomplete_rows.index.values]"
   ]
  },
  {
   "cell_type": "code",
   "execution_count": 50,
   "id": "cardiac-parent",
   "metadata": {
    "execution": {
     "iopub.execute_input": "2021-06-24T03:15:56.970104Z",
     "iopub.status.busy": "2021-06-24T03:15:56.969254Z",
     "iopub.status.idle": "2021-06-24T03:15:56.972627Z",
     "shell.execute_reply": "2021-06-24T03:15:56.973097Z",
     "shell.execute_reply.started": "2021-06-23T06:45:21.019039Z"
    },
    "papermill": {
     "duration": 0.133181,
     "end_time": "2021-06-24T03:15:56.973291",
     "exception": false,
     "start_time": "2021-06-24T03:15:56.840110",
     "status": "completed"
    },
    "tags": []
   },
   "outputs": [
    {
     "data": {
      "text/plain": [
       "'median'"
      ]
     },
     "execution_count": 50,
     "metadata": {},
     "output_type": "execute_result"
    }
   ],
   "source": [
    "imputer.strategy"
   ]
  },
  {
   "cell_type": "code",
   "execution_count": 51,
   "id": "historical-cookie",
   "metadata": {
    "execution": {
     "iopub.execute_input": "2021-06-24T03:15:57.241008Z",
     "iopub.status.busy": "2021-06-24T03:15:57.240030Z",
     "iopub.status.idle": "2021-06-24T03:15:57.244736Z",
     "shell.execute_reply": "2021-06-24T03:15:57.244182Z",
     "shell.execute_reply.started": "2021-06-23T06:45:21.034019Z"
    },
    "papermill": {
     "duration": 0.143348,
     "end_time": "2021-06-24T03:15:57.244905",
     "exception": false,
     "start_time": "2021-06-24T03:15:57.101557",
     "status": "completed"
    },
    "tags": []
   },
   "outputs": [
    {
     "data": {
      "text/html": [
       "<div>\n",
       "<style scoped>\n",
       "    .dataframe tbody tr th:only-of-type {\n",
       "        vertical-align: middle;\n",
       "    }\n",
       "\n",
       "    .dataframe tbody tr th {\n",
       "        vertical-align: top;\n",
       "    }\n",
       "\n",
       "    .dataframe thead th {\n",
       "        text-align: right;\n",
       "    }\n",
       "</style>\n",
       "<table border=\"1\" class=\"dataframe\">\n",
       "  <thead>\n",
       "    <tr style=\"text-align: right;\">\n",
       "      <th></th>\n",
       "      <th>IMDB Score</th>\n",
       "      <th>days_since_premiere</th>\n",
       "      <th>runtime_cat</th>\n",
       "    </tr>\n",
       "  </thead>\n",
       "  <tbody>\n",
       "    <tr>\n",
       "      <th>0</th>\n",
       "      <td>6.5</td>\n",
       "      <td>300.0</td>\n",
       "      <td>5.0</td>\n",
       "    </tr>\n",
       "    <tr>\n",
       "      <th>1</th>\n",
       "      <td>6.2</td>\n",
       "      <td>29.0</td>\n",
       "      <td>5.0</td>\n",
       "    </tr>\n",
       "    <tr>\n",
       "      <th>2</th>\n",
       "      <td>6.8</td>\n",
       "      <td>1311.0</td>\n",
       "      <td>4.0</td>\n",
       "    </tr>\n",
       "    <tr>\n",
       "      <th>3</th>\n",
       "      <td>5.3</td>\n",
       "      <td>1096.0</td>\n",
       "      <td>5.0</td>\n",
       "    </tr>\n",
       "    <tr>\n",
       "      <th>4</th>\n",
       "      <td>6.3</td>\n",
       "      <td>818.0</td>\n",
       "      <td>5.0</td>\n",
       "    </tr>\n",
       "  </tbody>\n",
       "</table>\n",
       "</div>"
      ],
      "text/plain": [
       "   IMDB Score  days_since_premiere  runtime_cat\n",
       "0         6.5                300.0          5.0\n",
       "1         6.2                 29.0          5.0\n",
       "2         6.8               1311.0          4.0\n",
       "3         5.3               1096.0          5.0\n",
       "4         6.3                818.0          5.0"
      ]
     },
     "execution_count": 51,
     "metadata": {},
     "output_type": "execute_result"
    }
   ],
   "source": [
    "netflix_tr = pd.DataFrame(X, columns=netflix_num.columns)\n",
    "netflix_tr.head()"
   ]
  },
  {
   "cell_type": "markdown",
   "id": "champion-surveillance",
   "metadata": {
    "papermill": {
     "duration": 0.12592,
     "end_time": "2021-06-24T03:15:57.497196",
     "exception": false,
     "start_time": "2021-06-24T03:15:57.371276",
     "status": "completed"
    },
    "tags": []
   },
   "source": [
    "Now let's preprocess the categorical input feature, ocean_proximity:"
   ]
  },
  {
   "cell_type": "code",
   "execution_count": 52,
   "id": "decimal-hamilton",
   "metadata": {
    "execution": {
     "iopub.execute_input": "2021-06-24T03:15:57.755199Z",
     "iopub.status.busy": "2021-06-24T03:15:57.754312Z",
     "iopub.status.idle": "2021-06-24T03:15:57.758081Z",
     "shell.execute_reply": "2021-06-24T03:15:57.758553Z",
     "shell.execute_reply.started": "2021-06-23T06:45:21.05606Z"
    },
    "papermill": {
     "duration": 0.136581,
     "end_time": "2021-06-24T03:15:57.758717",
     "exception": false,
     "start_time": "2021-06-24T03:15:57.622136",
     "status": "completed"
    },
    "tags": []
   },
   "outputs": [
    {
     "data": {
      "text/plain": [
       "322              Drama\n",
       "245             Biopic\n",
       "404        Documentary\n",
       "91     Romantic comedy\n",
       "286        Documentary\n",
       "Name: Genre, dtype: object"
      ]
     },
     "execution_count": 52,
     "metadata": {},
     "output_type": "execute_result"
    }
   ],
   "source": [
    "# housing_cat = housing[['Suburb','Type','Method','SellerG','CouncilArea','Regionname']]\n",
    "netflix_cat = netflix['Genre']\n",
    "netflix_cat.head()"
   ]
  },
  {
   "cell_type": "code",
   "execution_count": 53,
   "id": "adolescent-wilderness",
   "metadata": {
    "execution": {
     "iopub.execute_input": "2021-06-24T03:15:58.017441Z",
     "iopub.status.busy": "2021-06-24T03:15:58.016490Z",
     "iopub.status.idle": "2021-06-24T03:15:58.019756Z",
     "shell.execute_reply": "2021-06-24T03:15:58.019254Z",
     "shell.execute_reply.started": "2021-06-23T06:45:21.073664Z"
    },
    "papermill": {
     "duration": 0.134863,
     "end_time": "2021-06-24T03:15:58.019912",
     "exception": false,
     "start_time": "2021-06-24T03:15:57.885049",
     "status": "completed"
    },
    "tags": []
   },
   "outputs": [],
   "source": [
    "from sklearn.preprocessing import OrdinalEncoder"
   ]
  },
  {
   "cell_type": "code",
   "execution_count": 54,
   "id": "operating-solid",
   "metadata": {
    "execution": {
     "iopub.execute_input": "2021-06-24T03:15:58.282935Z",
     "iopub.status.busy": "2021-06-24T03:15:58.281807Z",
     "iopub.status.idle": "2021-06-24T03:15:58.286390Z",
     "shell.execute_reply": "2021-06-24T03:15:58.285863Z",
     "shell.execute_reply.started": "2021-06-23T06:45:21.088858Z"
    },
    "papermill": {
     "duration": 0.139178,
     "end_time": "2021-06-24T03:15:58.286535",
     "exception": false,
     "start_time": "2021-06-24T03:15:58.147357",
     "status": "completed"
    },
    "tags": []
   },
   "outputs": [
    {
     "data": {
      "text/plain": [
       "count             525\n",
       "unique            109\n",
       "top       Documentary\n",
       "freq              141\n",
       "Name: Genre, dtype: object"
      ]
     },
     "execution_count": 54,
     "metadata": {},
     "output_type": "execute_result"
    }
   ],
   "source": [
    "netflix_cat.describe()"
   ]
  },
  {
   "cell_type": "code",
   "execution_count": 55,
   "id": "recovered-harvey",
   "metadata": {
    "execution": {
     "iopub.execute_input": "2021-06-24T03:15:58.562360Z",
     "iopub.status.busy": "2021-06-24T03:15:58.557099Z",
     "iopub.status.idle": "2021-06-24T03:15:58.602548Z",
     "shell.execute_reply": "2021-06-24T03:15:58.603329Z",
     "shell.execute_reply.started": "2021-06-23T06:45:21.110721Z"
    },
    "papermill": {
     "duration": 0.190409,
     "end_time": "2021-06-24T03:15:58.603536",
     "exception": false,
     "start_time": "2021-06-24T03:15:58.413127",
     "status": "completed"
    },
    "tags": []
   },
   "outputs": [
    {
     "data": {
      "text/plain": [
       "array([[0., 0., 0., 0., 0., 0., 0., 0., 0., 0., 0., 0., 0., 0., 0., 0.,\n",
       "        0., 0., 0., 0., 0., 0., 0., 0., 0., 0., 0., 0., 0., 0., 0., 0.,\n",
       "        0., 0., 0., 0., 0., 0., 0., 0., 0., 0., 0., 0., 0., 0., 0., 0.,\n",
       "        0., 0., 0., 0., 0., 0., 0., 0., 0., 0., 0., 0., 0., 0., 0., 0.,\n",
       "        0., 0., 0., 0., 0., 0., 0., 0., 0., 0., 0., 0., 0., 0., 0., 0.,\n",
       "        0., 0., 0., 0., 0., 0., 0., 0., 0., 0., 0., 0., 0., 0., 0., 0.,\n",
       "        0., 0., 0., 0., 0., 0., 0., 0., 0., 0., 0., 0., 0., 0., 0., 0.,\n",
       "        0., 0., 0., 0., 0., 0., 0., 0., 0., 0., 0., 0., 0., 0., 0., 0.,\n",
       "        0., 0., 0., 0., 0., 0., 0., 0., 0., 0., 0., 0., 0., 0., 0., 0.,\n",
       "        0., 0., 0., 0., 0., 0., 0., 0., 0., 0., 0., 0., 0., 0., 0., 0.,\n",
       "        0., 0., 0., 0., 0., 0., 0., 0., 0., 0., 0., 0., 0., 0., 0., 0.,\n",
       "        0., 0., 0., 0., 0., 0., 0., 0., 0., 0., 0., 0., 0., 0., 0., 0.,\n",
       "        0., 0., 0., 0., 0., 0., 0., 0., 0., 0., 0., 0., 0., 0., 0., 0.,\n",
       "        0., 0., 0., 0., 0., 0., 0., 0., 0., 0., 0., 0., 0., 0., 0., 0.,\n",
       "        0., 0., 0., 0., 0., 0., 0., 0., 0., 0., 0., 0., 0., 0., 0., 0.,\n",
       "        0., 0., 0., 0., 0., 0., 0., 0., 0., 0., 0., 0., 0., 0., 0., 0.,\n",
       "        0., 0., 0., 0., 0., 0., 0., 0., 0., 0., 0., 0., 0., 0., 0., 0.,\n",
       "        0., 0., 0., 0., 0., 0., 0., 0., 0., 0., 0., 0., 0., 0., 0., 0.,\n",
       "        0., 0., 0., 0., 0., 0., 0., 0., 0., 0., 0., 0., 0., 0., 0., 0.,\n",
       "        0., 0., 0., 0., 0., 0., 0., 0., 0., 0., 0., 0., 0., 0., 0., 0.,\n",
       "        0., 0., 0., 0., 0., 0., 0., 0., 0., 0., 0., 0., 0., 0., 0., 0.,\n",
       "        0., 0., 0., 0., 0., 0., 0., 0., 0., 0., 0., 0., 0., 0., 0., 0.,\n",
       "        0., 0., 0., 0., 0., 0., 0., 0., 0., 0., 0., 0., 0., 0., 0., 0.,\n",
       "        0., 0., 0., 0., 0., 0., 0., 0., 0., 0., 0., 0., 0., 0., 0., 0.,\n",
       "        0., 0., 0., 0., 0., 0., 0., 0., 0., 0., 0., 0., 0., 0., 0., 0.,\n",
       "        0., 0., 0., 0., 0., 0., 0., 0., 0., 0., 0., 0., 0., 0., 0., 0.,\n",
       "        0., 0., 0., 0., 0., 0., 0., 0., 0., 0., 0., 0., 0., 0., 0., 0.,\n",
       "        0., 0., 0., 0., 0., 0., 0., 0., 0., 0., 0., 0., 0., 0., 0., 0.,\n",
       "        0., 0., 0., 0., 0., 0., 0., 0., 0., 0., 0., 0., 0., 0., 0., 0.,\n",
       "        0., 0., 0., 0., 0., 0., 0., 0., 0., 0., 0., 0., 0., 0., 0., 0.,\n",
       "        0., 0., 0., 0., 0., 0., 0., 0., 0., 0., 0., 0., 0., 0., 0., 0.,\n",
       "        0., 0., 0., 0., 0., 0., 0., 0., 0., 0., 0., 0., 0., 0., 0., 0.,\n",
       "        0., 0., 0., 0., 0., 0., 0., 0., 0., 0., 0., 0., 0.]])"
      ]
     },
     "execution_count": 55,
     "metadata": {},
     "output_type": "execute_result"
    }
   ],
   "source": [
    "ordinal_encoder = OrdinalEncoder()\n",
    "netflix_cat_encoded = ordinal_encoder.fit_transform(netflix_cat.values.reshape(1,-1))\n",
    "netflix_cat_encoded[:10]"
   ]
  },
  {
   "cell_type": "code",
   "execution_count": 56,
   "id": "rolled-relations",
   "metadata": {
    "execution": {
     "iopub.execute_input": "2021-06-24T03:15:58.862371Z",
     "iopub.status.busy": "2021-06-24T03:15:58.861398Z",
     "iopub.status.idle": "2021-06-24T03:15:58.895072Z",
     "shell.execute_reply": "2021-06-24T03:15:58.895567Z",
     "shell.execute_reply.started": "2021-06-23T06:45:21.172547Z"
    },
    "papermill": {
     "duration": 0.164586,
     "end_time": "2021-06-24T03:15:58.895738",
     "exception": false,
     "start_time": "2021-06-24T03:15:58.731152",
     "status": "completed"
    },
    "tags": []
   },
   "outputs": [
    {
     "data": {
      "text/plain": [
       "[array(['Drama'], dtype=object),\n",
       " array(['Biopic'], dtype=object),\n",
       " array(['Documentary'], dtype=object),\n",
       " array(['Romantic comedy'], dtype=object),\n",
       " array(['Documentary'], dtype=object),\n",
       " array(['Comedy'], dtype=object),\n",
       " array(['Romantic comedy'], dtype=object),\n",
       " array(['Comedy'], dtype=object),\n",
       " array(['Horror'], dtype=object),\n",
       " array(['Documentary'], dtype=object),\n",
       " array(['Documentary'], dtype=object),\n",
       " array(['Documentary'], dtype=object),\n",
       " array(['Documentary'], dtype=object),\n",
       " array(['Documentary'], dtype=object),\n",
       " array(['Documentary'], dtype=object),\n",
       " array(['Action comedy'], dtype=object),\n",
       " array(['Anime/Fantasy'], dtype=object),\n",
       " array(['Documentary'], dtype=object),\n",
       " array(['Satire'], dtype=object),\n",
       " array(['Thriller'], dtype=object),\n",
       " array(['Romantic drama'], dtype=object),\n",
       " array(['Romantic comedy'], dtype=object),\n",
       " array(['Heist'], dtype=object),\n",
       " array(['Romantic comedy'], dtype=object),\n",
       " array(['Action'], dtype=object),\n",
       " array(['Animation/Musical/Adventure'], dtype=object),\n",
       " array(['Action comedy'], dtype=object),\n",
       " array(['Comedy'], dtype=object),\n",
       " array(['Spy thriller'], dtype=object),\n",
       " array(['Drama'], dtype=object),\n",
       " array(['Documentary'], dtype=object),\n",
       " array(['Documentary'], dtype=object),\n",
       " array(['Romance drama'], dtype=object),\n",
       " array(['Thriller'], dtype=object),\n",
       " array(['Aftershow / Interview'], dtype=object),\n",
       " array(['Comedy'], dtype=object),\n",
       " array(['Thriller'], dtype=object),\n",
       " array(['Romantic comedy'], dtype=object),\n",
       " array(['Romantic comedy'], dtype=object),\n",
       " array(['Action/Comedy'], dtype=object),\n",
       " array(['Documentary'], dtype=object),\n",
       " array(['Dark comedy'], dtype=object),\n",
       " array(['Western'], dtype=object),\n",
       " array(['Documentary'], dtype=object),\n",
       " array(['Crime drama'], dtype=object),\n",
       " array(['Musical'], dtype=object),\n",
       " array(['Documentary'], dtype=object),\n",
       " array(['Comedy'], dtype=object),\n",
       " array(['Drama'], dtype=object),\n",
       " array(['Drama'], dtype=object),\n",
       " array(['Documentary'], dtype=object),\n",
       " array(['Comedy mystery'], dtype=object),\n",
       " array(['Science fiction/Thriller'], dtype=object),\n",
       " array(['Comedy'], dtype=object),\n",
       " array(['Documentary'], dtype=object),\n",
       " array(['Action'], dtype=object),\n",
       " array(['Action'], dtype=object),\n",
       " array(['Romantic comedy'], dtype=object),\n",
       " array(['Comedy'], dtype=object),\n",
       " array(['Comedy / Musical'], dtype=object),\n",
       " array(['Comedy'], dtype=object),\n",
       " array(['Documentary'], dtype=object),\n",
       " array(['Thriller'], dtype=object),\n",
       " array(['Drama'], dtype=object),\n",
       " array(['Documentary'], dtype=object),\n",
       " array(['Sports-drama'], dtype=object),\n",
       " array(['Drama'], dtype=object),\n",
       " array(['Documentary'], dtype=object),\n",
       " array(['Teen comedy-drama'], dtype=object),\n",
       " array(['Drama'], dtype=object),\n",
       " array(['Biopic'], dtype=object),\n",
       " array(['Horror'], dtype=object),\n",
       " array(['Comedy/Horror'], dtype=object),\n",
       " array(['Comedy'], dtype=object),\n",
       " array(['Documentary'], dtype=object),\n",
       " array(['Romantic drama'], dtype=object),\n",
       " array(['Documentary'], dtype=object),\n",
       " array(['Western'], dtype=object),\n",
       " array(['Drama'], dtype=object),\n",
       " array(['Horror/Crime drama'], dtype=object),\n",
       " array(['Romantic comedy'], dtype=object),\n",
       " array(['Psychological thriller'], dtype=object),\n",
       " array(['Documentary'], dtype=object),\n",
       " array(['Thriller'], dtype=object),\n",
       " array(['Teen comedy horror'], dtype=object),\n",
       " array(['Comedy'], dtype=object),\n",
       " array(['Documentary'], dtype=object),\n",
       " array(['Historical drama'], dtype=object),\n",
       " array(['Black comedy'], dtype=object),\n",
       " array(['Drama'], dtype=object),\n",
       " array(['Romantic comedy'], dtype=object),\n",
       " array(['Documentary'], dtype=object),\n",
       " array(['Family film'], dtype=object),\n",
       " array(['Documentary'], dtype=object),\n",
       " array(['Documentary'], dtype=object),\n",
       " array(['Drama'], dtype=object),\n",
       " array(['Science fiction/Drama'], dtype=object),\n",
       " array(['Documentary'], dtype=object),\n",
       " array(['Thriller'], dtype=object),\n",
       " array(['Documentary'], dtype=object),\n",
       " array(['Drama'], dtype=object),\n",
       " array(['War drama'], dtype=object),\n",
       " array(['Superhero/Action'], dtype=object),\n",
       " array(['Drama'], dtype=object),\n",
       " array(['Horror-thriller'], dtype=object),\n",
       " array(['Drama'], dtype=object),\n",
       " array(['Thriller'], dtype=object),\n",
       " array(['War'], dtype=object),\n",
       " array(['Documentary'], dtype=object),\n",
       " array(['Drama'], dtype=object),\n",
       " array(['Documentary'], dtype=object),\n",
       " array(['Biopic'], dtype=object),\n",
       " array(['Documentary'], dtype=object),\n",
       " array(['Drama'], dtype=object),\n",
       " array(['Concert Film'], dtype=object),\n",
       " array(['War'], dtype=object),\n",
       " array(['Dance comedy'], dtype=object),\n",
       " array(['Drama'], dtype=object),\n",
       " array(['Variety show'], dtype=object),\n",
       " array(['Drama'], dtype=object),\n",
       " array(['Documentary'], dtype=object),\n",
       " array(['Zombie/Heist'], dtype=object),\n",
       " array(['Drama'], dtype=object),\n",
       " array(['Documentary'], dtype=object),\n",
       " array(['Comedy'], dtype=object),\n",
       " array(['Animation / Short'], dtype=object),\n",
       " array(['Comedy'], dtype=object),\n",
       " array(['Documentary'], dtype=object),\n",
       " array(['Christmas comedy'], dtype=object),\n",
       " array(['Comedy-drama'], dtype=object),\n",
       " array(['Horror'], dtype=object),\n",
       " array(['Romantic comedy'], dtype=object),\n",
       " array(['Documentary'], dtype=object),\n",
       " array(['Western'], dtype=object),\n",
       " array(['Documentary'], dtype=object),\n",
       " array(['Drama'], dtype=object),\n",
       " array(['Drama'], dtype=object),\n",
       " array(['Psychological thriller drama'], dtype=object),\n",
       " array(['Mystery'], dtype=object),\n",
       " array(['Documentary'], dtype=object),\n",
       " array(['Mockumentary'], dtype=object),\n",
       " array(['Action/Science fiction'], dtype=object),\n",
       " array(['Comedy'], dtype=object),\n",
       " array(['Documentary'], dtype=object),\n",
       " array(['Horror'], dtype=object),\n",
       " array(['Comedy-drama'], dtype=object),\n",
       " array(['Documentary'], dtype=object),\n",
       " array(['Drama'], dtype=object),\n",
       " array(['Historical-epic'], dtype=object),\n",
       " array(['Documentary'], dtype=object),\n",
       " array(['Crime drama'], dtype=object),\n",
       " array(['Romantic comedy'], dtype=object),\n",
       " array(['Political thriller'], dtype=object),\n",
       " array(['Documentary'], dtype=object),\n",
       " array(['Documentary'], dtype=object),\n",
       " array(['Drama'], dtype=object),\n",
       " array(['Documentary'], dtype=object),\n",
       " array(['Documentary'], dtype=object),\n",
       " array(['Comedy'], dtype=object),\n",
       " array(['Drama'], dtype=object),\n",
       " array(['Documentary'], dtype=object),\n",
       " array(['Adventure-romance'], dtype=object),\n",
       " array(['Drama'], dtype=object),\n",
       " array(['Drama'], dtype=object),\n",
       " array(['Variety Show'], dtype=object),\n",
       " array(['Documentary'], dtype=object),\n",
       " array(['Family'], dtype=object),\n",
       " array(['Musical / Short'], dtype=object),\n",
       " array(['Romantic comedy'], dtype=object),\n",
       " array(['War drama'], dtype=object),\n",
       " array(['Mockumentary'], dtype=object),\n",
       " array(['Documentary'], dtype=object),\n",
       " array(['Documentary'], dtype=object),\n",
       " array(['Drama'], dtype=object),\n",
       " array(['Documentary'], dtype=object),\n",
       " array(['Documentary'], dtype=object),\n",
       " array(['Stop Motion'], dtype=object),\n",
       " array(['Horror thriller'], dtype=object),\n",
       " array(['Thriller'], dtype=object),\n",
       " array(['Comedy-drama'], dtype=object),\n",
       " array(['Comedy'], dtype=object),\n",
       " array(['Aftershow / Interview'], dtype=object),\n",
       " array(['Comedy'], dtype=object),\n",
       " array(['Comedy-drama'], dtype=object),\n",
       " array(['Action-adventure'], dtype=object),\n",
       " array(['Documentary'], dtype=object),\n",
       " array(['Comedy'], dtype=object),\n",
       " array(['Action comedy'], dtype=object),\n",
       " array(['Anime/Science fiction'], dtype=object),\n",
       " array(['Concert Film'], dtype=object),\n",
       " array(['Documentary'], dtype=object),\n",
       " array(['Comedy'], dtype=object),\n",
       " array(['Drama'], dtype=object),\n",
       " array(['Comedy'], dtype=object),\n",
       " array(['Comedy'], dtype=object),\n",
       " array(['Romantic comedy'], dtype=object),\n",
       " array(['Animation / Short'], dtype=object),\n",
       " array(['Comedy-drama'], dtype=object),\n",
       " array(['Documentary'], dtype=object),\n",
       " array(['Romance'], dtype=object),\n",
       " array(['Comedy-drama'], dtype=object),\n",
       " array(['Animation'], dtype=object),\n",
       " array(['Documentary'], dtype=object),\n",
       " array(['Documentary'], dtype=object),\n",
       " array(['Romantic drama'], dtype=object),\n",
       " array(['Crime drama'], dtype=object),\n",
       " array(['Drama'], dtype=object),\n",
       " array(['Action'], dtype=object),\n",
       " array(['Documentary'], dtype=object),\n",
       " array(['Documentary'], dtype=object),\n",
       " array(['Documentary'], dtype=object),\n",
       " array(['Documentary'], dtype=object),\n",
       " array(['Documentary'], dtype=object),\n",
       " array(['Comedy'], dtype=object),\n",
       " array(['Christmas/Fantasy/Adventure/Comedy'], dtype=object),\n",
       " array(['Thriller'], dtype=object),\n",
       " array(['Anime / Short'], dtype=object),\n",
       " array(['Documentary'], dtype=object),\n",
       " array(['Documentary'], dtype=object),\n",
       " array(['Action thriller'], dtype=object),\n",
       " array(['Hidden-camera prank comedy'], dtype=object),\n",
       " array(['Christian musical'], dtype=object),\n",
       " array(['Comedy'], dtype=object),\n",
       " array(['Romantic comedy'], dtype=object),\n",
       " array(['Romance'], dtype=object),\n",
       " array(['Horror comedy'], dtype=object),\n",
       " array(['Superhero-Comedy'], dtype=object),\n",
       " array(['Thriller'], dtype=object),\n",
       " array(['Romantic comedy'], dtype=object),\n",
       " array(['Comedy'], dtype=object),\n",
       " array(['Romantic comedy'], dtype=object),\n",
       " array(['Documentary'], dtype=object),\n",
       " array(['Biopic'], dtype=object),\n",
       " array(['Psychological horror'], dtype=object),\n",
       " array(['Drama'], dtype=object),\n",
       " array(['One-man show'], dtype=object),\n",
       " array(['Crime drama'], dtype=object),\n",
       " array(['Family/Christmas musical'], dtype=object),\n",
       " array(['Romantic comedy'], dtype=object),\n",
       " array(['Documentary'], dtype=object),\n",
       " array(['Mystery'], dtype=object),\n",
       " array(['Documentary'], dtype=object),\n",
       " array(['Romantic comedy'], dtype=object),\n",
       " array(['Fantasy'], dtype=object),\n",
       " array(['Drama'], dtype=object),\n",
       " array(['Comedy'], dtype=object),\n",
       " array(['Crime drama'], dtype=object),\n",
       " array(['Documentary'], dtype=object),\n",
       " array(['Documentary'], dtype=object),\n",
       " array(['Documentary'], dtype=object),\n",
       " array(['Comedy'], dtype=object),\n",
       " array(['Biopic'], dtype=object),\n",
       " array(['Documentary'], dtype=object),\n",
       " array(['Thriller'], dtype=object),\n",
       " array(['Psychological thriller'], dtype=object),\n",
       " array(['Documentary'], dtype=object),\n",
       " array(['Documentary'], dtype=object),\n",
       " array(['Drama'], dtype=object),\n",
       " array(['Action comedy'], dtype=object),\n",
       " array(['Action-thriller'], dtype=object),\n",
       " array(['Urban fantasy'], dtype=object),\n",
       " array(['Romantic comedy'], dtype=object),\n",
       " array(['Science fiction thriller'], dtype=object),\n",
       " array(['Thriller'], dtype=object),\n",
       " array(['Romantic drama'], dtype=object),\n",
       " array(['Documentary'], dtype=object),\n",
       " array(['Biopic'], dtype=object),\n",
       " array(['Comedy'], dtype=object),\n",
       " array(['Crime drama'], dtype=object),\n",
       " array(['Romantic comedy'], dtype=object),\n",
       " array(['Sports film'], dtype=object),\n",
       " array(['One-man show'], dtype=object),\n",
       " array(['Romantic comedy'], dtype=object),\n",
       " array(['Anime/Science fiction'], dtype=object),\n",
       " array(['Romantic comedy'], dtype=object),\n",
       " array(['Drama'], dtype=object),\n",
       " array(['Documentary'], dtype=object),\n",
       " array(['Documentary'], dtype=object),\n",
       " array(['Spy thriller'], dtype=object),\n",
       " array(['Horror'], dtype=object),\n",
       " array(['Thriller'], dtype=object),\n",
       " array(['Documentary'], dtype=object),\n",
       " array(['Musical comedy'], dtype=object),\n",
       " array(['Drama'], dtype=object),\n",
       " array(['Documentary'], dtype=object),\n",
       " array(['Animation'], dtype=object),\n",
       " array(['Thriller'], dtype=object),\n",
       " array(['Drama'], dtype=object),\n",
       " array(['Crime drama'], dtype=object),\n",
       " array(['Drama'], dtype=object),\n",
       " array(['Documentary'], dtype=object),\n",
       " array(['Horror thriller'], dtype=object),\n",
       " array(['Animation / Science Fiction'], dtype=object),\n",
       " array(['Comedy horror'], dtype=object),\n",
       " array(['Comedy'], dtype=object),\n",
       " array(['Comedy'], dtype=object),\n",
       " array(['Documentary'], dtype=object),\n",
       " array(['Science fiction/Action'], dtype=object),\n",
       " array(['Documentary'], dtype=object),\n",
       " array(['Documentary'], dtype=object),\n",
       " array(['Romantic comedy'], dtype=object),\n",
       " array(['Documentary'], dtype=object),\n",
       " array(['Documentary'], dtype=object),\n",
       " array(['Romantic comedy'], dtype=object),\n",
       " array(['Documentary'], dtype=object),\n",
       " array(['Drama'], dtype=object),\n",
       " array(['Documentary'], dtype=object),\n",
       " array(['Musical comedy'], dtype=object),\n",
       " array(['Science fiction/Thriller'], dtype=object),\n",
       " array(['Romantic teen drama'], dtype=object),\n",
       " array(['Comedy-drama'], dtype=object),\n",
       " array(['Documentary'], dtype=object),\n",
       " array(['Romance'], dtype=object),\n",
       " array(['Documentary'], dtype=object),\n",
       " array(['Musical/Western/Fantasy'], dtype=object),\n",
       " array(['Romantic comedy'], dtype=object),\n",
       " array(['Drama'], dtype=object),\n",
       " array(['Biopic'], dtype=object),\n",
       " array(['Adventure'], dtype=object),\n",
       " array(['Drama-Comedy'], dtype=object),\n",
       " array(['Family film'], dtype=object),\n",
       " array(['Documentary'], dtype=object),\n",
       " array(['Superhero'], dtype=object),\n",
       " array(['Comedy'], dtype=object),\n",
       " array(['Drama'], dtype=object),\n",
       " array(['Documentary'], dtype=object),\n",
       " array(['Documentary'], dtype=object),\n",
       " array(['Comedy'], dtype=object),\n",
       " array(['Documentary'], dtype=object),\n",
       " array(['Thriller'], dtype=object),\n",
       " array(['Romantic comedy'], dtype=object),\n",
       " array(['Comedy'], dtype=object),\n",
       " array(['Comedy'], dtype=object),\n",
       " array(['Documentary'], dtype=object),\n",
       " array(['Documentary'], dtype=object),\n",
       " array(['Documentary'], dtype=object),\n",
       " array(['Dark comedy'], dtype=object),\n",
       " array(['Musical'], dtype=object),\n",
       " array(['Documentary'], dtype=object),\n",
       " array(['Romantic comedy'], dtype=object),\n",
       " array(['Animation / Musicial'], dtype=object),\n",
       " array(['Romantic comedy-drama'], dtype=object),\n",
       " array(['Science fiction/Drama'], dtype=object),\n",
       " array(['Making-of'], dtype=object),\n",
       " array(['Romantic comedy'], dtype=object),\n",
       " array(['Documentary'], dtype=object),\n",
       " array(['Romantic thriller'], dtype=object),\n",
       " array(['Drama'], dtype=object),\n",
       " array(['Animation'], dtype=object),\n",
       " array(['Documentary'], dtype=object),\n",
       " array(['Concert Film'], dtype=object),\n",
       " array(['Romantic comedy'], dtype=object),\n",
       " array(['Romantic teenage drama'], dtype=object),\n",
       " array(['Romance'], dtype=object),\n",
       " array(['Documentary'], dtype=object),\n",
       " array(['Documentary'], dtype=object),\n",
       " array(['Comedy'], dtype=object),\n",
       " array(['Documentary'], dtype=object),\n",
       " array(['Drama'], dtype=object),\n",
       " array(['Romantic comedy'], dtype=object),\n",
       " array(['Drama'], dtype=object),\n",
       " array(['Drama'], dtype=object),\n",
       " array(['Horror-thriller'], dtype=object),\n",
       " array(['Family'], dtype=object),\n",
       " array(['Documentary'], dtype=object),\n",
       " array(['Drama'], dtype=object),\n",
       " array(['Drama'], dtype=object),\n",
       " array(['Documentary'], dtype=object),\n",
       " array(['Documentary'], dtype=object),\n",
       " array(['Animated musical comedy'], dtype=object),\n",
       " array(['Drama'], dtype=object),\n",
       " array(['Comedy-drama'], dtype=object),\n",
       " array(['Animation / Comedy'], dtype=object),\n",
       " array(['Drama'], dtype=object),\n",
       " array(['Drama'], dtype=object),\n",
       " array(['Comedy-drama'], dtype=object),\n",
       " array(['Drama'], dtype=object),\n",
       " array(['Drama'], dtype=object),\n",
       " array(['Drama'], dtype=object),\n",
       " array(['Comedy-drama'], dtype=object),\n",
       " array(['Drama'], dtype=object),\n",
       " array(['Horror'], dtype=object),\n",
       " array(['Drama / Short'], dtype=object),\n",
       " array(['Romantic comedy'], dtype=object),\n",
       " array(['Animation'], dtype=object),\n",
       " array(['Documentary'], dtype=object),\n",
       " array(['Family/Comedy-drama'], dtype=object),\n",
       " array(['Variety show'], dtype=object),\n",
       " array(['Drama'], dtype=object),\n",
       " array(['Documentary'], dtype=object),\n",
       " array(['Comedy / Musical'], dtype=object),\n",
       " array(['Science fiction/Thriller'], dtype=object),\n",
       " array(['Drama'], dtype=object),\n",
       " array(['Documentary'], dtype=object),\n",
       " array(['Adventure/Comedy'], dtype=object),\n",
       " array(['War-Comedy'], dtype=object),\n",
       " array(['Thriller'], dtype=object),\n",
       " array(['Romantic comedy'], dtype=object),\n",
       " array(['Documentary'], dtype=object),\n",
       " array(['Thriller'], dtype=object),\n",
       " array(['Documentary'], dtype=object),\n",
       " array(['Aftershow / Interview'], dtype=object),\n",
       " array(['Biopic'], dtype=object),\n",
       " array(['Thriller'], dtype=object),\n",
       " array(['Documentary'], dtype=object),\n",
       " array(['Documentary'], dtype=object),\n",
       " array(['Documentary'], dtype=object),\n",
       " array(['Adventure'], dtype=object),\n",
       " array(['Crime drama'], dtype=object),\n",
       " array(['Romantic comedy'], dtype=object),\n",
       " array(['Aftershow / Interview'], dtype=object),\n",
       " array(['Comedy'], dtype=object),\n",
       " array(['Comedy-drama'], dtype=object),\n",
       " array(['Drama'], dtype=object),\n",
       " array(['Drama'], dtype=object),\n",
       " array(['Documentary'], dtype=object),\n",
       " array(['Satire'], dtype=object),\n",
       " array(['Thriller'], dtype=object),\n",
       " array(['Making-of'], dtype=object),\n",
       " array(['Documentary'], dtype=object),\n",
       " array(['Documentary'], dtype=object),\n",
       " array(['Comedy-drama'], dtype=object),\n",
       " array(['Mentalism special'], dtype=object),\n",
       " array(['Comedy'], dtype=object),\n",
       " array(['Drama'], dtype=object),\n",
       " array(['Science fiction'], dtype=object),\n",
       " array(['Drama'], dtype=object),\n",
       " array(['Animation / Short'], dtype=object),\n",
       " array(['Horror'], dtype=object),\n",
       " array(['Science fiction'], dtype=object),\n",
       " array(['Documentary'], dtype=object),\n",
       " array(['Thriller'], dtype=object),\n",
       " array(['Documentary'], dtype=object),\n",
       " array(['Animation/Superhero'], dtype=object),\n",
       " array(['One-man show'], dtype=object),\n",
       " array(['Comedy'], dtype=object),\n",
       " array(['Drama'], dtype=object),\n",
       " array(['Drama'], dtype=object),\n",
       " array(['Comedy'], dtype=object),\n",
       " array(['Thriller'], dtype=object),\n",
       " array(['Thriller'], dtype=object),\n",
       " array(['Comedy'], dtype=object),\n",
       " array(['Documentary'], dtype=object),\n",
       " array(['Thriller'], dtype=object),\n",
       " array(['Heist film/Thriller'], dtype=object),\n",
       " array(['Comedy'], dtype=object),\n",
       " array(['Comedy-drama'], dtype=object),\n",
       " array(['Psychological thriller'], dtype=object),\n",
       " array(['Animation'], dtype=object),\n",
       " array(['Action'], dtype=object),\n",
       " array(['Documentary'], dtype=object),\n",
       " array(['Documentary'], dtype=object),\n",
       " array(['Crime drama'], dtype=object),\n",
       " array(['Documentary'], dtype=object),\n",
       " array(['Thriller'], dtype=object),\n",
       " array(['Documentary'], dtype=object),\n",
       " array(['Thriller'], dtype=object),\n",
       " array(['Black comedy'], dtype=object),\n",
       " array(['Documentary'], dtype=object),\n",
       " array(['Romantic comedy/Holiday'], dtype=object),\n",
       " array(['Documentary'], dtype=object),\n",
       " array(['Thriller'], dtype=object),\n",
       " array(['Aftershow / Interview'], dtype=object),\n",
       " array(['Thriller'], dtype=object),\n",
       " array(['Action'], dtype=object),\n",
       " array(['Romance'], dtype=object),\n",
       " array(['Documentary'], dtype=object),\n",
       " array(['Superhero'], dtype=object),\n",
       " array(['Comedy'], dtype=object),\n",
       " array(['Documentary'], dtype=object),\n",
       " array(['Drama'], dtype=object),\n",
       " array(['Drama'], dtype=object),\n",
       " array(['Animation/Comedy/Adventure'], dtype=object),\n",
       " array(['Drama'], dtype=object),\n",
       " array(['Documentary'], dtype=object),\n",
       " array(['Biographical/Comedy'], dtype=object),\n",
       " array(['Comedy'], dtype=object),\n",
       " array(['Documentary'], dtype=object),\n",
       " array(['Documentary'], dtype=object),\n",
       " array(['Thriller'], dtype=object),\n",
       " array(['Documentary'], dtype=object),\n",
       " array(['Documentary'], dtype=object),\n",
       " array(['Drama'], dtype=object),\n",
       " array(['Documentary'], dtype=object),\n",
       " array(['Comedy'], dtype=object),\n",
       " array(['Action-thriller'], dtype=object),\n",
       " array(['Drama'], dtype=object),\n",
       " array(['Documentary'], dtype=object),\n",
       " array(['Concert Film'], dtype=object),\n",
       " array(['Action'], dtype=object),\n",
       " array(['Action comedy'], dtype=object),\n",
       " array(['Concert Film'], dtype=object),\n",
       " array(['Drama'], dtype=object),\n",
       " array(['Documentary'], dtype=object),\n",
       " array(['Comedy'], dtype=object),\n",
       " array(['Comedy/Fantasy/Family'], dtype=object),\n",
       " array(['Thriller'], dtype=object),\n",
       " array(['Drama'], dtype=object),\n",
       " array(['Drama/Horror'], dtype=object),\n",
       " array(['Crime drama'], dtype=object),\n",
       " array(['Romantic comedy'], dtype=object),\n",
       " array(['Documentary'], dtype=object),\n",
       " array(['Romantic comedy'], dtype=object),\n",
       " array(['Documentary'], dtype=object),\n",
       " array(['Aftershow / Interview'], dtype=object),\n",
       " array(['Documentary'], dtype=object),\n",
       " array(['Thriller'], dtype=object),\n",
       " array(['Horror thriller'], dtype=object),\n",
       " array(['Documentary'], dtype=object),\n",
       " array(['Comedy'], dtype=object),\n",
       " array(['Drama'], dtype=object),\n",
       " array(['Crime thriller'], dtype=object),\n",
       " array(['Science fiction/Drama'], dtype=object),\n",
       " array(['Romantic comedy'], dtype=object),\n",
       " array(['Documentary'], dtype=object),\n",
       " array(['Documentary'], dtype=object),\n",
       " array(['Horror anthology'], dtype=object),\n",
       " array(['Documentary'], dtype=object),\n",
       " array(['Animation / Short'], dtype=object),\n",
       " array(['Documentary'], dtype=object),\n",
       " array(['Documentary'], dtype=object),\n",
       " array(['Animation/Christmas/Comedy/Adventure'], dtype=object),\n",
       " array(['Drama'], dtype=object),\n",
       " array(['Drama'], dtype=object),\n",
       " array(['Drama'], dtype=object)]"
      ]
     },
     "execution_count": 56,
     "metadata": {},
     "output_type": "execute_result"
    }
   ],
   "source": [
    "ordinal_encoder.categories_"
   ]
  },
  {
   "cell_type": "code",
   "execution_count": 57,
   "id": "fifty-constant",
   "metadata": {
    "execution": {
     "iopub.execute_input": "2021-06-24T03:15:59.156868Z",
     "iopub.status.busy": "2021-06-24T03:15:59.155921Z",
     "iopub.status.idle": "2021-06-24T03:15:59.201748Z",
     "shell.execute_reply": "2021-06-24T03:15:59.202305Z",
     "shell.execute_reply.started": "2021-06-23T06:45:21.212092Z"
    },
    "papermill": {
     "duration": 0.178399,
     "end_time": "2021-06-24T03:15:59.202478",
     "exception": false,
     "start_time": "2021-06-24T03:15:59.024079",
     "status": "completed"
    },
    "tags": []
   },
   "outputs": [
    {
     "data": {
      "text/plain": [
       "<1x525 sparse matrix of type '<class 'numpy.float64'>'\n",
       "\twith 525 stored elements in Compressed Sparse Row format>"
      ]
     },
     "execution_count": 57,
     "metadata": {},
     "output_type": "execute_result"
    }
   ],
   "source": [
    "from sklearn.preprocessing import OneHotEncoder\n",
    "\n",
    "cat_encoder = OneHotEncoder()\n",
    "netflix_cat_1hot = cat_encoder.fit_transform(netflix_cat.values.reshape(1,-1))\n",
    "netflix_cat_1hot"
   ]
  },
  {
   "cell_type": "markdown",
   "id": "returning-relay",
   "metadata": {
    "papermill": {
     "duration": 0.127006,
     "end_time": "2021-06-24T03:15:59.457106",
     "exception": false,
     "start_time": "2021-06-24T03:15:59.330100",
     "status": "completed"
    },
    "tags": []
   },
   "source": [
    "By default, the OneHotEncoder class returns a sparse array, but we can convert it to a dense array if needed by calling the toarray() method:"
   ]
  },
  {
   "cell_type": "code",
   "execution_count": 58,
   "id": "distributed-gossip",
   "metadata": {
    "execution": {
     "iopub.execute_input": "2021-06-24T03:15:59.716710Z",
     "iopub.status.busy": "2021-06-24T03:15:59.715772Z",
     "iopub.status.idle": "2021-06-24T03:15:59.727023Z",
     "shell.execute_reply": "2021-06-24T03:15:59.727538Z",
     "shell.execute_reply.started": "2021-06-23T06:45:21.276491Z"
    },
    "papermill": {
     "duration": 0.142194,
     "end_time": "2021-06-24T03:15:59.727705",
     "exception": false,
     "start_time": "2021-06-24T03:15:59.585511",
     "status": "completed"
    },
    "tags": []
   },
   "outputs": [
    {
     "data": {
      "text/plain": [
       "array([[1., 1., 1., 1., 1., 1., 1., 1., 1., 1., 1., 1., 1., 1., 1., 1.,\n",
       "        1., 1., 1., 1., 1., 1., 1., 1., 1., 1., 1., 1., 1., 1., 1., 1.,\n",
       "        1., 1., 1., 1., 1., 1., 1., 1., 1., 1., 1., 1., 1., 1., 1., 1.,\n",
       "        1., 1., 1., 1., 1., 1., 1., 1., 1., 1., 1., 1., 1., 1., 1., 1.,\n",
       "        1., 1., 1., 1., 1., 1., 1., 1., 1., 1., 1., 1., 1., 1., 1., 1.,\n",
       "        1., 1., 1., 1., 1., 1., 1., 1., 1., 1., 1., 1., 1., 1., 1., 1.,\n",
       "        1., 1., 1., 1., 1., 1., 1., 1., 1., 1., 1., 1., 1., 1., 1., 1.,\n",
       "        1., 1., 1., 1., 1., 1., 1., 1., 1., 1., 1., 1., 1., 1., 1., 1.,\n",
       "        1., 1., 1., 1., 1., 1., 1., 1., 1., 1., 1., 1., 1., 1., 1., 1.,\n",
       "        1., 1., 1., 1., 1., 1., 1., 1., 1., 1., 1., 1., 1., 1., 1., 1.,\n",
       "        1., 1., 1., 1., 1., 1., 1., 1., 1., 1., 1., 1., 1., 1., 1., 1.,\n",
       "        1., 1., 1., 1., 1., 1., 1., 1., 1., 1., 1., 1., 1., 1., 1., 1.,\n",
       "        1., 1., 1., 1., 1., 1., 1., 1., 1., 1., 1., 1., 1., 1., 1., 1.,\n",
       "        1., 1., 1., 1., 1., 1., 1., 1., 1., 1., 1., 1., 1., 1., 1., 1.,\n",
       "        1., 1., 1., 1., 1., 1., 1., 1., 1., 1., 1., 1., 1., 1., 1., 1.,\n",
       "        1., 1., 1., 1., 1., 1., 1., 1., 1., 1., 1., 1., 1., 1., 1., 1.,\n",
       "        1., 1., 1., 1., 1., 1., 1., 1., 1., 1., 1., 1., 1., 1., 1., 1.,\n",
       "        1., 1., 1., 1., 1., 1., 1., 1., 1., 1., 1., 1., 1., 1., 1., 1.,\n",
       "        1., 1., 1., 1., 1., 1., 1., 1., 1., 1., 1., 1., 1., 1., 1., 1.,\n",
       "        1., 1., 1., 1., 1., 1., 1., 1., 1., 1., 1., 1., 1., 1., 1., 1.,\n",
       "        1., 1., 1., 1., 1., 1., 1., 1., 1., 1., 1., 1., 1., 1., 1., 1.,\n",
       "        1., 1., 1., 1., 1., 1., 1., 1., 1., 1., 1., 1., 1., 1., 1., 1.,\n",
       "        1., 1., 1., 1., 1., 1., 1., 1., 1., 1., 1., 1., 1., 1., 1., 1.,\n",
       "        1., 1., 1., 1., 1., 1., 1., 1., 1., 1., 1., 1., 1., 1., 1., 1.,\n",
       "        1., 1., 1., 1., 1., 1., 1., 1., 1., 1., 1., 1., 1., 1., 1., 1.,\n",
       "        1., 1., 1., 1., 1., 1., 1., 1., 1., 1., 1., 1., 1., 1., 1., 1.,\n",
       "        1., 1., 1., 1., 1., 1., 1., 1., 1., 1., 1., 1., 1., 1., 1., 1.,\n",
       "        1., 1., 1., 1., 1., 1., 1., 1., 1., 1., 1., 1., 1., 1., 1., 1.,\n",
       "        1., 1., 1., 1., 1., 1., 1., 1., 1., 1., 1., 1., 1., 1., 1., 1.,\n",
       "        1., 1., 1., 1., 1., 1., 1., 1., 1., 1., 1., 1., 1., 1., 1., 1.,\n",
       "        1., 1., 1., 1., 1., 1., 1., 1., 1., 1., 1., 1., 1., 1., 1., 1.,\n",
       "        1., 1., 1., 1., 1., 1., 1., 1., 1., 1., 1., 1., 1., 1., 1., 1.,\n",
       "        1., 1., 1., 1., 1., 1., 1., 1., 1., 1., 1., 1., 1.]])"
      ]
     },
     "execution_count": 58,
     "metadata": {},
     "output_type": "execute_result"
    }
   ],
   "source": [
    "netflix_cat_1hot.toarray()"
   ]
  },
  {
   "cell_type": "markdown",
   "id": "charged-defendant",
   "metadata": {
    "papermill": {
     "duration": 0.128223,
     "end_time": "2021-06-24T03:15:59.985764",
     "exception": false,
     "start_time": "2021-06-24T03:15:59.857541",
     "status": "completed"
    },
    "tags": []
   },
   "source": [
    "Alternatively, you can set `sparse=False` when creating the `OneHotEncoder`:"
   ]
  },
  {
   "cell_type": "code",
   "execution_count": 59,
   "id": "administrative-assault",
   "metadata": {
    "execution": {
     "iopub.execute_input": "2021-06-24T03:16:00.247100Z",
     "iopub.status.busy": "2021-06-24T03:16:00.246127Z",
     "iopub.status.idle": "2021-06-24T03:16:00.297432Z",
     "shell.execute_reply": "2021-06-24T03:16:00.297926Z",
     "shell.execute_reply.started": "2021-06-23T06:45:21.290585Z"
    },
    "papermill": {
     "duration": 0.183231,
     "end_time": "2021-06-24T03:16:00.298099",
     "exception": false,
     "start_time": "2021-06-24T03:16:00.114868",
     "status": "completed"
    },
    "tags": []
   },
   "outputs": [
    {
     "data": {
      "text/plain": [
       "array([[1., 1., 1., 1., 1., 1., 1., 1., 1., 1., 1., 1., 1., 1., 1., 1.,\n",
       "        1., 1., 1., 1., 1., 1., 1., 1., 1., 1., 1., 1., 1., 1., 1., 1.,\n",
       "        1., 1., 1., 1., 1., 1., 1., 1., 1., 1., 1., 1., 1., 1., 1., 1.,\n",
       "        1., 1., 1., 1., 1., 1., 1., 1., 1., 1., 1., 1., 1., 1., 1., 1.,\n",
       "        1., 1., 1., 1., 1., 1., 1., 1., 1., 1., 1., 1., 1., 1., 1., 1.,\n",
       "        1., 1., 1., 1., 1., 1., 1., 1., 1., 1., 1., 1., 1., 1., 1., 1.,\n",
       "        1., 1., 1., 1., 1., 1., 1., 1., 1., 1., 1., 1., 1., 1., 1., 1.,\n",
       "        1., 1., 1., 1., 1., 1., 1., 1., 1., 1., 1., 1., 1., 1., 1., 1.,\n",
       "        1., 1., 1., 1., 1., 1., 1., 1., 1., 1., 1., 1., 1., 1., 1., 1.,\n",
       "        1., 1., 1., 1., 1., 1., 1., 1., 1., 1., 1., 1., 1., 1., 1., 1.,\n",
       "        1., 1., 1., 1., 1., 1., 1., 1., 1., 1., 1., 1., 1., 1., 1., 1.,\n",
       "        1., 1., 1., 1., 1., 1., 1., 1., 1., 1., 1., 1., 1., 1., 1., 1.,\n",
       "        1., 1., 1., 1., 1., 1., 1., 1., 1., 1., 1., 1., 1., 1., 1., 1.,\n",
       "        1., 1., 1., 1., 1., 1., 1., 1., 1., 1., 1., 1., 1., 1., 1., 1.,\n",
       "        1., 1., 1., 1., 1., 1., 1., 1., 1., 1., 1., 1., 1., 1., 1., 1.,\n",
       "        1., 1., 1., 1., 1., 1., 1., 1., 1., 1., 1., 1., 1., 1., 1., 1.,\n",
       "        1., 1., 1., 1., 1., 1., 1., 1., 1., 1., 1., 1., 1., 1., 1., 1.,\n",
       "        1., 1., 1., 1., 1., 1., 1., 1., 1., 1., 1., 1., 1., 1., 1., 1.,\n",
       "        1., 1., 1., 1., 1., 1., 1., 1., 1., 1., 1., 1., 1., 1., 1., 1.,\n",
       "        1., 1., 1., 1., 1., 1., 1., 1., 1., 1., 1., 1., 1., 1., 1., 1.,\n",
       "        1., 1., 1., 1., 1., 1., 1., 1., 1., 1., 1., 1., 1., 1., 1., 1.,\n",
       "        1., 1., 1., 1., 1., 1., 1., 1., 1., 1., 1., 1., 1., 1., 1., 1.,\n",
       "        1., 1., 1., 1., 1., 1., 1., 1., 1., 1., 1., 1., 1., 1., 1., 1.,\n",
       "        1., 1., 1., 1., 1., 1., 1., 1., 1., 1., 1., 1., 1., 1., 1., 1.,\n",
       "        1., 1., 1., 1., 1., 1., 1., 1., 1., 1., 1., 1., 1., 1., 1., 1.,\n",
       "        1., 1., 1., 1., 1., 1., 1., 1., 1., 1., 1., 1., 1., 1., 1., 1.,\n",
       "        1., 1., 1., 1., 1., 1., 1., 1., 1., 1., 1., 1., 1., 1., 1., 1.,\n",
       "        1., 1., 1., 1., 1., 1., 1., 1., 1., 1., 1., 1., 1., 1., 1., 1.,\n",
       "        1., 1., 1., 1., 1., 1., 1., 1., 1., 1., 1., 1., 1., 1., 1., 1.,\n",
       "        1., 1., 1., 1., 1., 1., 1., 1., 1., 1., 1., 1., 1., 1., 1., 1.,\n",
       "        1., 1., 1., 1., 1., 1., 1., 1., 1., 1., 1., 1., 1., 1., 1., 1.,\n",
       "        1., 1., 1., 1., 1., 1., 1., 1., 1., 1., 1., 1., 1., 1., 1., 1.,\n",
       "        1., 1., 1., 1., 1., 1., 1., 1., 1., 1., 1., 1., 1.]])"
      ]
     },
     "execution_count": 59,
     "metadata": {},
     "output_type": "execute_result"
    }
   ],
   "source": [
    "cat_encoder = OneHotEncoder(sparse=False)\n",
    "netflix_cat_1hot = cat_encoder.fit_transform(netflix_cat.values.reshape(1,-1))\n",
    "netflix_cat_1hot"
   ]
  },
  {
   "cell_type": "code",
   "execution_count": 60,
   "id": "remarkable-adapter",
   "metadata": {
    "execution": {
     "iopub.execute_input": "2021-06-24T03:16:00.588239Z",
     "iopub.status.busy": "2021-06-24T03:16:00.580110Z",
     "iopub.status.idle": "2021-06-24T03:16:00.591556Z",
     "shell.execute_reply": "2021-06-24T03:16:00.592148Z",
     "shell.execute_reply.started": "2021-06-23T06:45:21.353939Z"
    },
    "papermill": {
     "duration": 0.164911,
     "end_time": "2021-06-24T03:16:00.592333",
     "exception": false,
     "start_time": "2021-06-24T03:16:00.427422",
     "status": "completed"
    },
    "tags": []
   },
   "outputs": [
    {
     "data": {
      "text/plain": [
       "[array(['Drama'], dtype=object),\n",
       " array(['Biopic'], dtype=object),\n",
       " array(['Documentary'], dtype=object),\n",
       " array(['Romantic comedy'], dtype=object),\n",
       " array(['Documentary'], dtype=object),\n",
       " array(['Comedy'], dtype=object),\n",
       " array(['Romantic comedy'], dtype=object),\n",
       " array(['Comedy'], dtype=object),\n",
       " array(['Horror'], dtype=object),\n",
       " array(['Documentary'], dtype=object),\n",
       " array(['Documentary'], dtype=object),\n",
       " array(['Documentary'], dtype=object),\n",
       " array(['Documentary'], dtype=object),\n",
       " array(['Documentary'], dtype=object),\n",
       " array(['Documentary'], dtype=object),\n",
       " array(['Action comedy'], dtype=object),\n",
       " array(['Anime/Fantasy'], dtype=object),\n",
       " array(['Documentary'], dtype=object),\n",
       " array(['Satire'], dtype=object),\n",
       " array(['Thriller'], dtype=object),\n",
       " array(['Romantic drama'], dtype=object),\n",
       " array(['Romantic comedy'], dtype=object),\n",
       " array(['Heist'], dtype=object),\n",
       " array(['Romantic comedy'], dtype=object),\n",
       " array(['Action'], dtype=object),\n",
       " array(['Animation/Musical/Adventure'], dtype=object),\n",
       " array(['Action comedy'], dtype=object),\n",
       " array(['Comedy'], dtype=object),\n",
       " array(['Spy thriller'], dtype=object),\n",
       " array(['Drama'], dtype=object),\n",
       " array(['Documentary'], dtype=object),\n",
       " array(['Documentary'], dtype=object),\n",
       " array(['Romance drama'], dtype=object),\n",
       " array(['Thriller'], dtype=object),\n",
       " array(['Aftershow / Interview'], dtype=object),\n",
       " array(['Comedy'], dtype=object),\n",
       " array(['Thriller'], dtype=object),\n",
       " array(['Romantic comedy'], dtype=object),\n",
       " array(['Romantic comedy'], dtype=object),\n",
       " array(['Action/Comedy'], dtype=object),\n",
       " array(['Documentary'], dtype=object),\n",
       " array(['Dark comedy'], dtype=object),\n",
       " array(['Western'], dtype=object),\n",
       " array(['Documentary'], dtype=object),\n",
       " array(['Crime drama'], dtype=object),\n",
       " array(['Musical'], dtype=object),\n",
       " array(['Documentary'], dtype=object),\n",
       " array(['Comedy'], dtype=object),\n",
       " array(['Drama'], dtype=object),\n",
       " array(['Drama'], dtype=object),\n",
       " array(['Documentary'], dtype=object),\n",
       " array(['Comedy mystery'], dtype=object),\n",
       " array(['Science fiction/Thriller'], dtype=object),\n",
       " array(['Comedy'], dtype=object),\n",
       " array(['Documentary'], dtype=object),\n",
       " array(['Action'], dtype=object),\n",
       " array(['Action'], dtype=object),\n",
       " array(['Romantic comedy'], dtype=object),\n",
       " array(['Comedy'], dtype=object),\n",
       " array(['Comedy / Musical'], dtype=object),\n",
       " array(['Comedy'], dtype=object),\n",
       " array(['Documentary'], dtype=object),\n",
       " array(['Thriller'], dtype=object),\n",
       " array(['Drama'], dtype=object),\n",
       " array(['Documentary'], dtype=object),\n",
       " array(['Sports-drama'], dtype=object),\n",
       " array(['Drama'], dtype=object),\n",
       " array(['Documentary'], dtype=object),\n",
       " array(['Teen comedy-drama'], dtype=object),\n",
       " array(['Drama'], dtype=object),\n",
       " array(['Biopic'], dtype=object),\n",
       " array(['Horror'], dtype=object),\n",
       " array(['Comedy/Horror'], dtype=object),\n",
       " array(['Comedy'], dtype=object),\n",
       " array(['Documentary'], dtype=object),\n",
       " array(['Romantic drama'], dtype=object),\n",
       " array(['Documentary'], dtype=object),\n",
       " array(['Western'], dtype=object),\n",
       " array(['Drama'], dtype=object),\n",
       " array(['Horror/Crime drama'], dtype=object),\n",
       " array(['Romantic comedy'], dtype=object),\n",
       " array(['Psychological thriller'], dtype=object),\n",
       " array(['Documentary'], dtype=object),\n",
       " array(['Thriller'], dtype=object),\n",
       " array(['Teen comedy horror'], dtype=object),\n",
       " array(['Comedy'], dtype=object),\n",
       " array(['Documentary'], dtype=object),\n",
       " array(['Historical drama'], dtype=object),\n",
       " array(['Black comedy'], dtype=object),\n",
       " array(['Drama'], dtype=object),\n",
       " array(['Romantic comedy'], dtype=object),\n",
       " array(['Documentary'], dtype=object),\n",
       " array(['Family film'], dtype=object),\n",
       " array(['Documentary'], dtype=object),\n",
       " array(['Documentary'], dtype=object),\n",
       " array(['Drama'], dtype=object),\n",
       " array(['Science fiction/Drama'], dtype=object),\n",
       " array(['Documentary'], dtype=object),\n",
       " array(['Thriller'], dtype=object),\n",
       " array(['Documentary'], dtype=object),\n",
       " array(['Drama'], dtype=object),\n",
       " array(['War drama'], dtype=object),\n",
       " array(['Superhero/Action'], dtype=object),\n",
       " array(['Drama'], dtype=object),\n",
       " array(['Horror-thriller'], dtype=object),\n",
       " array(['Drama'], dtype=object),\n",
       " array(['Thriller'], dtype=object),\n",
       " array(['War'], dtype=object),\n",
       " array(['Documentary'], dtype=object),\n",
       " array(['Drama'], dtype=object),\n",
       " array(['Documentary'], dtype=object),\n",
       " array(['Biopic'], dtype=object),\n",
       " array(['Documentary'], dtype=object),\n",
       " array(['Drama'], dtype=object),\n",
       " array(['Concert Film'], dtype=object),\n",
       " array(['War'], dtype=object),\n",
       " array(['Dance comedy'], dtype=object),\n",
       " array(['Drama'], dtype=object),\n",
       " array(['Variety show'], dtype=object),\n",
       " array(['Drama'], dtype=object),\n",
       " array(['Documentary'], dtype=object),\n",
       " array(['Zombie/Heist'], dtype=object),\n",
       " array(['Drama'], dtype=object),\n",
       " array(['Documentary'], dtype=object),\n",
       " array(['Comedy'], dtype=object),\n",
       " array(['Animation / Short'], dtype=object),\n",
       " array(['Comedy'], dtype=object),\n",
       " array(['Documentary'], dtype=object),\n",
       " array(['Christmas comedy'], dtype=object),\n",
       " array(['Comedy-drama'], dtype=object),\n",
       " array(['Horror'], dtype=object),\n",
       " array(['Romantic comedy'], dtype=object),\n",
       " array(['Documentary'], dtype=object),\n",
       " array(['Western'], dtype=object),\n",
       " array(['Documentary'], dtype=object),\n",
       " array(['Drama'], dtype=object),\n",
       " array(['Drama'], dtype=object),\n",
       " array(['Psychological thriller drama'], dtype=object),\n",
       " array(['Mystery'], dtype=object),\n",
       " array(['Documentary'], dtype=object),\n",
       " array(['Mockumentary'], dtype=object),\n",
       " array(['Action/Science fiction'], dtype=object),\n",
       " array(['Comedy'], dtype=object),\n",
       " array(['Documentary'], dtype=object),\n",
       " array(['Horror'], dtype=object),\n",
       " array(['Comedy-drama'], dtype=object),\n",
       " array(['Documentary'], dtype=object),\n",
       " array(['Drama'], dtype=object),\n",
       " array(['Historical-epic'], dtype=object),\n",
       " array(['Documentary'], dtype=object),\n",
       " array(['Crime drama'], dtype=object),\n",
       " array(['Romantic comedy'], dtype=object),\n",
       " array(['Political thriller'], dtype=object),\n",
       " array(['Documentary'], dtype=object),\n",
       " array(['Documentary'], dtype=object),\n",
       " array(['Drama'], dtype=object),\n",
       " array(['Documentary'], dtype=object),\n",
       " array(['Documentary'], dtype=object),\n",
       " array(['Comedy'], dtype=object),\n",
       " array(['Drama'], dtype=object),\n",
       " array(['Documentary'], dtype=object),\n",
       " array(['Adventure-romance'], dtype=object),\n",
       " array(['Drama'], dtype=object),\n",
       " array(['Drama'], dtype=object),\n",
       " array(['Variety Show'], dtype=object),\n",
       " array(['Documentary'], dtype=object),\n",
       " array(['Family'], dtype=object),\n",
       " array(['Musical / Short'], dtype=object),\n",
       " array(['Romantic comedy'], dtype=object),\n",
       " array(['War drama'], dtype=object),\n",
       " array(['Mockumentary'], dtype=object),\n",
       " array(['Documentary'], dtype=object),\n",
       " array(['Documentary'], dtype=object),\n",
       " array(['Drama'], dtype=object),\n",
       " array(['Documentary'], dtype=object),\n",
       " array(['Documentary'], dtype=object),\n",
       " array(['Stop Motion'], dtype=object),\n",
       " array(['Horror thriller'], dtype=object),\n",
       " array(['Thriller'], dtype=object),\n",
       " array(['Comedy-drama'], dtype=object),\n",
       " array(['Comedy'], dtype=object),\n",
       " array(['Aftershow / Interview'], dtype=object),\n",
       " array(['Comedy'], dtype=object),\n",
       " array(['Comedy-drama'], dtype=object),\n",
       " array(['Action-adventure'], dtype=object),\n",
       " array(['Documentary'], dtype=object),\n",
       " array(['Comedy'], dtype=object),\n",
       " array(['Action comedy'], dtype=object),\n",
       " array(['Anime/Science fiction'], dtype=object),\n",
       " array(['Concert Film'], dtype=object),\n",
       " array(['Documentary'], dtype=object),\n",
       " array(['Comedy'], dtype=object),\n",
       " array(['Drama'], dtype=object),\n",
       " array(['Comedy'], dtype=object),\n",
       " array(['Comedy'], dtype=object),\n",
       " array(['Romantic comedy'], dtype=object),\n",
       " array(['Animation / Short'], dtype=object),\n",
       " array(['Comedy-drama'], dtype=object),\n",
       " array(['Documentary'], dtype=object),\n",
       " array(['Romance'], dtype=object),\n",
       " array(['Comedy-drama'], dtype=object),\n",
       " array(['Animation'], dtype=object),\n",
       " array(['Documentary'], dtype=object),\n",
       " array(['Documentary'], dtype=object),\n",
       " array(['Romantic drama'], dtype=object),\n",
       " array(['Crime drama'], dtype=object),\n",
       " array(['Drama'], dtype=object),\n",
       " array(['Action'], dtype=object),\n",
       " array(['Documentary'], dtype=object),\n",
       " array(['Documentary'], dtype=object),\n",
       " array(['Documentary'], dtype=object),\n",
       " array(['Documentary'], dtype=object),\n",
       " array(['Documentary'], dtype=object),\n",
       " array(['Comedy'], dtype=object),\n",
       " array(['Christmas/Fantasy/Adventure/Comedy'], dtype=object),\n",
       " array(['Thriller'], dtype=object),\n",
       " array(['Anime / Short'], dtype=object),\n",
       " array(['Documentary'], dtype=object),\n",
       " array(['Documentary'], dtype=object),\n",
       " array(['Action thriller'], dtype=object),\n",
       " array(['Hidden-camera prank comedy'], dtype=object),\n",
       " array(['Christian musical'], dtype=object),\n",
       " array(['Comedy'], dtype=object),\n",
       " array(['Romantic comedy'], dtype=object),\n",
       " array(['Romance'], dtype=object),\n",
       " array(['Horror comedy'], dtype=object),\n",
       " array(['Superhero-Comedy'], dtype=object),\n",
       " array(['Thriller'], dtype=object),\n",
       " array(['Romantic comedy'], dtype=object),\n",
       " array(['Comedy'], dtype=object),\n",
       " array(['Romantic comedy'], dtype=object),\n",
       " array(['Documentary'], dtype=object),\n",
       " array(['Biopic'], dtype=object),\n",
       " array(['Psychological horror'], dtype=object),\n",
       " array(['Drama'], dtype=object),\n",
       " array(['One-man show'], dtype=object),\n",
       " array(['Crime drama'], dtype=object),\n",
       " array(['Family/Christmas musical'], dtype=object),\n",
       " array(['Romantic comedy'], dtype=object),\n",
       " array(['Documentary'], dtype=object),\n",
       " array(['Mystery'], dtype=object),\n",
       " array(['Documentary'], dtype=object),\n",
       " array(['Romantic comedy'], dtype=object),\n",
       " array(['Fantasy'], dtype=object),\n",
       " array(['Drama'], dtype=object),\n",
       " array(['Comedy'], dtype=object),\n",
       " array(['Crime drama'], dtype=object),\n",
       " array(['Documentary'], dtype=object),\n",
       " array(['Documentary'], dtype=object),\n",
       " array(['Documentary'], dtype=object),\n",
       " array(['Comedy'], dtype=object),\n",
       " array(['Biopic'], dtype=object),\n",
       " array(['Documentary'], dtype=object),\n",
       " array(['Thriller'], dtype=object),\n",
       " array(['Psychological thriller'], dtype=object),\n",
       " array(['Documentary'], dtype=object),\n",
       " array(['Documentary'], dtype=object),\n",
       " array(['Drama'], dtype=object),\n",
       " array(['Action comedy'], dtype=object),\n",
       " array(['Action-thriller'], dtype=object),\n",
       " array(['Urban fantasy'], dtype=object),\n",
       " array(['Romantic comedy'], dtype=object),\n",
       " array(['Science fiction thriller'], dtype=object),\n",
       " array(['Thriller'], dtype=object),\n",
       " array(['Romantic drama'], dtype=object),\n",
       " array(['Documentary'], dtype=object),\n",
       " array(['Biopic'], dtype=object),\n",
       " array(['Comedy'], dtype=object),\n",
       " array(['Crime drama'], dtype=object),\n",
       " array(['Romantic comedy'], dtype=object),\n",
       " array(['Sports film'], dtype=object),\n",
       " array(['One-man show'], dtype=object),\n",
       " array(['Romantic comedy'], dtype=object),\n",
       " array(['Anime/Science fiction'], dtype=object),\n",
       " array(['Romantic comedy'], dtype=object),\n",
       " array(['Drama'], dtype=object),\n",
       " array(['Documentary'], dtype=object),\n",
       " array(['Documentary'], dtype=object),\n",
       " array(['Spy thriller'], dtype=object),\n",
       " array(['Horror'], dtype=object),\n",
       " array(['Thriller'], dtype=object),\n",
       " array(['Documentary'], dtype=object),\n",
       " array(['Musical comedy'], dtype=object),\n",
       " array(['Drama'], dtype=object),\n",
       " array(['Documentary'], dtype=object),\n",
       " array(['Animation'], dtype=object),\n",
       " array(['Thriller'], dtype=object),\n",
       " array(['Drama'], dtype=object),\n",
       " array(['Crime drama'], dtype=object),\n",
       " array(['Drama'], dtype=object),\n",
       " array(['Documentary'], dtype=object),\n",
       " array(['Horror thriller'], dtype=object),\n",
       " array(['Animation / Science Fiction'], dtype=object),\n",
       " array(['Comedy horror'], dtype=object),\n",
       " array(['Comedy'], dtype=object),\n",
       " array(['Comedy'], dtype=object),\n",
       " array(['Documentary'], dtype=object),\n",
       " array(['Science fiction/Action'], dtype=object),\n",
       " array(['Documentary'], dtype=object),\n",
       " array(['Documentary'], dtype=object),\n",
       " array(['Romantic comedy'], dtype=object),\n",
       " array(['Documentary'], dtype=object),\n",
       " array(['Documentary'], dtype=object),\n",
       " array(['Romantic comedy'], dtype=object),\n",
       " array(['Documentary'], dtype=object),\n",
       " array(['Drama'], dtype=object),\n",
       " array(['Documentary'], dtype=object),\n",
       " array(['Musical comedy'], dtype=object),\n",
       " array(['Science fiction/Thriller'], dtype=object),\n",
       " array(['Romantic teen drama'], dtype=object),\n",
       " array(['Comedy-drama'], dtype=object),\n",
       " array(['Documentary'], dtype=object),\n",
       " array(['Romance'], dtype=object),\n",
       " array(['Documentary'], dtype=object),\n",
       " array(['Musical/Western/Fantasy'], dtype=object),\n",
       " array(['Romantic comedy'], dtype=object),\n",
       " array(['Drama'], dtype=object),\n",
       " array(['Biopic'], dtype=object),\n",
       " array(['Adventure'], dtype=object),\n",
       " array(['Drama-Comedy'], dtype=object),\n",
       " array(['Family film'], dtype=object),\n",
       " array(['Documentary'], dtype=object),\n",
       " array(['Superhero'], dtype=object),\n",
       " array(['Comedy'], dtype=object),\n",
       " array(['Drama'], dtype=object),\n",
       " array(['Documentary'], dtype=object),\n",
       " array(['Documentary'], dtype=object),\n",
       " array(['Comedy'], dtype=object),\n",
       " array(['Documentary'], dtype=object),\n",
       " array(['Thriller'], dtype=object),\n",
       " array(['Romantic comedy'], dtype=object),\n",
       " array(['Comedy'], dtype=object),\n",
       " array(['Comedy'], dtype=object),\n",
       " array(['Documentary'], dtype=object),\n",
       " array(['Documentary'], dtype=object),\n",
       " array(['Documentary'], dtype=object),\n",
       " array(['Dark comedy'], dtype=object),\n",
       " array(['Musical'], dtype=object),\n",
       " array(['Documentary'], dtype=object),\n",
       " array(['Romantic comedy'], dtype=object),\n",
       " array(['Animation / Musicial'], dtype=object),\n",
       " array(['Romantic comedy-drama'], dtype=object),\n",
       " array(['Science fiction/Drama'], dtype=object),\n",
       " array(['Making-of'], dtype=object),\n",
       " array(['Romantic comedy'], dtype=object),\n",
       " array(['Documentary'], dtype=object),\n",
       " array(['Romantic thriller'], dtype=object),\n",
       " array(['Drama'], dtype=object),\n",
       " array(['Animation'], dtype=object),\n",
       " array(['Documentary'], dtype=object),\n",
       " array(['Concert Film'], dtype=object),\n",
       " array(['Romantic comedy'], dtype=object),\n",
       " array(['Romantic teenage drama'], dtype=object),\n",
       " array(['Romance'], dtype=object),\n",
       " array(['Documentary'], dtype=object),\n",
       " array(['Documentary'], dtype=object),\n",
       " array(['Comedy'], dtype=object),\n",
       " array(['Documentary'], dtype=object),\n",
       " array(['Drama'], dtype=object),\n",
       " array(['Romantic comedy'], dtype=object),\n",
       " array(['Drama'], dtype=object),\n",
       " array(['Drama'], dtype=object),\n",
       " array(['Horror-thriller'], dtype=object),\n",
       " array(['Family'], dtype=object),\n",
       " array(['Documentary'], dtype=object),\n",
       " array(['Drama'], dtype=object),\n",
       " array(['Drama'], dtype=object),\n",
       " array(['Documentary'], dtype=object),\n",
       " array(['Documentary'], dtype=object),\n",
       " array(['Animated musical comedy'], dtype=object),\n",
       " array(['Drama'], dtype=object),\n",
       " array(['Comedy-drama'], dtype=object),\n",
       " array(['Animation / Comedy'], dtype=object),\n",
       " array(['Drama'], dtype=object),\n",
       " array(['Drama'], dtype=object),\n",
       " array(['Comedy-drama'], dtype=object),\n",
       " array(['Drama'], dtype=object),\n",
       " array(['Drama'], dtype=object),\n",
       " array(['Drama'], dtype=object),\n",
       " array(['Comedy-drama'], dtype=object),\n",
       " array(['Drama'], dtype=object),\n",
       " array(['Horror'], dtype=object),\n",
       " array(['Drama / Short'], dtype=object),\n",
       " array(['Romantic comedy'], dtype=object),\n",
       " array(['Animation'], dtype=object),\n",
       " array(['Documentary'], dtype=object),\n",
       " array(['Family/Comedy-drama'], dtype=object),\n",
       " array(['Variety show'], dtype=object),\n",
       " array(['Drama'], dtype=object),\n",
       " array(['Documentary'], dtype=object),\n",
       " array(['Comedy / Musical'], dtype=object),\n",
       " array(['Science fiction/Thriller'], dtype=object),\n",
       " array(['Drama'], dtype=object),\n",
       " array(['Documentary'], dtype=object),\n",
       " array(['Adventure/Comedy'], dtype=object),\n",
       " array(['War-Comedy'], dtype=object),\n",
       " array(['Thriller'], dtype=object),\n",
       " array(['Romantic comedy'], dtype=object),\n",
       " array(['Documentary'], dtype=object),\n",
       " array(['Thriller'], dtype=object),\n",
       " array(['Documentary'], dtype=object),\n",
       " array(['Aftershow / Interview'], dtype=object),\n",
       " array(['Biopic'], dtype=object),\n",
       " array(['Thriller'], dtype=object),\n",
       " array(['Documentary'], dtype=object),\n",
       " array(['Documentary'], dtype=object),\n",
       " array(['Documentary'], dtype=object),\n",
       " array(['Adventure'], dtype=object),\n",
       " array(['Crime drama'], dtype=object),\n",
       " array(['Romantic comedy'], dtype=object),\n",
       " array(['Aftershow / Interview'], dtype=object),\n",
       " array(['Comedy'], dtype=object),\n",
       " array(['Comedy-drama'], dtype=object),\n",
       " array(['Drama'], dtype=object),\n",
       " array(['Drama'], dtype=object),\n",
       " array(['Documentary'], dtype=object),\n",
       " array(['Satire'], dtype=object),\n",
       " array(['Thriller'], dtype=object),\n",
       " array(['Making-of'], dtype=object),\n",
       " array(['Documentary'], dtype=object),\n",
       " array(['Documentary'], dtype=object),\n",
       " array(['Comedy-drama'], dtype=object),\n",
       " array(['Mentalism special'], dtype=object),\n",
       " array(['Comedy'], dtype=object),\n",
       " array(['Drama'], dtype=object),\n",
       " array(['Science fiction'], dtype=object),\n",
       " array(['Drama'], dtype=object),\n",
       " array(['Animation / Short'], dtype=object),\n",
       " array(['Horror'], dtype=object),\n",
       " array(['Science fiction'], dtype=object),\n",
       " array(['Documentary'], dtype=object),\n",
       " array(['Thriller'], dtype=object),\n",
       " array(['Documentary'], dtype=object),\n",
       " array(['Animation/Superhero'], dtype=object),\n",
       " array(['One-man show'], dtype=object),\n",
       " array(['Comedy'], dtype=object),\n",
       " array(['Drama'], dtype=object),\n",
       " array(['Drama'], dtype=object),\n",
       " array(['Comedy'], dtype=object),\n",
       " array(['Thriller'], dtype=object),\n",
       " array(['Thriller'], dtype=object),\n",
       " array(['Comedy'], dtype=object),\n",
       " array(['Documentary'], dtype=object),\n",
       " array(['Thriller'], dtype=object),\n",
       " array(['Heist film/Thriller'], dtype=object),\n",
       " array(['Comedy'], dtype=object),\n",
       " array(['Comedy-drama'], dtype=object),\n",
       " array(['Psychological thriller'], dtype=object),\n",
       " array(['Animation'], dtype=object),\n",
       " array(['Action'], dtype=object),\n",
       " array(['Documentary'], dtype=object),\n",
       " array(['Documentary'], dtype=object),\n",
       " array(['Crime drama'], dtype=object),\n",
       " array(['Documentary'], dtype=object),\n",
       " array(['Thriller'], dtype=object),\n",
       " array(['Documentary'], dtype=object),\n",
       " array(['Thriller'], dtype=object),\n",
       " array(['Black comedy'], dtype=object),\n",
       " array(['Documentary'], dtype=object),\n",
       " array(['Romantic comedy/Holiday'], dtype=object),\n",
       " array(['Documentary'], dtype=object),\n",
       " array(['Thriller'], dtype=object),\n",
       " array(['Aftershow / Interview'], dtype=object),\n",
       " array(['Thriller'], dtype=object),\n",
       " array(['Action'], dtype=object),\n",
       " array(['Romance'], dtype=object),\n",
       " array(['Documentary'], dtype=object),\n",
       " array(['Superhero'], dtype=object),\n",
       " array(['Comedy'], dtype=object),\n",
       " array(['Documentary'], dtype=object),\n",
       " array(['Drama'], dtype=object),\n",
       " array(['Drama'], dtype=object),\n",
       " array(['Animation/Comedy/Adventure'], dtype=object),\n",
       " array(['Drama'], dtype=object),\n",
       " array(['Documentary'], dtype=object),\n",
       " array(['Biographical/Comedy'], dtype=object),\n",
       " array(['Comedy'], dtype=object),\n",
       " array(['Documentary'], dtype=object),\n",
       " array(['Documentary'], dtype=object),\n",
       " array(['Thriller'], dtype=object),\n",
       " array(['Documentary'], dtype=object),\n",
       " array(['Documentary'], dtype=object),\n",
       " array(['Drama'], dtype=object),\n",
       " array(['Documentary'], dtype=object),\n",
       " array(['Comedy'], dtype=object),\n",
       " array(['Action-thriller'], dtype=object),\n",
       " array(['Drama'], dtype=object),\n",
       " array(['Documentary'], dtype=object),\n",
       " array(['Concert Film'], dtype=object),\n",
       " array(['Action'], dtype=object),\n",
       " array(['Action comedy'], dtype=object),\n",
       " array(['Concert Film'], dtype=object),\n",
       " array(['Drama'], dtype=object),\n",
       " array(['Documentary'], dtype=object),\n",
       " array(['Comedy'], dtype=object),\n",
       " array(['Comedy/Fantasy/Family'], dtype=object),\n",
       " array(['Thriller'], dtype=object),\n",
       " array(['Drama'], dtype=object),\n",
       " array(['Drama/Horror'], dtype=object),\n",
       " array(['Crime drama'], dtype=object),\n",
       " array(['Romantic comedy'], dtype=object),\n",
       " array(['Documentary'], dtype=object),\n",
       " array(['Romantic comedy'], dtype=object),\n",
       " array(['Documentary'], dtype=object),\n",
       " array(['Aftershow / Interview'], dtype=object),\n",
       " array(['Documentary'], dtype=object),\n",
       " array(['Thriller'], dtype=object),\n",
       " array(['Horror thriller'], dtype=object),\n",
       " array(['Documentary'], dtype=object),\n",
       " array(['Comedy'], dtype=object),\n",
       " array(['Drama'], dtype=object),\n",
       " array(['Crime thriller'], dtype=object),\n",
       " array(['Science fiction/Drama'], dtype=object),\n",
       " array(['Romantic comedy'], dtype=object),\n",
       " array(['Documentary'], dtype=object),\n",
       " array(['Documentary'], dtype=object),\n",
       " array(['Horror anthology'], dtype=object),\n",
       " array(['Documentary'], dtype=object),\n",
       " array(['Animation / Short'], dtype=object),\n",
       " array(['Documentary'], dtype=object),\n",
       " array(['Documentary'], dtype=object),\n",
       " array(['Animation/Christmas/Comedy/Adventure'], dtype=object),\n",
       " array(['Drama'], dtype=object),\n",
       " array(['Drama'], dtype=object),\n",
       " array(['Drama'], dtype=object)]"
      ]
     },
     "execution_count": 60,
     "metadata": {},
     "output_type": "execute_result"
    }
   ],
   "source": [
    "cat_encoder.categories_"
   ]
  },
  {
   "cell_type": "markdown",
   "id": "another-toyota",
   "metadata": {
    "papermill": {
     "duration": 0.130491,
     "end_time": "2021-06-24T03:16:00.853145",
     "exception": false,
     "start_time": "2021-06-24T03:16:00.722654",
     "status": "completed"
    },
    "tags": []
   },
   "source": [
    "Let's create a custom transformer to add extra attributes:"
   ]
  },
  {
   "cell_type": "markdown",
   "id": "fresh-natural",
   "metadata": {
    "papermill": {
     "duration": 0.129296,
     "end_time": "2021-06-24T03:16:01.113448",
     "exception": false,
     "start_time": "2021-06-24T03:16:00.984152",
     "status": "completed"
    },
    "tags": []
   },
   "source": [
    "\"IMDB Score\", \"runtime_cat\", \"Runtime\",\"days_since_premiere\""
   ]
  },
  {
   "cell_type": "code",
   "execution_count": 61,
   "id": "second-melissa",
   "metadata": {
    "execution": {
     "iopub.execute_input": "2021-06-24T03:16:01.381632Z",
     "iopub.status.busy": "2021-06-24T03:16:01.380965Z",
     "iopub.status.idle": "2021-06-24T03:16:01.383772Z",
     "shell.execute_reply": "2021-06-24T03:16:01.383299Z",
     "shell.execute_reply.started": "2021-06-23T06:45:21.389693Z"
    },
    "papermill": {
     "duration": 0.137117,
     "end_time": "2021-06-24T03:16:01.383935",
     "exception": false,
     "start_time": "2021-06-24T03:16:01.246818",
     "status": "completed"
    },
    "tags": []
   },
   "outputs": [],
   "source": [
    "# from sklearn.base import BaseEstimator, TransformerMixin\n",
    "\n",
    "# # column index\n",
    "# imdb_ix, runtime_ix, days_since_premiere_ix = 3, 4, 5, 6\n",
    "\n",
    "# class CombinedAttributesAdder(BaseEstimator, TransformerMixin):\n",
    "#     def __init__(self, add_days_since_premiere = True): # no *args or **kargs\n",
    "#         self.add_days_since_premiere = add_days_since_premiere\n",
    "#     def fit(self, X, y=None):\n",
    "#         return self  # nothing else to do\n",
    "#     def transform(self, X, y=None):\n",
    "#         days_since_premiere = X[:, rooms_ix] / X[:, household_ix]\n",
    "#             date1 = netflix_data[\"Premiere\"]\n",
    "#             date2 = pd.Series(data=date.today(), index=np.arange(len(date1)), name=\"Today\").values.astype('datetime64[D]')\n",
    "#             date1 = pd.to_datetime(date1).values.astype('datetime64[D]')\n",
    "#             date_df = pd.DataFrame(dict(Start_date = date1, End_date = date2))\n",
    "#             date_df['diff_days'] = date_df['End_date'] - date_df['Start_date']\n",
    "#             date_df['diff_days'] = date_df['diff_days'] / np.timedelta64(1,'D')\n",
    "#             netflix_data['days_since_premiere'] = date_df['diff_days']\n",
    "#             netflix_data.head()\n",
    "        \n",
    "#         population_per_household = X[:, population_ix] / X[:, household_ix]\n",
    "#         if self.add_bedrooms_per_room:\n",
    "#             bedrooms_per_room = X[:, bedrooms_ix] / X[:, rooms_ix]\n",
    "#             return np.c_[X, rooms_per_household, population_per_household,\n",
    "#                          bedrooms_per_room]\n",
    "#         else:\n",
    "#             return np.c_[X, rooms_per_household, population_per_household]\n",
    "\n",
    "# attr_adder = CombinedAttributesAdder(add_bedrooms_per_room=False)\n",
    "# housing_extra_attribs = attr_adder.transform(housing.values)"
   ]
  },
  {
   "cell_type": "code",
   "execution_count": 62,
   "id": "mighty-madagascar",
   "metadata": {
    "execution": {
     "iopub.execute_input": "2021-06-24T03:16:01.649909Z",
     "iopub.status.busy": "2021-06-24T03:16:01.648671Z",
     "iopub.status.idle": "2021-06-24T03:16:01.651968Z",
     "shell.execute_reply": "2021-06-24T03:16:01.651323Z",
     "shell.execute_reply.started": "2021-06-23T06:45:21.396566Z"
    },
    "papermill": {
     "duration": 0.136595,
     "end_time": "2021-06-24T03:16:01.652113",
     "exception": false,
     "start_time": "2021-06-24T03:16:01.515518",
     "status": "completed"
    },
    "tags": []
   },
   "outputs": [],
   "source": [
    "# housing_extra_attribs = pd.DataFrame(\n",
    "#     housing_extra_attribs,\n",
    "#     columns=list(housing.columns)+[\"rooms_per_household\", \"population_per_household\"])\n",
    "# housing_extra_attribs.head()"
   ]
  },
  {
   "cell_type": "markdown",
   "id": "optional-grove",
   "metadata": {
    "papermill": {
     "duration": 0.128823,
     "end_time": "2021-06-24T03:16:01.911128",
     "exception": false,
     "start_time": "2021-06-24T03:16:01.782305",
     "status": "completed"
    },
    "tags": []
   },
   "source": [
    "Now let's build a pipeline for preprocessing the numerical attributes:"
   ]
  },
  {
   "cell_type": "code",
   "execution_count": 63,
   "id": "respected-passion",
   "metadata": {
    "execution": {
     "iopub.execute_input": "2021-06-24T03:16:02.182321Z",
     "iopub.status.busy": "2021-06-24T03:16:02.179362Z",
     "iopub.status.idle": "2021-06-24T03:16:02.185930Z",
     "shell.execute_reply": "2021-06-24T03:16:02.186398Z",
     "shell.execute_reply.started": "2021-06-23T06:45:21.411174Z"
    },
    "papermill": {
     "duration": 0.145121,
     "end_time": "2021-06-24T03:16:02.186580",
     "exception": false,
     "start_time": "2021-06-24T03:16:02.041459",
     "status": "completed"
    },
    "tags": []
   },
   "outputs": [],
   "source": [
    "from sklearn.pipeline import Pipeline\n",
    "from sklearn.preprocessing import StandardScaler\n",
    "\n",
    "num_pipeline = Pipeline([\n",
    "        ('imputer', SimpleImputer(strategy=\"median\")),\n",
    "#         ('attribs_adder', CombinedAttributesAdder()),\n",
    "        ('std_scaler', StandardScaler()),\n",
    "    ])\n",
    "\n",
    "netflix_num_tr = num_pipeline.fit_transform(netflix_num)"
   ]
  },
  {
   "cell_type": "code",
   "execution_count": 64,
   "id": "analyzed-sacrifice",
   "metadata": {
    "execution": {
     "iopub.execute_input": "2021-06-24T03:16:02.451996Z",
     "iopub.status.busy": "2021-06-24T03:16:02.451305Z",
     "iopub.status.idle": "2021-06-24T03:16:02.455035Z",
     "shell.execute_reply": "2021-06-24T03:16:02.455469Z",
     "shell.execute_reply.started": "2021-06-23T06:45:21.429346Z"
    },
    "papermill": {
     "duration": 0.137865,
     "end_time": "2021-06-24T03:16:02.455645",
     "exception": false,
     "start_time": "2021-06-24T03:16:02.317780",
     "status": "completed"
    },
    "tags": []
   },
   "outputs": [
    {
     "data": {
      "text/plain": [
       "array([[ 0.23757285, -0.81105452, -0.07066831],\n",
       "       [-0.06812751, -1.32626297, -0.07066831],\n",
       "       [ 0.54327321,  1.11099618, -0.79813616],\n",
       "       ...,\n",
       "       [ 0.54327321, -0.95744216, -0.07066831],\n",
       "       [ 0.33947297, -1.29014134, -0.07066831],\n",
       "       [-0.27192775,  0.79920952,  0.65679955]])"
      ]
     },
     "execution_count": 64,
     "metadata": {},
     "output_type": "execute_result"
    }
   ],
   "source": [
    "netflix_num_tr"
   ]
  },
  {
   "cell_type": "code",
   "execution_count": 65,
   "id": "focused-optimization",
   "metadata": {
    "execution": {
     "iopub.execute_input": "2021-06-24T03:16:02.725459Z",
     "iopub.status.busy": "2021-06-24T03:16:02.724803Z",
     "iopub.status.idle": "2021-06-24T03:16:02.728030Z",
     "shell.execute_reply": "2021-06-24T03:16:02.727496Z",
     "shell.execute_reply.started": "2021-06-23T06:45:21.44188Z"
    },
    "papermill": {
     "duration": 0.140509,
     "end_time": "2021-06-24T03:16:02.728175",
     "exception": false,
     "start_time": "2021-06-24T03:16:02.587666",
     "status": "completed"
    },
    "tags": []
   },
   "outputs": [],
   "source": [
    "from sklearn.base import BaseEstimator, TransformerMixin\n",
    "\n",
    "# Create a class to select numerical or categorical columns \n",
    "# since Scikit-Learn doesn't handle DataFrames yet\n",
    "class DataFrameSelector(BaseEstimator, TransformerMixin):\n",
    "    def __init__(self, attribute_names):\n",
    "        self.attribute_names = attribute_names\n",
    "    def fit(self, X, y=None):\n",
    "        return self\n",
    "    def transform(self, X):\n",
    "        return X[self.attribute_names].values"
   ]
  },
  {
   "cell_type": "markdown",
   "id": "revolutionary-poster",
   "metadata": {
    "papermill": {
     "duration": 0.130951,
     "end_time": "2021-06-24T03:16:02.991918",
     "exception": false,
     "start_time": "2021-06-24T03:16:02.860967",
     "status": "completed"
    },
    "tags": []
   },
   "source": [
    "Now let's join all these components into a big pipeline that will preprocess both the numerical and the categorical features:"
   ]
  },
  {
   "cell_type": "code",
   "execution_count": 66,
   "id": "empty-watson",
   "metadata": {
    "execution": {
     "iopub.execute_input": "2021-06-24T03:16:03.261656Z",
     "iopub.status.busy": "2021-06-24T03:16:03.260989Z",
     "iopub.status.idle": "2021-06-24T03:16:03.263643Z",
     "shell.execute_reply": "2021-06-24T03:16:03.264121Z",
     "shell.execute_reply.started": "2021-06-23T06:45:21.451767Z"
    },
    "papermill": {
     "duration": 0.141231,
     "end_time": "2021-06-24T03:16:03.264302",
     "exception": false,
     "start_time": "2021-06-24T03:16:03.123071",
     "status": "completed"
    },
    "tags": []
   },
   "outputs": [],
   "source": [
    "num_attribs = list(netflix_num)\n",
    "cat_attribs = [\"Genre\"]\n",
    "\n",
    "num_pipeline = Pipeline([\n",
    "        ('selector', DataFrameSelector(num_attribs)),\n",
    "        ('imputer', SimpleImputer(strategy=\"median\")),\n",
    "#         ('attribs_adder', CombinedAttributesAdder()),\n",
    "        ('std_scaler', StandardScaler()),\n",
    "    ])\n",
    "\n",
    "cat_pipeline = Pipeline([\n",
    "        ('selector', DataFrameSelector(cat_attribs)),\n",
    "        ('cat_encoder', OneHotEncoder(sparse=False, handle_unknown='ignore')),\n",
    "    ])"
   ]
  },
  {
   "cell_type": "code",
   "execution_count": 67,
   "id": "dense-organ",
   "metadata": {
    "execution": {
     "iopub.execute_input": "2021-06-24T03:16:03.530942Z",
     "iopub.status.busy": "2021-06-24T03:16:03.530261Z",
     "iopub.status.idle": "2021-06-24T03:16:03.532478Z",
     "shell.execute_reply": "2021-06-24T03:16:03.531820Z",
     "shell.execute_reply.started": "2021-06-23T06:45:21.463979Z"
    },
    "papermill": {
     "duration": 0.137856,
     "end_time": "2021-06-24T03:16:03.532622",
     "exception": false,
     "start_time": "2021-06-24T03:16:03.394766",
     "status": "completed"
    },
    "tags": []
   },
   "outputs": [],
   "source": [
    "from sklearn.pipeline import FeatureUnion\n",
    "\n",
    "full_pipeline = FeatureUnion(transformer_list=[\n",
    "        (\"num_pipeline\", num_pipeline),\n",
    "        (\"cat_pipeline\", cat_pipeline),\n",
    "    ])"
   ]
  },
  {
   "cell_type": "code",
   "execution_count": 68,
   "id": "tight-active",
   "metadata": {
    "execution": {
     "iopub.execute_input": "2021-06-24T03:16:03.806658Z",
     "iopub.status.busy": "2021-06-24T03:16:03.805746Z",
     "iopub.status.idle": "2021-06-24T03:16:03.816648Z",
     "shell.execute_reply": "2021-06-24T03:16:03.816126Z",
     "shell.execute_reply.started": "2021-06-23T06:45:21.480187Z"
    },
    "papermill": {
     "duration": 0.150655,
     "end_time": "2021-06-24T03:16:03.816803",
     "exception": false,
     "start_time": "2021-06-24T03:16:03.666148",
     "status": "completed"
    },
    "tags": []
   },
   "outputs": [
    {
     "data": {
      "text/plain": [
       "array([[ 0.23757285, -0.81105452, -0.07066831, ...,  0.        ,\n",
       "         0.        ,  0.        ],\n",
       "       [-0.06812751, -1.32626297, -0.07066831, ...,  0.        ,\n",
       "         0.        ,  0.        ],\n",
       "       [ 0.54327321,  1.11099618, -0.79813616, ...,  0.        ,\n",
       "         0.        ,  0.        ],\n",
       "       ...,\n",
       "       [ 0.54327321, -0.95744216, -0.07066831, ...,  0.        ,\n",
       "         0.        ,  0.        ],\n",
       "       [ 0.33947297, -1.29014134, -0.07066831, ...,  0.        ,\n",
       "         0.        ,  0.        ],\n",
       "       [-0.27192775,  0.79920952,  0.65679955, ...,  0.        ,\n",
       "         0.        ,  0.        ]])"
      ]
     },
     "execution_count": 68,
     "metadata": {},
     "output_type": "execute_result"
    }
   ],
   "source": [
    "netflix_prepared = full_pipeline.fit_transform(netflix)\n",
    "netflix_prepared"
   ]
  },
  {
   "cell_type": "code",
   "execution_count": 69,
   "id": "solved-frederick",
   "metadata": {
    "execution": {
     "iopub.execute_input": "2021-06-24T03:16:04.086350Z",
     "iopub.status.busy": "2021-06-24T03:16:04.085643Z",
     "iopub.status.idle": "2021-06-24T03:16:04.088236Z",
     "shell.execute_reply": "2021-06-24T03:16:04.088795Z",
     "shell.execute_reply.started": "2021-06-23T06:45:21.499119Z"
    },
    "papermill": {
     "duration": 0.140904,
     "end_time": "2021-06-24T03:16:04.088988",
     "exception": false,
     "start_time": "2021-06-24T03:16:03.948084",
     "status": "completed"
    },
    "tags": []
   },
   "outputs": [
    {
     "data": {
      "text/plain": [
       "(525, 112)"
      ]
     },
     "execution_count": 69,
     "metadata": {},
     "output_type": "execute_result"
    }
   ],
   "source": [
    "netflix_prepared.shape"
   ]
  },
  {
   "cell_type": "code",
   "execution_count": 70,
   "id": "brave-taste",
   "metadata": {
    "execution": {
     "iopub.execute_input": "2021-06-24T03:16:04.362511Z",
     "iopub.status.busy": "2021-06-24T03:16:04.361873Z",
     "iopub.status.idle": "2021-06-24T03:16:04.367055Z",
     "shell.execute_reply": "2021-06-24T03:16:04.367583Z",
     "shell.execute_reply.started": "2021-06-23T06:45:21.507653Z"
    },
    "papermill": {
     "duration": 0.145076,
     "end_time": "2021-06-24T03:16:04.367751",
     "exception": false,
     "start_time": "2021-06-24T03:16:04.222675",
     "status": "completed"
    },
    "tags": []
   },
   "outputs": [
    {
     "data": {
      "text/plain": [
       "(525,)"
      ]
     },
     "execution_count": 70,
     "metadata": {},
     "output_type": "execute_result"
    }
   ],
   "source": [
    "netflix_labels.shape"
   ]
  },
  {
   "cell_type": "markdown",
   "id": "surgical-target",
   "metadata": {
    "papermill": {
     "duration": 0.131902,
     "end_time": "2021-06-24T03:16:04.631254",
     "exception": false,
     "start_time": "2021-06-24T03:16:04.499352",
     "status": "completed"
    },
    "tags": []
   },
   "source": [
    "# Select and train a model"
   ]
  },
  {
   "cell_type": "code",
   "execution_count": 71,
   "id": "mechanical-prayer",
   "metadata": {
    "execution": {
     "iopub.execute_input": "2021-06-24T03:16:04.898258Z",
     "iopub.status.busy": "2021-06-24T03:16:04.897573Z",
     "iopub.status.idle": "2021-06-24T03:16:04.924745Z",
     "shell.execute_reply": "2021-06-24T03:16:04.925711Z",
     "shell.execute_reply.started": "2021-06-23T06:45:21.51892Z"
    },
    "papermill": {
     "duration": 0.163684,
     "end_time": "2021-06-24T03:16:04.926066",
     "exception": false,
     "start_time": "2021-06-24T03:16:04.762382",
     "status": "completed"
    },
    "tags": []
   },
   "outputs": [
    {
     "data": {
      "text/plain": [
       "LinearRegression()"
      ]
     },
     "execution_count": 71,
     "metadata": {},
     "output_type": "execute_result"
    }
   ],
   "source": [
    "from sklearn.linear_model import LinearRegression\n",
    "\n",
    "lin_reg = LinearRegression()\n",
    "lin_reg.fit(netflix_prepared, netflix_labels)"
   ]
  },
  {
   "cell_type": "code",
   "execution_count": 72,
   "id": "ongoing-infrared",
   "metadata": {
    "execution": {
     "iopub.execute_input": "2021-06-24T03:16:05.251737Z",
     "iopub.status.busy": "2021-06-24T03:16:05.250971Z",
     "iopub.status.idle": "2021-06-24T03:16:05.254185Z",
     "shell.execute_reply": "2021-06-24T03:16:05.254751Z",
     "shell.execute_reply.started": "2021-06-23T06:45:21.54201Z"
    },
    "papermill": {
     "duration": 0.147171,
     "end_time": "2021-06-24T03:16:05.254949",
     "exception": false,
     "start_time": "2021-06-24T03:16:05.107778",
     "status": "completed"
    },
    "tags": []
   },
   "outputs": [
    {
     "name": "stdout",
     "output_type": "stream",
     "text": [
      "Predictions: [92.8684082  93.49707031 72.27416992 91.05297852 91.13671875]\n"
     ]
    }
   ],
   "source": [
    "# let's try the full pipeline on a few training instances\n",
    "some_data = netflix.iloc[:5]\n",
    "some_labels = netflix_labels.iloc[:5]\n",
    "some_data_prepared = full_pipeline.transform(some_data)\n",
    "\n",
    "print(\"Predictions:\", lin_reg.predict(some_data_prepared))"
   ]
  },
  {
   "cell_type": "markdown",
   "id": "encouraging-charter",
   "metadata": {
    "papermill": {
     "duration": 0.131786,
     "end_time": "2021-06-24T03:16:05.520947",
     "exception": false,
     "start_time": "2021-06-24T03:16:05.389161",
     "status": "completed"
    },
    "tags": []
   },
   "source": [
    "Compare against the actual values:"
   ]
  },
  {
   "cell_type": "code",
   "execution_count": 73,
   "id": "sophisticated-nirvana",
   "metadata": {
    "execution": {
     "iopub.execute_input": "2021-06-24T03:16:05.791502Z",
     "iopub.status.busy": "2021-06-24T03:16:05.790847Z",
     "iopub.status.idle": "2021-06-24T03:16:05.793592Z",
     "shell.execute_reply": "2021-06-24T03:16:05.794305Z",
     "shell.execute_reply.started": "2021-06-23T06:45:21.574927Z"
    },
    "papermill": {
     "duration": 0.139235,
     "end_time": "2021-06-24T03:16:05.794541",
     "exception": false,
     "start_time": "2021-06-24T03:16:05.655306",
     "status": "completed"
    },
    "tags": []
   },
   "outputs": [
    {
     "name": "stdout",
     "output_type": "stream",
     "text": [
      "Labels: [93, 92, 73, 95, 87]\n"
     ]
    }
   ],
   "source": [
    "print(\"Labels:\", list(some_labels))"
   ]
  },
  {
   "cell_type": "code",
   "execution_count": 74,
   "id": "clinical-inventory",
   "metadata": {
    "execution": {
     "iopub.execute_input": "2021-06-24T03:16:06.120176Z",
     "iopub.status.busy": "2021-06-24T03:16:06.119421Z",
     "iopub.status.idle": "2021-06-24T03:16:06.122369Z",
     "shell.execute_reply": "2021-06-24T03:16:06.122951Z",
     "shell.execute_reply.started": "2021-06-23T06:45:21.599482Z"
    },
    "papermill": {
     "duration": 0.149528,
     "end_time": "2021-06-24T03:16:06.123123",
     "exception": false,
     "start_time": "2021-06-24T03:16:05.973595",
     "status": "completed"
    },
    "tags": []
   },
   "outputs": [
    {
     "data": {
      "text/plain": [
       "array([[ 0.23757285, -0.81105452, -0.07066831,  0.        ,  0.        ,\n",
       "         0.        ,  0.        ,  0.        ,  0.        ,  0.        ,\n",
       "         0.        ,  0.        ,  0.        ,  0.        ,  0.        ,\n",
       "         0.        ,  0.        ,  0.        ,  0.        ,  0.        ,\n",
       "         0.        ,  0.        ,  0.        ,  0.        ,  0.        ,\n",
       "         0.        ,  0.        ,  0.        ,  0.        ,  0.        ,\n",
       "         0.        ,  0.        ,  0.        ,  0.        ,  0.        ,\n",
       "         0.        ,  0.        ,  0.        ,  0.        ,  0.        ,\n",
       "         0.        ,  0.        ,  0.        ,  0.        ,  0.        ,\n",
       "         0.        ,  1.        ,  0.        ,  0.        ,  0.        ,\n",
       "         0.        ,  0.        ,  0.        ,  0.        ,  0.        ,\n",
       "         0.        ,  0.        ,  0.        ,  0.        ,  0.        ,\n",
       "         0.        ,  0.        ,  0.        ,  0.        ,  0.        ,\n",
       "         0.        ,  0.        ,  0.        ,  0.        ,  0.        ,\n",
       "         0.        ,  0.        ,  0.        ,  0.        ,  0.        ,\n",
       "         0.        ,  0.        ,  0.        ,  0.        ,  0.        ,\n",
       "         0.        ,  0.        ,  0.        ,  0.        ,  0.        ,\n",
       "         0.        ,  0.        ,  0.        ,  0.        ,  0.        ,\n",
       "         0.        ,  0.        ,  0.        ,  0.        ,  0.        ,\n",
       "         0.        ,  0.        ,  0.        ,  0.        ,  0.        ,\n",
       "         0.        ,  0.        ,  0.        ,  0.        ,  0.        ,\n",
       "         0.        ,  0.        ,  0.        ,  0.        ,  0.        ,\n",
       "         0.        ,  0.        ],\n",
       "       [-0.06812751, -1.32626297, -0.07066831,  0.        ,  0.        ,\n",
       "         0.        ,  0.        ,  0.        ,  0.        ,  0.        ,\n",
       "         0.        ,  0.        ,  0.        ,  0.        ,  0.        ,\n",
       "         0.        ,  0.        ,  0.        ,  0.        ,  0.        ,\n",
       "         0.        ,  0.        ,  0.        ,  0.        ,  0.        ,\n",
       "         0.        ,  0.        ,  0.        ,  1.        ,  0.        ,\n",
       "         0.        ,  0.        ,  0.        ,  0.        ,  0.        ,\n",
       "         0.        ,  0.        ,  0.        ,  0.        ,  0.        ,\n",
       "         0.        ,  0.        ,  0.        ,  0.        ,  0.        ,\n",
       "         0.        ,  0.        ,  0.        ,  0.        ,  0.        ,\n",
       "         0.        ,  0.        ,  0.        ,  0.        ,  0.        ,\n",
       "         0.        ,  0.        ,  0.        ,  0.        ,  0.        ,\n",
       "         0.        ,  0.        ,  0.        ,  0.        ,  0.        ,\n",
       "         0.        ,  0.        ,  0.        ,  0.        ,  0.        ,\n",
       "         0.        ,  0.        ,  0.        ,  0.        ,  0.        ,\n",
       "         0.        ,  0.        ,  0.        ,  0.        ,  0.        ,\n",
       "         0.        ,  0.        ,  0.        ,  0.        ,  0.        ,\n",
       "         0.        ,  0.        ,  0.        ,  0.        ,  0.        ,\n",
       "         0.        ,  0.        ,  0.        ,  0.        ,  0.        ,\n",
       "         0.        ,  0.        ,  0.        ,  0.        ,  0.        ,\n",
       "         0.        ,  0.        ,  0.        ,  0.        ,  0.        ,\n",
       "         0.        ,  0.        ,  0.        ,  0.        ,  0.        ,\n",
       "         0.        ,  0.        ],\n",
       "       [ 0.54327321,  1.11099618, -0.79813616,  0.        ,  0.        ,\n",
       "         0.        ,  0.        ,  0.        ,  0.        ,  0.        ,\n",
       "         0.        ,  0.        ,  0.        ,  0.        ,  0.        ,\n",
       "         0.        ,  0.        ,  0.        ,  0.        ,  0.        ,\n",
       "         0.        ,  0.        ,  0.        ,  0.        ,  0.        ,\n",
       "         0.        ,  0.        ,  0.        ,  0.        ,  0.        ,\n",
       "         0.        ,  0.        ,  0.        ,  0.        ,  0.        ,\n",
       "         0.        ,  0.        ,  0.        ,  0.        ,  0.        ,\n",
       "         0.        ,  0.        ,  0.        ,  0.        ,  0.        ,\n",
       "         1.        ,  0.        ,  0.        ,  0.        ,  0.        ,\n",
       "         0.        ,  0.        ,  0.        ,  0.        ,  0.        ,\n",
       "         0.        ,  0.        ,  0.        ,  0.        ,  0.        ,\n",
       "         0.        ,  0.        ,  0.        ,  0.        ,  0.        ,\n",
       "         0.        ,  0.        ,  0.        ,  0.        ,  0.        ,\n",
       "         0.        ,  0.        ,  0.        ,  0.        ,  0.        ,\n",
       "         0.        ,  0.        ,  0.        ,  0.        ,  0.        ,\n",
       "         0.        ,  0.        ,  0.        ,  0.        ,  0.        ,\n",
       "         0.        ,  0.        ,  0.        ,  0.        ,  0.        ,\n",
       "         0.        ,  0.        ,  0.        ,  0.        ,  0.        ,\n",
       "         0.        ,  0.        ,  0.        ,  0.        ,  0.        ,\n",
       "         0.        ,  0.        ,  0.        ,  0.        ,  0.        ,\n",
       "         0.        ,  0.        ,  0.        ,  0.        ,  0.        ,\n",
       "         0.        ,  0.        ],\n",
       "       [-0.98522859,  0.70225147, -0.07066831,  0.        ,  0.        ,\n",
       "         0.        ,  0.        ,  0.        ,  0.        ,  0.        ,\n",
       "         0.        ,  0.        ,  0.        ,  0.        ,  0.        ,\n",
       "         0.        ,  0.        ,  0.        ,  0.        ,  0.        ,\n",
       "         0.        ,  0.        ,  0.        ,  0.        ,  0.        ,\n",
       "         0.        ,  0.        ,  0.        ,  0.        ,  0.        ,\n",
       "         0.        ,  0.        ,  0.        ,  0.        ,  0.        ,\n",
       "         0.        ,  0.        ,  0.        ,  0.        ,  0.        ,\n",
       "         0.        ,  0.        ,  0.        ,  0.        ,  0.        ,\n",
       "         0.        ,  0.        ,  0.        ,  0.        ,  0.        ,\n",
       "         0.        ,  0.        ,  0.        ,  0.        ,  0.        ,\n",
       "         0.        ,  0.        ,  0.        ,  0.        ,  0.        ,\n",
       "         0.        ,  0.        ,  0.        ,  0.        ,  0.        ,\n",
       "         0.        ,  0.        ,  0.        ,  0.        ,  0.        ,\n",
       "         0.        ,  0.        ,  0.        ,  0.        ,  0.        ,\n",
       "         0.        ,  0.        ,  0.        ,  0.        ,  0.        ,\n",
       "         0.        ,  1.        ,  0.        ,  0.        ,  0.        ,\n",
       "         0.        ,  0.        ,  0.        ,  0.        ,  0.        ,\n",
       "         0.        ,  0.        ,  0.        ,  0.        ,  0.        ,\n",
       "         0.        ,  0.        ,  0.        ,  0.        ,  0.        ,\n",
       "         0.        ,  0.        ,  0.        ,  0.        ,  0.        ,\n",
       "         0.        ,  0.        ,  0.        ,  0.        ,  0.        ,\n",
       "         0.        ,  0.        ],\n",
       "       [ 0.03377261,  0.17373506, -0.07066831,  0.        ,  0.        ,\n",
       "         0.        ,  0.        ,  0.        ,  0.        ,  0.        ,\n",
       "         0.        ,  0.        ,  0.        ,  0.        ,  0.        ,\n",
       "         0.        ,  0.        ,  0.        ,  0.        ,  0.        ,\n",
       "         0.        ,  0.        ,  0.        ,  0.        ,  0.        ,\n",
       "         0.        ,  0.        ,  0.        ,  0.        ,  0.        ,\n",
       "         0.        ,  0.        ,  0.        ,  0.        ,  0.        ,\n",
       "         0.        ,  0.        ,  0.        ,  0.        ,  0.        ,\n",
       "         0.        ,  0.        ,  0.        ,  0.        ,  0.        ,\n",
       "         1.        ,  0.        ,  0.        ,  0.        ,  0.        ,\n",
       "         0.        ,  0.        ,  0.        ,  0.        ,  0.        ,\n",
       "         0.        ,  0.        ,  0.        ,  0.        ,  0.        ,\n",
       "         0.        ,  0.        ,  0.        ,  0.        ,  0.        ,\n",
       "         0.        ,  0.        ,  0.        ,  0.        ,  0.        ,\n",
       "         0.        ,  0.        ,  0.        ,  0.        ,  0.        ,\n",
       "         0.        ,  0.        ,  0.        ,  0.        ,  0.        ,\n",
       "         0.        ,  0.        ,  0.        ,  0.        ,  0.        ,\n",
       "         0.        ,  0.        ,  0.        ,  0.        ,  0.        ,\n",
       "         0.        ,  0.        ,  0.        ,  0.        ,  0.        ,\n",
       "         0.        ,  0.        ,  0.        ,  0.        ,  0.        ,\n",
       "         0.        ,  0.        ,  0.        ,  0.        ,  0.        ,\n",
       "         0.        ,  0.        ,  0.        ,  0.        ,  0.        ,\n",
       "         0.        ,  0.        ]])"
      ]
     },
     "execution_count": 74,
     "metadata": {},
     "output_type": "execute_result"
    }
   ],
   "source": [
    "some_data_prepared"
   ]
  },
  {
   "cell_type": "code",
   "execution_count": 75,
   "id": "representative-affiliate",
   "metadata": {
    "execution": {
     "iopub.execute_input": "2021-06-24T03:16:06.436240Z",
     "iopub.status.busy": "2021-06-24T03:16:06.428650Z",
     "iopub.status.idle": "2021-06-24T03:16:06.441726Z",
     "shell.execute_reply": "2021-06-24T03:16:06.442496Z",
     "shell.execute_reply.started": "2021-06-23T06:45:21.635902Z"
    },
    "papermill": {
     "duration": 0.175102,
     "end_time": "2021-06-24T03:16:06.442765",
     "exception": false,
     "start_time": "2021-06-24T03:16:06.267663",
     "status": "completed"
    },
    "tags": []
   },
   "outputs": [
    {
     "data": {
      "text/plain": [
       "6.291103761707266"
      ]
     },
     "execution_count": 75,
     "metadata": {},
     "output_type": "execute_result"
    }
   ],
   "source": [
    "from sklearn.metrics import mean_squared_error\n",
    "\n",
    "netflix_predictions = lin_reg.predict(netflix_prepared)\n",
    "lin_mse = mean_squared_error(netflix_labels, netflix_predictions)\n",
    "lin_rmse = np.sqrt(lin_mse)\n",
    "lin_rmse"
   ]
  },
  {
   "cell_type": "code",
   "execution_count": 76,
   "id": "everyday-editor",
   "metadata": {
    "execution": {
     "iopub.execute_input": "2021-06-24T03:16:06.764771Z",
     "iopub.status.busy": "2021-06-24T03:16:06.763945Z",
     "iopub.status.idle": "2021-06-24T03:16:06.767267Z",
     "shell.execute_reply": "2021-06-24T03:16:06.767832Z",
     "shell.execute_reply.started": "2021-06-23T06:45:21.658969Z"
    },
    "papermill": {
     "duration": 0.143196,
     "end_time": "2021-06-24T03:16:06.768025",
     "exception": false,
     "start_time": "2021-06-24T03:16:06.624829",
     "status": "completed"
    },
    "tags": []
   },
   "outputs": [
    {
     "data": {
      "text/plain": [
       "4.3826004464285715"
      ]
     },
     "execution_count": 76,
     "metadata": {},
     "output_type": "execute_result"
    }
   ],
   "source": [
    "from sklearn.metrics import mean_absolute_error\n",
    "\n",
    "lin_mae = mean_absolute_error(netflix_labels, netflix_predictions)\n",
    "lin_mae"
   ]
  },
  {
   "cell_type": "code",
   "execution_count": 77,
   "id": "victorian-paradise",
   "metadata": {
    "execution": {
     "iopub.execute_input": "2021-06-24T03:16:07.042745Z",
     "iopub.status.busy": "2021-06-24T03:16:07.041753Z",
     "iopub.status.idle": "2021-06-24T03:16:07.098600Z",
     "shell.execute_reply": "2021-06-24T03:16:07.099081Z",
     "shell.execute_reply.started": "2021-06-23T06:45:21.671667Z"
    },
    "papermill": {
     "duration": 0.196279,
     "end_time": "2021-06-24T03:16:07.099271",
     "exception": false,
     "start_time": "2021-06-24T03:16:06.902992",
     "status": "completed"
    },
    "tags": []
   },
   "outputs": [
    {
     "data": {
      "text/plain": [
       "DecisionTreeRegressor(random_state=42)"
      ]
     },
     "execution_count": 77,
     "metadata": {},
     "output_type": "execute_result"
    }
   ],
   "source": [
    "from sklearn.tree import DecisionTreeRegressor\n",
    "\n",
    "tree_reg = DecisionTreeRegressor(random_state=42)\n",
    "tree_reg.fit(netflix_prepared, netflix_labels)"
   ]
  },
  {
   "cell_type": "code",
   "execution_count": 78,
   "id": "biological-facial",
   "metadata": {
    "execution": {
     "iopub.execute_input": "2021-06-24T03:16:07.374757Z",
     "iopub.status.busy": "2021-06-24T03:16:07.374163Z",
     "iopub.status.idle": "2021-06-24T03:16:07.381595Z",
     "shell.execute_reply": "2021-06-24T03:16:07.381068Z",
     "shell.execute_reply.started": "2021-06-23T06:45:21.695468Z"
    },
    "papermill": {
     "duration": 0.145597,
     "end_time": "2021-06-24T03:16:07.381739",
     "exception": false,
     "start_time": "2021-06-24T03:16:07.236142",
     "status": "completed"
    },
    "tags": []
   },
   "outputs": [
    {
     "data": {
      "text/plain": [
       "0.0"
      ]
     },
     "execution_count": 78,
     "metadata": {},
     "output_type": "execute_result"
    }
   ],
   "source": [
    "netflix_predictions = tree_reg.predict(netflix_prepared)\n",
    "tree_mse = mean_squared_error(netflix_labels, netflix_predictions)\n",
    "tree_rmse = np.sqrt(tree_mse)\n",
    "tree_rmse"
   ]
  },
  {
   "cell_type": "markdown",
   "id": "romantic-persian",
   "metadata": {
    "papermill": {
     "duration": 0.135329,
     "end_time": "2021-06-24T03:16:07.652341",
     "exception": false,
     "start_time": "2021-06-24T03:16:07.517012",
     "status": "completed"
    },
    "tags": []
   },
   "source": [
    "# Fine-tune the model"
   ]
  },
  {
   "cell_type": "code",
   "execution_count": 79,
   "id": "damaged-genius",
   "metadata": {
    "execution": {
     "iopub.execute_input": "2021-06-24T03:16:07.931747Z",
     "iopub.status.busy": "2021-06-24T03:16:07.931041Z",
     "iopub.status.idle": "2021-06-24T03:16:07.988006Z",
     "shell.execute_reply": "2021-06-24T03:16:07.987460Z",
     "shell.execute_reply.started": "2021-06-23T06:45:21.713855Z"
    },
    "papermill": {
     "duration": 0.199526,
     "end_time": "2021-06-24T03:16:07.988156",
     "exception": false,
     "start_time": "2021-06-24T03:16:07.788630",
     "status": "completed"
    },
    "tags": []
   },
   "outputs": [],
   "source": [
    "from sklearn.model_selection import cross_val_score\n",
    "\n",
    "scores = cross_val_score(tree_reg, netflix_prepared, netflix_labels,\n",
    "                         scoring=\"neg_mean_squared_error\", cv=10)\n",
    "tree_rmse_scores = np.sqrt(-scores)"
   ]
  },
  {
   "cell_type": "code",
   "execution_count": 80,
   "id": "unable-pastor",
   "metadata": {
    "execution": {
     "iopub.execute_input": "2021-06-24T03:16:08.263040Z",
     "iopub.status.busy": "2021-06-24T03:16:08.262407Z",
     "iopub.status.idle": "2021-06-24T03:16:08.266983Z",
     "shell.execute_reply": "2021-06-24T03:16:08.267462Z",
     "shell.execute_reply.started": "2021-06-23T06:45:21.801907Z"
    },
    "papermill": {
     "duration": 0.144785,
     "end_time": "2021-06-24T03:16:08.267624",
     "exception": false,
     "start_time": "2021-06-24T03:16:08.122839",
     "status": "completed"
    },
    "tags": []
   },
   "outputs": [
    {
     "name": "stdout",
     "output_type": "stream",
     "text": [
      "Scores: [ 8.15533163 10.56248256 20.77870826  8.68310005  8.84243627 14.23632948\n",
      "  9.44213144  9.03092976 15.33974225  7.0492771 ]\n",
      "Mean: 11.21204687933915\n",
      "Standard deviation: 4.058321789597893\n"
     ]
    }
   ],
   "source": [
    "def display_scores(scores):\n",
    "    print(\"Scores:\", scores)\n",
    "    print(\"Mean:\", scores.mean())\n",
    "    print(\"Standard deviation:\", scores.std())\n",
    "\n",
    "display_scores(tree_rmse_scores)"
   ]
  },
  {
   "cell_type": "code",
   "execution_count": 81,
   "id": "visible-terminal",
   "metadata": {
    "execution": {
     "iopub.execute_input": "2021-06-24T03:16:08.538800Z",
     "iopub.status.busy": "2021-06-24T03:16:08.538208Z",
     "iopub.status.idle": "2021-06-24T03:16:08.673320Z",
     "shell.execute_reply": "2021-06-24T03:16:08.674315Z",
     "shell.execute_reply.started": "2021-06-23T06:45:21.811842Z"
    },
    "papermill": {
     "duration": 0.272764,
     "end_time": "2021-06-24T03:16:08.674585",
     "exception": false,
     "start_time": "2021-06-24T03:16:08.401821",
     "status": "completed"
    },
    "tags": []
   },
   "outputs": [
    {
     "name": "stdout",
     "output_type": "stream",
     "text": [
      "Scores: [7.41823422e+12 7.41870067e+11 1.90477515e+13 1.19188038e+14\n",
      " 7.12525381e+12 6.60981312e+12 6.54205668e+11 4.28399571e+12\n",
      " 2.15733658e+13 1.00602650e+13]\n",
      "Mean: 19670279334527.445\n",
      "Standard deviation: 33815448446579.13\n"
     ]
    }
   ],
   "source": [
    "lin_scores = cross_val_score(lin_reg, netflix_prepared, netflix_labels,\n",
    "                             scoring=\"neg_mean_squared_error\", cv=10)\n",
    "lin_rmse_scores = np.sqrt(-lin_scores)\n",
    "display_scores(lin_rmse_scores)"
   ]
  },
  {
   "cell_type": "code",
   "execution_count": 82,
   "id": "auburn-vancouver",
   "metadata": {
    "execution": {
     "iopub.execute_input": "2021-06-24T03:16:09.002063Z",
     "iopub.status.busy": "2021-06-24T03:16:09.001366Z",
     "iopub.status.idle": "2021-06-24T03:16:09.382009Z",
     "shell.execute_reply": "2021-06-24T03:16:09.382521Z",
     "shell.execute_reply.started": "2021-06-23T06:45:21.942249Z"
    },
    "papermill": {
     "duration": 0.52301,
     "end_time": "2021-06-24T03:16:09.382699",
     "exception": false,
     "start_time": "2021-06-24T03:16:08.859689",
     "status": "completed"
    },
    "tags": []
   },
   "outputs": [
    {
     "data": {
      "text/plain": [
       "RandomForestRegressor(random_state=42)"
      ]
     },
     "execution_count": 82,
     "metadata": {},
     "output_type": "execute_result"
    }
   ],
   "source": [
    "from sklearn.ensemble import RandomForestRegressor\n",
    "\n",
    "forest_reg = RandomForestRegressor(random_state=42)\n",
    "forest_reg.fit(netflix_prepared, netflix_labels)"
   ]
  },
  {
   "cell_type": "code",
   "execution_count": 83,
   "id": "instrumental-johnson",
   "metadata": {
    "execution": {
     "iopub.execute_input": "2021-06-24T03:16:09.704055Z",
     "iopub.status.busy": "2021-06-24T03:16:09.703107Z",
     "iopub.status.idle": "2021-06-24T03:16:09.725349Z",
     "shell.execute_reply": "2021-06-24T03:16:09.726171Z",
     "shell.execute_reply.started": "2021-06-23T06:45:22.351228Z"
    },
    "papermill": {
     "duration": 0.191428,
     "end_time": "2021-06-24T03:16:09.726409",
     "exception": false,
     "start_time": "2021-06-24T03:16:09.534981",
     "status": "completed"
    },
    "tags": []
   },
   "outputs": [
    {
     "data": {
      "text/plain": [
       "2.8277052449611775"
      ]
     },
     "execution_count": 83,
     "metadata": {},
     "output_type": "execute_result"
    }
   ],
   "source": [
    "netflix_predictions = forest_reg.predict(netflix_prepared)\n",
    "forest_mse = mean_squared_error(netflix_labels, netflix_predictions)\n",
    "forest_rmse = np.sqrt(forest_mse)\n",
    "forest_rmse"
   ]
  },
  {
   "cell_type": "code",
   "execution_count": 84,
   "id": "proprietary-guarantee",
   "metadata": {
    "execution": {
     "iopub.execute_input": "2021-06-24T03:16:10.014280Z",
     "iopub.status.busy": "2021-06-24T03:16:10.013225Z",
     "iopub.status.idle": "2021-06-24T03:16:13.363718Z",
     "shell.execute_reply": "2021-06-24T03:16:13.364209Z",
     "shell.execute_reply.started": "2021-06-23T06:45:22.375815Z"
    },
    "papermill": {
     "duration": 3.496686,
     "end_time": "2021-06-24T03:16:13.364407",
     "exception": false,
     "start_time": "2021-06-24T03:16:09.867721",
     "status": "completed"
    },
    "tags": []
   },
   "outputs": [
    {
     "name": "stdout",
     "output_type": "stream",
     "text": [
      "Scores: [ 5.74422039  7.67312475 11.5266162   6.23295275  6.93722785  8.45592009\n",
      "  6.39328524  7.03003392 12.25223763  6.19934565]\n",
      "Mean: 7.844496447919118\n",
      "Standard deviation: 2.160940734522787\n"
     ]
    }
   ],
   "source": [
    "from sklearn.model_selection import cross_val_score\n",
    "\n",
    "forest_scores = cross_val_score(forest_reg, netflix_prepared, netflix_labels,\n",
    "                                scoring=\"neg_mean_squared_error\", cv=10)\n",
    "forest_rmse_scores = np.sqrt(-forest_scores)\n",
    "display_scores(forest_rmse_scores)"
   ]
  },
  {
   "cell_type": "code",
   "execution_count": 85,
   "id": "disturbed-horizon",
   "metadata": {
    "execution": {
     "iopub.execute_input": "2021-06-24T03:16:13.640034Z",
     "iopub.status.busy": "2021-06-24T03:16:13.639348Z",
     "iopub.status.idle": "2021-06-24T03:16:13.744743Z",
     "shell.execute_reply": "2021-06-24T03:16:13.745628Z",
     "shell.execute_reply.started": "2021-06-23T06:45:25.800474Z"
    },
    "papermill": {
     "duration": 0.245536,
     "end_time": "2021-06-24T03:16:13.745939",
     "exception": false,
     "start_time": "2021-06-24T03:16:13.500403",
     "status": "completed"
    },
    "tags": []
   },
   "outputs": [
    {
     "data": {
      "text/plain": [
       "count    1.000000e+01\n",
       "mean     1.967028e+13\n",
       "std      3.564461e+13\n",
       "min      6.542057e+11\n",
       "25%      4.865450e+12\n",
       "50%      7.271744e+12\n",
       "75%      1.680088e+13\n",
       "max      1.191880e+14\n",
       "dtype: float64"
      ]
     },
     "execution_count": 85,
     "metadata": {},
     "output_type": "execute_result"
    }
   ],
   "source": [
    "scores = cross_val_score(lin_reg, netflix_prepared, netflix_labels, scoring=\"neg_mean_squared_error\", cv=10)\n",
    "pd.Series(np.sqrt(-scores)).describe()"
   ]
  },
  {
   "cell_type": "code",
   "execution_count": 86,
   "id": "gentle-friendship",
   "metadata": {
    "execution": {
     "iopub.execute_input": "2021-06-24T03:16:14.072857Z",
     "iopub.status.busy": "2021-06-24T03:16:14.072251Z",
     "iopub.status.idle": "2021-06-24T03:16:14.139297Z",
     "shell.execute_reply": "2021-06-24T03:16:14.139823Z",
     "shell.execute_reply.started": "2021-06-23T06:45:25.911512Z"
    },
    "papermill": {
     "duration": 0.210598,
     "end_time": "2021-06-24T03:16:14.140020",
     "exception": false,
     "start_time": "2021-06-24T03:16:13.929422",
     "status": "completed"
    },
    "tags": []
   },
   "outputs": [
    {
     "data": {
      "text/plain": [
       "15.869845808767508"
      ]
     },
     "execution_count": 86,
     "metadata": {},
     "output_type": "execute_result"
    }
   ],
   "source": [
    "from sklearn.svm import SVR\n",
    "\n",
    "svm_reg_rbf = SVR(kernel=\"rbf\")\n",
    "svm_reg_rbf.fit(netflix_prepared, netflix_labels)\n",
    "netflix_predictions = svm_reg_rbf.predict(netflix_prepared)\n",
    "svm_mse = mean_squared_error(netflix_labels, netflix_predictions)\n",
    "svm_rmse = np.sqrt(svm_mse)\n",
    "svm_rmse"
   ]
  },
  {
   "cell_type": "code",
   "execution_count": 87,
   "id": "protected-format",
   "metadata": {
    "execution": {
     "iopub.execute_input": "2021-06-24T03:16:14.421026Z",
     "iopub.status.busy": "2021-06-24T03:16:14.420352Z",
     "iopub.status.idle": "2021-06-24T03:16:14.462532Z",
     "shell.execute_reply": "2021-06-24T03:16:14.461799Z",
     "shell.execute_reply.started": "2021-06-23T06:45:26.032162Z"
    },
    "papermill": {
     "duration": 0.183957,
     "end_time": "2021-06-24T03:16:14.462672",
     "exception": false,
     "start_time": "2021-06-24T03:16:14.278715",
     "status": "completed"
    },
    "tags": []
   },
   "outputs": [
    {
     "data": {
      "text/plain": [
       "15.869845808767508"
      ]
     },
     "execution_count": 87,
     "metadata": {},
     "output_type": "execute_result"
    }
   ],
   "source": [
    "from sklearn.svm import SVR\n",
    "\n",
    "svm_reg = SVR(kernel=\"linear\")\n",
    "svm_reg.fit(netflix_prepared, netflix_labels)\n",
    "housing_predictions = svm_reg.predict(netflix_prepared)\n",
    "svm_mse = mean_squared_error(netflix_labels, netflix_predictions)\n",
    "svm_rmse = np.sqrt(svm_mse)\n",
    "svm_rmse"
   ]
  },
  {
   "cell_type": "code",
   "execution_count": 88,
   "id": "fifty-surname",
   "metadata": {
    "execution": {
     "iopub.execute_input": "2021-06-24T03:16:14.745065Z",
     "iopub.status.busy": "2021-06-24T03:16:14.744267Z",
     "iopub.status.idle": "2021-06-24T03:16:17.665032Z",
     "shell.execute_reply": "2021-06-24T03:16:17.664399Z",
     "shell.execute_reply.started": "2021-06-23T06:45:26.081593Z"
    },
    "papermill": {
     "duration": 3.064956,
     "end_time": "2021-06-24T03:16:17.665173",
     "exception": false,
     "start_time": "2021-06-24T03:16:14.600217",
     "status": "completed"
    },
    "tags": []
   },
   "outputs": [
    {
     "data": {
      "text/plain": [
       "GridSearchCV(cv=5, estimator=RandomForestRegressor(random_state=42),\n",
       "             param_grid=[{'max_features': [2, 4, 6, 8],\n",
       "                          'n_estimators': [3, 10, 30]},\n",
       "                         {'bootstrap': [False], 'max_features': [2, 3, 4],\n",
       "                          'n_estimators': [3, 10]}],\n",
       "             return_train_score=True, scoring='neg_mean_squared_error')"
      ]
     },
     "execution_count": 88,
     "metadata": {},
     "output_type": "execute_result"
    }
   ],
   "source": [
    "from sklearn.model_selection import GridSearchCV\n",
    "\n",
    "param_grid = [\n",
    "    # try 12 (3×4) combinations of hyperparameters\n",
    "    {'n_estimators': [3, 10, 30], 'max_features': [2, 4, 6, 8]},\n",
    "    # then try 6 (2×3) combinations with bootstrap set as False\n",
    "    {'bootstrap': [False], 'n_estimators': [3, 10], 'max_features': [2, 3, 4]},\n",
    "  ]\n",
    "\n",
    "forest_reg = RandomForestRegressor(random_state=42)\n",
    "# train across 5 folds, that's a total of (12+6)*5=90 rounds of training \n",
    "grid_search = GridSearchCV(forest_reg, param_grid, cv=5,\n",
    "                           scoring='neg_mean_squared_error', return_train_score=True)\n",
    "grid_search.fit(netflix_prepared, netflix_labels)"
   ]
  },
  {
   "cell_type": "markdown",
   "id": "unlike-pursuit",
   "metadata": {
    "papermill": {
     "duration": 0.136966,
     "end_time": "2021-06-24T03:16:17.939000",
     "exception": false,
     "start_time": "2021-06-24T03:16:17.802034",
     "status": "completed"
    },
    "tags": []
   },
   "source": [
    "The best hyperparameter combination found:"
   ]
  },
  {
   "cell_type": "code",
   "execution_count": 89,
   "id": "judicial-november",
   "metadata": {
    "execution": {
     "iopub.execute_input": "2021-06-24T03:16:18.219662Z",
     "iopub.status.busy": "2021-06-24T03:16:18.219037Z",
     "iopub.status.idle": "2021-06-24T03:16:18.223269Z",
     "shell.execute_reply": "2021-06-24T03:16:18.222725Z",
     "shell.execute_reply.started": "2021-06-23T06:45:29.041563Z"
    },
    "papermill": {
     "duration": 0.14601,
     "end_time": "2021-06-24T03:16:18.223411",
     "exception": false,
     "start_time": "2021-06-24T03:16:18.077401",
     "status": "completed"
    },
    "tags": []
   },
   "outputs": [
    {
     "data": {
      "text/plain": [
       "{'max_features': 8, 'n_estimators': 30}"
      ]
     },
     "execution_count": 89,
     "metadata": {},
     "output_type": "execute_result"
    }
   ],
   "source": [
    "grid_search.best_params_"
   ]
  },
  {
   "cell_type": "code",
   "execution_count": 90,
   "id": "southern-telling",
   "metadata": {
    "execution": {
     "iopub.execute_input": "2021-06-24T03:16:18.506202Z",
     "iopub.status.busy": "2021-06-24T03:16:18.505284Z",
     "iopub.status.idle": "2021-06-24T03:16:18.509276Z",
     "shell.execute_reply": "2021-06-24T03:16:18.508736Z",
     "shell.execute_reply.started": "2021-06-23T06:45:29.050269Z"
    },
    "papermill": {
     "duration": 0.146091,
     "end_time": "2021-06-24T03:16:18.509413",
     "exception": false,
     "start_time": "2021-06-24T03:16:18.363322",
     "status": "completed"
    },
    "tags": []
   },
   "outputs": [
    {
     "data": {
      "text/plain": [
       "RandomForestRegressor(max_features=8, n_estimators=30, random_state=42)"
      ]
     },
     "execution_count": 90,
     "metadata": {},
     "output_type": "execute_result"
    }
   ],
   "source": [
    "grid_search.best_estimator_"
   ]
  },
  {
   "cell_type": "markdown",
   "id": "satellite-check",
   "metadata": {
    "papermill": {
     "duration": 0.13931,
     "end_time": "2021-06-24T03:16:18.788346",
     "exception": false,
     "start_time": "2021-06-24T03:16:18.649036",
     "status": "completed"
    },
    "tags": []
   },
   "source": [
    "Let's look at the score of each hyperparameter combination tested during the grid search:"
   ]
  },
  {
   "cell_type": "code",
   "execution_count": 91,
   "id": "literary-repeat",
   "metadata": {
    "execution": {
     "iopub.execute_input": "2021-06-24T03:16:19.073572Z",
     "iopub.status.busy": "2021-06-24T03:16:19.072530Z",
     "iopub.status.idle": "2021-06-24T03:16:19.080968Z",
     "shell.execute_reply": "2021-06-24T03:16:19.079994Z",
     "shell.execute_reply.started": "2021-06-23T06:45:29.065077Z"
    },
    "papermill": {
     "duration": 0.154379,
     "end_time": "2021-06-24T03:16:19.081149",
     "exception": false,
     "start_time": "2021-06-24T03:16:18.926770",
     "status": "completed"
    },
    "tags": []
   },
   "outputs": [
    {
     "name": "stdout",
     "output_type": "stream",
     "text": [
      "13.78315819162828 {'max_features': 2, 'n_estimators': 3}\n",
      "12.490888107508036 {'max_features': 2, 'n_estimators': 10}\n",
      "11.382491521082422 {'max_features': 2, 'n_estimators': 30}\n",
      "14.157518988697982 {'max_features': 4, 'n_estimators': 3}\n",
      "12.230603302489095 {'max_features': 4, 'n_estimators': 10}\n",
      "11.295545406563866 {'max_features': 4, 'n_estimators': 30}\n",
      "13.323917310114638 {'max_features': 6, 'n_estimators': 3}\n",
      "11.662792281847594 {'max_features': 6, 'n_estimators': 10}\n",
      "10.875145319226116 {'max_features': 6, 'n_estimators': 30}\n",
      "14.19038350880568 {'max_features': 8, 'n_estimators': 3}\n",
      "11.505669823840684 {'max_features': 8, 'n_estimators': 10}\n",
      "10.784726805771774 {'max_features': 8, 'n_estimators': 30}\n",
      "14.743370853606857 {'bootstrap': False, 'max_features': 2, 'n_estimators': 3}\n",
      "12.749138532988548 {'bootstrap': False, 'max_features': 2, 'n_estimators': 10}\n",
      "13.307284077670001 {'bootstrap': False, 'max_features': 3, 'n_estimators': 3}\n",
      "12.035192838781882 {'bootstrap': False, 'max_features': 3, 'n_estimators': 10}\n",
      "13.34115643512417 {'bootstrap': False, 'max_features': 4, 'n_estimators': 3}\n",
      "11.298308132931526 {'bootstrap': False, 'max_features': 4, 'n_estimators': 10}\n"
     ]
    }
   ],
   "source": [
    "cvres = grid_search.cv_results_\n",
    "for mean_score, params in zip(cvres[\"mean_test_score\"], cvres[\"params\"]):\n",
    "    print(np.sqrt(-mean_score), params)"
   ]
  },
  {
   "cell_type": "code",
   "execution_count": 92,
   "id": "handy-wells",
   "metadata": {
    "execution": {
     "iopub.execute_input": "2021-06-24T03:16:19.405150Z",
     "iopub.status.busy": "2021-06-24T03:16:19.404493Z",
     "iopub.status.idle": "2021-06-24T03:16:19.408991Z",
     "shell.execute_reply": "2021-06-24T03:16:19.409589Z",
     "shell.execute_reply.started": "2021-06-23T06:45:29.082357Z"
    },
    "papermill": {
     "duration": 0.189402,
     "end_time": "2021-06-24T03:16:19.409757",
     "exception": false,
     "start_time": "2021-06-24T03:16:19.220355",
     "status": "completed"
    },
    "tags": []
   },
   "outputs": [
    {
     "data": {
      "text/html": [
       "<div>\n",
       "<style scoped>\n",
       "    .dataframe tbody tr th:only-of-type {\n",
       "        vertical-align: middle;\n",
       "    }\n",
       "\n",
       "    .dataframe tbody tr th {\n",
       "        vertical-align: top;\n",
       "    }\n",
       "\n",
       "    .dataframe thead th {\n",
       "        text-align: right;\n",
       "    }\n",
       "</style>\n",
       "<table border=\"1\" class=\"dataframe\">\n",
       "  <thead>\n",
       "    <tr style=\"text-align: right;\">\n",
       "      <th></th>\n",
       "      <th>mean_fit_time</th>\n",
       "      <th>std_fit_time</th>\n",
       "      <th>mean_score_time</th>\n",
       "      <th>std_score_time</th>\n",
       "      <th>param_max_features</th>\n",
       "      <th>param_n_estimators</th>\n",
       "      <th>param_bootstrap</th>\n",
       "      <th>params</th>\n",
       "      <th>split0_test_score</th>\n",
       "      <th>split1_test_score</th>\n",
       "      <th>...</th>\n",
       "      <th>mean_test_score</th>\n",
       "      <th>std_test_score</th>\n",
       "      <th>rank_test_score</th>\n",
       "      <th>split0_train_score</th>\n",
       "      <th>split1_train_score</th>\n",
       "      <th>split2_train_score</th>\n",
       "      <th>split3_train_score</th>\n",
       "      <th>split4_train_score</th>\n",
       "      <th>mean_train_score</th>\n",
       "      <th>std_train_score</th>\n",
       "    </tr>\n",
       "  </thead>\n",
       "  <tbody>\n",
       "    <tr>\n",
       "      <th>0</th>\n",
       "      <td>0.007942</td>\n",
       "      <td>0.000302</td>\n",
       "      <td>0.001173</td>\n",
       "      <td>0.000088</td>\n",
       "      <td>2</td>\n",
       "      <td>3</td>\n",
       "      <td>NaN</td>\n",
       "      <td>{'max_features': 2, 'n_estimators': 3}</td>\n",
       "      <td>-145.171429</td>\n",
       "      <td>-225.543915</td>\n",
       "      <td>...</td>\n",
       "      <td>-189.975450</td>\n",
       "      <td>27.666404</td>\n",
       "      <td>15</td>\n",
       "      <td>-45.204762</td>\n",
       "      <td>-69.165873</td>\n",
       "      <td>-45.107937</td>\n",
       "      <td>-51.160317</td>\n",
       "      <td>-51.291005</td>\n",
       "      <td>-52.385979</td>\n",
       "      <td>8.818229</td>\n",
       "    </tr>\n",
       "    <tr>\n",
       "      <th>1</th>\n",
       "      <td>0.022322</td>\n",
       "      <td>0.000181</td>\n",
       "      <td>0.001878</td>\n",
       "      <td>0.000017</td>\n",
       "      <td>2</td>\n",
       "      <td>10</td>\n",
       "      <td>NaN</td>\n",
       "      <td>{'max_features': 2, 'n_estimators': 10}</td>\n",
       "      <td>-110.900095</td>\n",
       "      <td>-184.801143</td>\n",
       "      <td>...</td>\n",
       "      <td>-156.022286</td>\n",
       "      <td>30.047132</td>\n",
       "      <td>10</td>\n",
       "      <td>-22.781714</td>\n",
       "      <td>-36.469071</td>\n",
       "      <td>-26.586762</td>\n",
       "      <td>-30.978810</td>\n",
       "      <td>-25.947214</td>\n",
       "      <td>-28.552714</td>\n",
       "      <td>4.743684</td>\n",
       "    </tr>\n",
       "    <tr>\n",
       "      <th>2</th>\n",
       "      <td>0.064212</td>\n",
       "      <td>0.000469</td>\n",
       "      <td>0.003854</td>\n",
       "      <td>0.000024</td>\n",
       "      <td>2</td>\n",
       "      <td>30</td>\n",
       "      <td>NaN</td>\n",
       "      <td>{'max_features': 2, 'n_estimators': 30}</td>\n",
       "      <td>-97.230169</td>\n",
       "      <td>-134.723429</td>\n",
       "      <td>...</td>\n",
       "      <td>-129.561113</td>\n",
       "      <td>26.104218</td>\n",
       "      <td>5</td>\n",
       "      <td>-19.209913</td>\n",
       "      <td>-25.434865</td>\n",
       "      <td>-22.055712</td>\n",
       "      <td>-20.261651</td>\n",
       "      <td>-17.686667</td>\n",
       "      <td>-20.929761</td>\n",
       "      <td>2.664043</td>\n",
       "    </tr>\n",
       "    <tr>\n",
       "      <th>3</th>\n",
       "      <td>0.007921</td>\n",
       "      <td>0.000153</td>\n",
       "      <td>0.001118</td>\n",
       "      <td>0.000030</td>\n",
       "      <td>4</td>\n",
       "      <td>3</td>\n",
       "      <td>NaN</td>\n",
       "      <td>{'max_features': 4, 'n_estimators': 3}</td>\n",
       "      <td>-120.953439</td>\n",
       "      <td>-165.455026</td>\n",
       "      <td>...</td>\n",
       "      <td>-200.435344</td>\n",
       "      <td>82.976824</td>\n",
       "      <td>16</td>\n",
       "      <td>-40.400529</td>\n",
       "      <td>-31.047619</td>\n",
       "      <td>-60.716667</td>\n",
       "      <td>-41.798942</td>\n",
       "      <td>-67.457407</td>\n",
       "      <td>-48.284233</td>\n",
       "      <td>13.590354</td>\n",
       "    </tr>\n",
       "    <tr>\n",
       "      <th>4</th>\n",
       "      <td>0.022663</td>\n",
       "      <td>0.000166</td>\n",
       "      <td>0.001909</td>\n",
       "      <td>0.000032</td>\n",
       "      <td>4</td>\n",
       "      <td>10</td>\n",
       "      <td>NaN</td>\n",
       "      <td>{'max_features': 4, 'n_estimators': 10}</td>\n",
       "      <td>-123.113810</td>\n",
       "      <td>-97.421524</td>\n",
       "      <td>...</td>\n",
       "      <td>-149.587657</td>\n",
       "      <td>57.960124</td>\n",
       "      <td>9</td>\n",
       "      <td>-23.781833</td>\n",
       "      <td>-17.082667</td>\n",
       "      <td>-28.214571</td>\n",
       "      <td>-22.503238</td>\n",
       "      <td>-45.335714</td>\n",
       "      <td>-27.383605</td>\n",
       "      <td>9.652656</td>\n",
       "    </tr>\n",
       "    <tr>\n",
       "      <th>5</th>\n",
       "      <td>0.064604</td>\n",
       "      <td>0.000440</td>\n",
       "      <td>0.004012</td>\n",
       "      <td>0.000336</td>\n",
       "      <td>4</td>\n",
       "      <td>30</td>\n",
       "      <td>NaN</td>\n",
       "      <td>{'max_features': 4, 'n_estimators': 30}</td>\n",
       "      <td>-114.199439</td>\n",
       "      <td>-100.856296</td>\n",
       "      <td>...</td>\n",
       "      <td>-127.589346</td>\n",
       "      <td>38.143413</td>\n",
       "      <td>3</td>\n",
       "      <td>-20.444730</td>\n",
       "      <td>-17.618653</td>\n",
       "      <td>-18.089124</td>\n",
       "      <td>-18.010545</td>\n",
       "      <td>-25.114659</td>\n",
       "      <td>-19.855542</td>\n",
       "      <td>2.811881</td>\n",
       "    </tr>\n",
       "    <tr>\n",
       "      <th>6</th>\n",
       "      <td>0.007842</td>\n",
       "      <td>0.000083</td>\n",
       "      <td>0.001065</td>\n",
       "      <td>0.000017</td>\n",
       "      <td>6</td>\n",
       "      <td>3</td>\n",
       "      <td>NaN</td>\n",
       "      <td>{'max_features': 6, 'n_estimators': 3}</td>\n",
       "      <td>-65.736508</td>\n",
       "      <td>-236.198942</td>\n",
       "      <td>...</td>\n",
       "      <td>-177.526772</td>\n",
       "      <td>64.430254</td>\n",
       "      <td>13</td>\n",
       "      <td>-30.713492</td>\n",
       "      <td>-71.186243</td>\n",
       "      <td>-56.849735</td>\n",
       "      <td>-45.492063</td>\n",
       "      <td>-47.147619</td>\n",
       "      <td>-50.277831</td>\n",
       "      <td>13.385192</td>\n",
       "    </tr>\n",
       "    <tr>\n",
       "      <th>7</th>\n",
       "      <td>0.023026</td>\n",
       "      <td>0.000248</td>\n",
       "      <td>0.001913</td>\n",
       "      <td>0.000048</td>\n",
       "      <td>6</td>\n",
       "      <td>10</td>\n",
       "      <td>NaN</td>\n",
       "      <td>{'max_features': 6, 'n_estimators': 10}</td>\n",
       "      <td>-89.850381</td>\n",
       "      <td>-124.624286</td>\n",
       "      <td>...</td>\n",
       "      <td>-136.020724</td>\n",
       "      <td>37.445087</td>\n",
       "      <td>7</td>\n",
       "      <td>-25.378690</td>\n",
       "      <td>-27.556000</td>\n",
       "      <td>-23.909119</td>\n",
       "      <td>-28.172595</td>\n",
       "      <td>-23.956357</td>\n",
       "      <td>-25.794552</td>\n",
       "      <td>1.781266</td>\n",
       "    </tr>\n",
       "    <tr>\n",
       "      <th>8</th>\n",
       "      <td>0.064555</td>\n",
       "      <td>0.000753</td>\n",
       "      <td>0.003766</td>\n",
       "      <td>0.000106</td>\n",
       "      <td>6</td>\n",
       "      <td>30</td>\n",
       "      <td>NaN</td>\n",
       "      <td>{'max_features': 6, 'n_estimators': 30}</td>\n",
       "      <td>-97.578807</td>\n",
       "      <td>-105.300878</td>\n",
       "      <td>...</td>\n",
       "      <td>-118.268786</td>\n",
       "      <td>22.897397</td>\n",
       "      <td>2</td>\n",
       "      <td>-20.343466</td>\n",
       "      <td>-20.186307</td>\n",
       "      <td>-17.957630</td>\n",
       "      <td>-19.744796</td>\n",
       "      <td>-13.294206</td>\n",
       "      <td>-18.305281</td>\n",
       "      <td>2.645615</td>\n",
       "    </tr>\n",
       "    <tr>\n",
       "      <th>9</th>\n",
       "      <td>0.007939</td>\n",
       "      <td>0.000121</td>\n",
       "      <td>0.001102</td>\n",
       "      <td>0.000052</td>\n",
       "      <td>8</td>\n",
       "      <td>3</td>\n",
       "      <td>NaN</td>\n",
       "      <td>{'max_features': 8, 'n_estimators': 3}</td>\n",
       "      <td>-127.681481</td>\n",
       "      <td>-198.247619</td>\n",
       "      <td>...</td>\n",
       "      <td>-201.366984</td>\n",
       "      <td>45.995502</td>\n",
       "      <td>17</td>\n",
       "      <td>-26.715873</td>\n",
       "      <td>-42.741005</td>\n",
       "      <td>-40.212963</td>\n",
       "      <td>-66.487566</td>\n",
       "      <td>-50.438360</td>\n",
       "      <td>-45.319153</td>\n",
       "      <td>13.062236</td>\n",
       "    </tr>\n",
       "    <tr>\n",
       "      <th>10</th>\n",
       "      <td>0.022833</td>\n",
       "      <td>0.000144</td>\n",
       "      <td>0.001858</td>\n",
       "      <td>0.000023</td>\n",
       "      <td>8</td>\n",
       "      <td>10</td>\n",
       "      <td>NaN</td>\n",
       "      <td>{'max_features': 8, 'n_estimators': 10}</td>\n",
       "      <td>-88.013619</td>\n",
       "      <td>-129.432286</td>\n",
       "      <td>...</td>\n",
       "      <td>-132.380438</td>\n",
       "      <td>38.846618</td>\n",
       "      <td>6</td>\n",
       "      <td>-16.025833</td>\n",
       "      <td>-24.300857</td>\n",
       "      <td>-20.468429</td>\n",
       "      <td>-25.667595</td>\n",
       "      <td>-29.880190</td>\n",
       "      <td>-23.268581</td>\n",
       "      <td>4.708131</td>\n",
       "    </tr>\n",
       "    <tr>\n",
       "      <th>11</th>\n",
       "      <td>0.064818</td>\n",
       "      <td>0.000491</td>\n",
       "      <td>0.003719</td>\n",
       "      <td>0.000023</td>\n",
       "      <td>8</td>\n",
       "      <td>30</td>\n",
       "      <td>NaN</td>\n",
       "      <td>{'max_features': 8, 'n_estimators': 30}</td>\n",
       "      <td>-91.725820</td>\n",
       "      <td>-104.829005</td>\n",
       "      <td>...</td>\n",
       "      <td>-116.310332</td>\n",
       "      <td>29.592997</td>\n",
       "      <td>1</td>\n",
       "      <td>-15.873839</td>\n",
       "      <td>-16.480860</td>\n",
       "      <td>-17.638926</td>\n",
       "      <td>-18.728368</td>\n",
       "      <td>-17.028270</td>\n",
       "      <td>-17.150052</td>\n",
       "      <td>0.981982</td>\n",
       "    </tr>\n",
       "    <tr>\n",
       "      <th>12</th>\n",
       "      <td>0.007539</td>\n",
       "      <td>0.000209</td>\n",
       "      <td>0.001180</td>\n",
       "      <td>0.000052</td>\n",
       "      <td>2</td>\n",
       "      <td>3</td>\n",
       "      <td>False</td>\n",
       "      <td>{'bootstrap': False, 'max_features': 2, 'n_est...</td>\n",
       "      <td>-130.406349</td>\n",
       "      <td>-208.106878</td>\n",
       "      <td>...</td>\n",
       "      <td>-217.366984</td>\n",
       "      <td>73.678172</td>\n",
       "      <td>18</td>\n",
       "      <td>-0.000529</td>\n",
       "      <td>-0.000529</td>\n",
       "      <td>-0.000529</td>\n",
       "      <td>-0.000000</td>\n",
       "      <td>-0.000529</td>\n",
       "      <td>-0.000423</td>\n",
       "      <td>0.000212</td>\n",
       "    </tr>\n",
       "    <tr>\n",
       "      <th>13</th>\n",
       "      <td>0.020699</td>\n",
       "      <td>0.000118</td>\n",
       "      <td>0.002071</td>\n",
       "      <td>0.000025</td>\n",
       "      <td>2</td>\n",
       "      <td>10</td>\n",
       "      <td>False</td>\n",
       "      <td>{'bootstrap': False, 'max_features': 2, 'n_est...</td>\n",
       "      <td>-117.095238</td>\n",
       "      <td>-171.470381</td>\n",
       "      <td>...</td>\n",
       "      <td>-162.540533</td>\n",
       "      <td>28.434103</td>\n",
       "      <td>11</td>\n",
       "      <td>-0.000429</td>\n",
       "      <td>-0.000048</td>\n",
       "      <td>-1.620190</td>\n",
       "      <td>-0.000000</td>\n",
       "      <td>-0.000238</td>\n",
       "      <td>-0.324181</td>\n",
       "      <td>0.648005</td>\n",
       "    </tr>\n",
       "    <tr>\n",
       "      <th>14</th>\n",
       "      <td>0.007946</td>\n",
       "      <td>0.001115</td>\n",
       "      <td>0.001149</td>\n",
       "      <td>0.000145</td>\n",
       "      <td>3</td>\n",
       "      <td>3</td>\n",
       "      <td>False</td>\n",
       "      <td>{'bootstrap': False, 'max_features': 3, 'n_est...</td>\n",
       "      <td>-128.692063</td>\n",
       "      <td>-166.933333</td>\n",
       "      <td>...</td>\n",
       "      <td>-177.083810</td>\n",
       "      <td>27.845522</td>\n",
       "      <td>12</td>\n",
       "      <td>-0.002116</td>\n",
       "      <td>-0.000000</td>\n",
       "      <td>-0.000000</td>\n",
       "      <td>-0.000000</td>\n",
       "      <td>-0.000000</td>\n",
       "      <td>-0.000423</td>\n",
       "      <td>0.000847</td>\n",
       "    </tr>\n",
       "    <tr>\n",
       "      <th>15</th>\n",
       "      <td>0.024558</td>\n",
       "      <td>0.003191</td>\n",
       "      <td>0.002301</td>\n",
       "      <td>0.000416</td>\n",
       "      <td>3</td>\n",
       "      <td>10</td>\n",
       "      <td>False</td>\n",
       "      <td>{'bootstrap': False, 'max_features': 3, 'n_est...</td>\n",
       "      <td>-90.740190</td>\n",
       "      <td>-118.211524</td>\n",
       "      <td>...</td>\n",
       "      <td>-144.845867</td>\n",
       "      <td>41.254670</td>\n",
       "      <td>8</td>\n",
       "      <td>-0.000238</td>\n",
       "      <td>-0.000667</td>\n",
       "      <td>-0.000048</td>\n",
       "      <td>-0.000000</td>\n",
       "      <td>-0.004000</td>\n",
       "      <td>-0.000990</td>\n",
       "      <td>0.001523</td>\n",
       "    </tr>\n",
       "    <tr>\n",
       "      <th>16</th>\n",
       "      <td>0.007515</td>\n",
       "      <td>0.000143</td>\n",
       "      <td>0.001143</td>\n",
       "      <td>0.000051</td>\n",
       "      <td>4</td>\n",
       "      <td>3</td>\n",
       "      <td>False</td>\n",
       "      <td>{'bootstrap': False, 'max_features': 4, 'n_est...</td>\n",
       "      <td>-125.861376</td>\n",
       "      <td>-99.123810</td>\n",
       "      <td>...</td>\n",
       "      <td>-177.986455</td>\n",
       "      <td>62.583417</td>\n",
       "      <td>14</td>\n",
       "      <td>-0.000529</td>\n",
       "      <td>-0.047090</td>\n",
       "      <td>-0.002116</td>\n",
       "      <td>-0.000000</td>\n",
       "      <td>-0.010582</td>\n",
       "      <td>-0.012063</td>\n",
       "      <td>0.017925</td>\n",
       "    </tr>\n",
       "    <tr>\n",
       "      <th>17</th>\n",
       "      <td>0.020959</td>\n",
       "      <td>0.000119</td>\n",
       "      <td>0.002020</td>\n",
       "      <td>0.000012</td>\n",
       "      <td>4</td>\n",
       "      <td>10</td>\n",
       "      <td>False</td>\n",
       "      <td>{'bootstrap': False, 'max_features': 4, 'n_est...</td>\n",
       "      <td>-108.813976</td>\n",
       "      <td>-97.644381</td>\n",
       "      <td>...</td>\n",
       "      <td>-127.651767</td>\n",
       "      <td>27.480390</td>\n",
       "      <td>4</td>\n",
       "      <td>-0.007345</td>\n",
       "      <td>-0.008000</td>\n",
       "      <td>-0.000190</td>\n",
       "      <td>-0.037286</td>\n",
       "      <td>-0.033143</td>\n",
       "      <td>-0.017193</td>\n",
       "      <td>0.015025</td>\n",
       "    </tr>\n",
       "  </tbody>\n",
       "</table>\n",
       "<p>18 rows × 23 columns</p>\n",
       "</div>"
      ],
      "text/plain": [
       "    mean_fit_time  std_fit_time  mean_score_time  std_score_time  \\\n",
       "0        0.007942      0.000302         0.001173        0.000088   \n",
       "1        0.022322      0.000181         0.001878        0.000017   \n",
       "2        0.064212      0.000469         0.003854        0.000024   \n",
       "3        0.007921      0.000153         0.001118        0.000030   \n",
       "4        0.022663      0.000166         0.001909        0.000032   \n",
       "5        0.064604      0.000440         0.004012        0.000336   \n",
       "6        0.007842      0.000083         0.001065        0.000017   \n",
       "7        0.023026      0.000248         0.001913        0.000048   \n",
       "8        0.064555      0.000753         0.003766        0.000106   \n",
       "9        0.007939      0.000121         0.001102        0.000052   \n",
       "10       0.022833      0.000144         0.001858        0.000023   \n",
       "11       0.064818      0.000491         0.003719        0.000023   \n",
       "12       0.007539      0.000209         0.001180        0.000052   \n",
       "13       0.020699      0.000118         0.002071        0.000025   \n",
       "14       0.007946      0.001115         0.001149        0.000145   \n",
       "15       0.024558      0.003191         0.002301        0.000416   \n",
       "16       0.007515      0.000143         0.001143        0.000051   \n",
       "17       0.020959      0.000119         0.002020        0.000012   \n",
       "\n",
       "   param_max_features param_n_estimators param_bootstrap  \\\n",
       "0                   2                  3             NaN   \n",
       "1                   2                 10             NaN   \n",
       "2                   2                 30             NaN   \n",
       "3                   4                  3             NaN   \n",
       "4                   4                 10             NaN   \n",
       "5                   4                 30             NaN   \n",
       "6                   6                  3             NaN   \n",
       "7                   6                 10             NaN   \n",
       "8                   6                 30             NaN   \n",
       "9                   8                  3             NaN   \n",
       "10                  8                 10             NaN   \n",
       "11                  8                 30             NaN   \n",
       "12                  2                  3           False   \n",
       "13                  2                 10           False   \n",
       "14                  3                  3           False   \n",
       "15                  3                 10           False   \n",
       "16                  4                  3           False   \n",
       "17                  4                 10           False   \n",
       "\n",
       "                                               params  split0_test_score  \\\n",
       "0              {'max_features': 2, 'n_estimators': 3}        -145.171429   \n",
       "1             {'max_features': 2, 'n_estimators': 10}        -110.900095   \n",
       "2             {'max_features': 2, 'n_estimators': 30}         -97.230169   \n",
       "3              {'max_features': 4, 'n_estimators': 3}        -120.953439   \n",
       "4             {'max_features': 4, 'n_estimators': 10}        -123.113810   \n",
       "5             {'max_features': 4, 'n_estimators': 30}        -114.199439   \n",
       "6              {'max_features': 6, 'n_estimators': 3}         -65.736508   \n",
       "7             {'max_features': 6, 'n_estimators': 10}         -89.850381   \n",
       "8             {'max_features': 6, 'n_estimators': 30}         -97.578807   \n",
       "9              {'max_features': 8, 'n_estimators': 3}        -127.681481   \n",
       "10            {'max_features': 8, 'n_estimators': 10}         -88.013619   \n",
       "11            {'max_features': 8, 'n_estimators': 30}         -91.725820   \n",
       "12  {'bootstrap': False, 'max_features': 2, 'n_est...        -130.406349   \n",
       "13  {'bootstrap': False, 'max_features': 2, 'n_est...        -117.095238   \n",
       "14  {'bootstrap': False, 'max_features': 3, 'n_est...        -128.692063   \n",
       "15  {'bootstrap': False, 'max_features': 3, 'n_est...         -90.740190   \n",
       "16  {'bootstrap': False, 'max_features': 4, 'n_est...        -125.861376   \n",
       "17  {'bootstrap': False, 'max_features': 4, 'n_est...        -108.813976   \n",
       "\n",
       "    split1_test_score  ...  mean_test_score  std_test_score  rank_test_score  \\\n",
       "0         -225.543915  ...      -189.975450       27.666404               15   \n",
       "1         -184.801143  ...      -156.022286       30.047132               10   \n",
       "2         -134.723429  ...      -129.561113       26.104218                5   \n",
       "3         -165.455026  ...      -200.435344       82.976824               16   \n",
       "4          -97.421524  ...      -149.587657       57.960124                9   \n",
       "5         -100.856296  ...      -127.589346       38.143413                3   \n",
       "6         -236.198942  ...      -177.526772       64.430254               13   \n",
       "7         -124.624286  ...      -136.020724       37.445087                7   \n",
       "8         -105.300878  ...      -118.268786       22.897397                2   \n",
       "9         -198.247619  ...      -201.366984       45.995502               17   \n",
       "10        -129.432286  ...      -132.380438       38.846618                6   \n",
       "11        -104.829005  ...      -116.310332       29.592997                1   \n",
       "12        -208.106878  ...      -217.366984       73.678172               18   \n",
       "13        -171.470381  ...      -162.540533       28.434103               11   \n",
       "14        -166.933333  ...      -177.083810       27.845522               12   \n",
       "15        -118.211524  ...      -144.845867       41.254670                8   \n",
       "16         -99.123810  ...      -177.986455       62.583417               14   \n",
       "17         -97.644381  ...      -127.651767       27.480390                4   \n",
       "\n",
       "    split0_train_score  split1_train_score  split2_train_score  \\\n",
       "0           -45.204762          -69.165873          -45.107937   \n",
       "1           -22.781714          -36.469071          -26.586762   \n",
       "2           -19.209913          -25.434865          -22.055712   \n",
       "3           -40.400529          -31.047619          -60.716667   \n",
       "4           -23.781833          -17.082667          -28.214571   \n",
       "5           -20.444730          -17.618653          -18.089124   \n",
       "6           -30.713492          -71.186243          -56.849735   \n",
       "7           -25.378690          -27.556000          -23.909119   \n",
       "8           -20.343466          -20.186307          -17.957630   \n",
       "9           -26.715873          -42.741005          -40.212963   \n",
       "10          -16.025833          -24.300857          -20.468429   \n",
       "11          -15.873839          -16.480860          -17.638926   \n",
       "12           -0.000529           -0.000529           -0.000529   \n",
       "13           -0.000429           -0.000048           -1.620190   \n",
       "14           -0.002116           -0.000000           -0.000000   \n",
       "15           -0.000238           -0.000667           -0.000048   \n",
       "16           -0.000529           -0.047090           -0.002116   \n",
       "17           -0.007345           -0.008000           -0.000190   \n",
       "\n",
       "    split3_train_score  split4_train_score  mean_train_score  std_train_score  \n",
       "0           -51.160317          -51.291005        -52.385979         8.818229  \n",
       "1           -30.978810          -25.947214        -28.552714         4.743684  \n",
       "2           -20.261651          -17.686667        -20.929761         2.664043  \n",
       "3           -41.798942          -67.457407        -48.284233        13.590354  \n",
       "4           -22.503238          -45.335714        -27.383605         9.652656  \n",
       "5           -18.010545          -25.114659        -19.855542         2.811881  \n",
       "6           -45.492063          -47.147619        -50.277831        13.385192  \n",
       "7           -28.172595          -23.956357        -25.794552         1.781266  \n",
       "8           -19.744796          -13.294206        -18.305281         2.645615  \n",
       "9           -66.487566          -50.438360        -45.319153        13.062236  \n",
       "10          -25.667595          -29.880190        -23.268581         4.708131  \n",
       "11          -18.728368          -17.028270        -17.150052         0.981982  \n",
       "12           -0.000000           -0.000529         -0.000423         0.000212  \n",
       "13           -0.000000           -0.000238         -0.324181         0.648005  \n",
       "14           -0.000000           -0.000000         -0.000423         0.000847  \n",
       "15           -0.000000           -0.004000         -0.000990         0.001523  \n",
       "16           -0.000000           -0.010582         -0.012063         0.017925  \n",
       "17           -0.037286           -0.033143         -0.017193         0.015025  \n",
       "\n",
       "[18 rows x 23 columns]"
      ]
     },
     "execution_count": 92,
     "metadata": {},
     "output_type": "execute_result"
    }
   ],
   "source": [
    "pd.DataFrame(grid_search.cv_results_)"
   ]
  },
  {
   "cell_type": "code",
   "execution_count": 93,
   "id": "offensive-spiritual",
   "metadata": {
    "execution": {
     "iopub.execute_input": "2021-06-24T03:16:19.702357Z",
     "iopub.status.busy": "2021-06-24T03:16:19.698200Z",
     "iopub.status.idle": "2021-06-24T03:16:19.704295Z",
     "shell.execute_reply": "2021-06-24T03:16:19.704807Z",
     "shell.execute_reply.started": "2021-06-23T06:45:29.137682Z"
    },
    "papermill": {
     "duration": 0.155584,
     "end_time": "2021-06-24T03:16:19.704997",
     "exception": false,
     "start_time": "2021-06-24T03:16:19.549413",
     "status": "completed"
    },
    "tags": []
   },
   "outputs": [],
   "source": [
    "final_model = grid_search.best_estimator_\n",
    "\n",
    "X_test = strat_test_set.drop(\"Runtime\", axis=1)\n",
    "y_test = strat_test_set[\"Runtime\"].copy()\n",
    "\n",
    "X_test_prepared = full_pipeline.transform(X_test)\n",
    "final_predictions = final_model.predict(X_test_prepared)\n",
    "\n",
    "final_mse = mean_squared_error(y_test, final_predictions)\n",
    "final_rmse = np.sqrt(final_mse)"
   ]
  },
  {
   "cell_type": "code",
   "execution_count": 94,
   "id": "successful-spokesman",
   "metadata": {
    "execution": {
     "iopub.execute_input": "2021-06-24T03:16:19.988911Z",
     "iopub.status.busy": "2021-06-24T03:16:19.988278Z",
     "iopub.status.idle": "2021-06-24T03:16:19.992813Z",
     "shell.execute_reply": "2021-06-24T03:16:19.993358Z",
     "shell.execute_reply.started": "2021-06-23T06:45:29.155786Z"
    },
    "papermill": {
     "duration": 0.148443,
     "end_time": "2021-06-24T03:16:19.993526",
     "exception": false,
     "start_time": "2021-06-24T03:16:19.845083",
     "status": "completed"
    },
    "tags": []
   },
   "outputs": [
    {
     "data": {
      "text/plain": [
       "8.34712248985483"
      ]
     },
     "execution_count": 94,
     "metadata": {},
     "output_type": "execute_result"
    }
   ],
   "source": [
    "final_rmse"
   ]
  },
  {
   "cell_type": "code",
   "execution_count": 95,
   "id": "coupled-roulette",
   "metadata": {
    "execution": {
     "iopub.execute_input": "2021-06-24T03:16:20.275646Z",
     "iopub.status.busy": "2021-06-24T03:16:20.275057Z",
     "iopub.status.idle": "2021-06-24T03:16:20.278286Z",
     "shell.execute_reply": "2021-06-24T03:16:20.278832Z",
     "shell.execute_reply.started": "2021-06-23T06:45:29.165837Z"
    },
    "papermill": {
     "duration": 0.146397,
     "end_time": "2021-06-24T03:16:20.279044",
     "exception": false,
     "start_time": "2021-06-24T03:16:20.132647",
     "status": "completed"
    },
    "tags": []
   },
   "outputs": [],
   "source": [
    "from scipy import stats"
   ]
  },
  {
   "cell_type": "code",
   "execution_count": 96,
   "id": "unlikely-overview",
   "metadata": {
    "execution": {
     "iopub.execute_input": "2021-06-24T03:16:20.561474Z",
     "iopub.status.busy": "2021-06-24T03:16:20.560763Z",
     "iopub.status.idle": "2021-06-24T03:16:20.573054Z",
     "shell.execute_reply": "2021-06-24T03:16:20.572422Z",
     "shell.execute_reply.started": "2021-06-23T06:45:29.177891Z"
    },
    "papermill": {
     "duration": 0.155409,
     "end_time": "2021-06-24T03:16:20.573222",
     "exception": false,
     "start_time": "2021-06-24T03:16:20.417813",
     "status": "completed"
    },
    "tags": []
   },
   "outputs": [
    {
     "data": {
      "text/plain": [
       "array([ 5.0708514 , 10.65998939])"
      ]
     },
     "execution_count": 96,
     "metadata": {},
     "output_type": "execute_result"
    }
   ],
   "source": [
    "confidence = 0.95\n",
    "squared_errors = (final_predictions - y_test) ** 2\n",
    "mean = squared_errors.mean()\n",
    "m = len(squared_errors)\n",
    "\n",
    "np.sqrt(stats.t.interval(confidence, m - 1,\n",
    "                         loc=np.mean(squared_errors),\n",
    "                         scale=stats.sem(squared_errors)))"
   ]
  },
  {
   "cell_type": "code",
   "execution_count": 97,
   "id": "fallen-recovery",
   "metadata": {
    "execution": {
     "iopub.execute_input": "2021-06-24T03:16:20.858175Z",
     "iopub.status.busy": "2021-06-24T03:16:20.857437Z",
     "iopub.status.idle": "2021-06-24T03:16:20.864431Z",
     "shell.execute_reply": "2021-06-24T03:16:20.864863Z",
     "shell.execute_reply.started": "2021-06-23T06:45:29.195077Z"
    },
    "papermill": {
     "duration": 0.151664,
     "end_time": "2021-06-24T03:16:20.865082",
     "exception": false,
     "start_time": "2021-06-24T03:16:20.713418",
     "status": "completed"
    },
    "tags": []
   },
   "outputs": [
    {
     "data": {
      "text/plain": [
       "(5.070851401917997, 10.659989389344949)"
      ]
     },
     "execution_count": 97,
     "metadata": {},
     "output_type": "execute_result"
    }
   ],
   "source": [
    "tscore = stats.t.ppf((1 + confidence) / 2, df=m - 1)\n",
    "tmargin = tscore * squared_errors.std(ddof=1) / np.sqrt(m)\n",
    "np.sqrt(mean - tmargin), np.sqrt(mean + tmargin)"
   ]
  },
  {
   "cell_type": "markdown",
   "id": "nominated-above",
   "metadata": {
    "papermill": {
     "duration": 0.143243,
     "end_time": "2021-06-24T03:16:21.150082",
     "exception": false,
     "start_time": "2021-06-24T03:16:21.006839",
     "status": "completed"
    },
    "tags": []
   },
   "source": [
    "Alternatively, we could use a z-scores rather than t-scores:"
   ]
  },
  {
   "cell_type": "code",
   "execution_count": 98,
   "id": "phantom-tackle",
   "metadata": {
    "execution": {
     "iopub.execute_input": "2021-06-24T03:16:21.439075Z",
     "iopub.status.busy": "2021-06-24T03:16:21.438448Z",
     "iopub.status.idle": "2021-06-24T03:16:21.446076Z",
     "shell.execute_reply": "2021-06-24T03:16:21.445518Z",
     "shell.execute_reply.started": "2021-06-23T06:45:29.216493Z"
    },
    "papermill": {
     "duration": 0.149861,
     "end_time": "2021-06-24T03:16:21.446213",
     "exception": false,
     "start_time": "2021-06-24T03:16:21.296352",
     "status": "completed"
    },
    "tags": []
   },
   "outputs": [
    {
     "data": {
      "text/plain": [
       "(5.160475520565385, 10.616892206428679)"
      ]
     },
     "execution_count": 98,
     "metadata": {},
     "output_type": "execute_result"
    }
   ],
   "source": [
    "zscore = stats.norm.ppf((1 + confidence) / 2)\n",
    "zmargin = zscore * squared_errors.std(ddof=1) / np.sqrt(m)\n",
    "np.sqrt(mean - zmargin), np.sqrt(mean + zmargin)"
   ]
  },
  {
   "cell_type": "markdown",
   "id": "passive-specific",
   "metadata": {
    "papermill": {
     "duration": 0.140716,
     "end_time": "2021-06-24T03:16:21.728172",
     "exception": false,
     "start_time": "2021-06-24T03:16:21.587456",
     "status": "completed"
    },
    "tags": []
   },
   "source": [
    "#  ----"
   ]
  }
 ],
 "metadata": {
  "kernelspec": {
   "display_name": "Python 3",
   "language": "python",
   "name": "python3"
  },
  "language_info": {
   "codemirror_mode": {
    "name": "ipython",
    "version": 3
   },
   "file_extension": ".py",
   "mimetype": "text/x-python",
   "name": "python",
   "nbconvert_exporter": "python",
   "pygments_lexer": "ipython3",
   "version": "3.7.10"
  },
  "papermill": {
   "default_parameters": {},
   "duration": 58.269932,
   "end_time": "2021-06-24T03:16:23.240991",
   "environment_variables": {},
   "exception": null,
   "input_path": "__notebook__.ipynb",
   "output_path": "__notebook__.ipynb",
   "parameters": {},
   "start_time": "2021-06-24T03:15:24.971059",
   "version": "2.3.3"
  }
 },
 "nbformat": 4,
 "nbformat_minor": 5
}
